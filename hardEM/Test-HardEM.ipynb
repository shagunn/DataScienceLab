{
 "cells": [
  {
   "cell_type": "code",
   "execution_count": 37,
   "metadata": {},
   "outputs": [],
   "source": [
    "import pandas as pd\n",
    "import numpy as np\n",
    "import copy\n",
    "import sklearn \n",
    "from sklearn.linear_model import LogisticRegression\n",
    "from sklearn.grid_search import GridSearchCV\n",
    "from sklearn.cross_validation import train_test_split\n",
    "import sklearn.metrics as metrics \n",
    "\n",
    "# from sklearn.exceptions import DeprecationWarning\n",
    "import warnings\n",
    "warnings.filterwarnings(action='ignore', category=DeprecationWarning)"
   ]
  },
  {
   "cell_type": "code",
   "execution_count": 38,
   "metadata": {},
   "outputs": [
    {
     "name": "stdout",
     "output_type": "stream",
     "text": [
      "4948\n"
     ]
    }
   ],
   "source": [
    "## create test dataset\n",
    "# A,B,Y = XOR probelm\n",
    "# C = noise \n",
    "a_0 = np.full((2), 0)\n",
    "a_1 = np.full((2), 1)\n",
    "a = np.concatenate((a_0, a_1), axis = 0)\n",
    "a_final = np.tile(a, 2500)\n",
    "\n",
    "b_0 = np.full((1), 0)\n",
    "b_1 = np.full((1), 1)\n",
    "b = np.concatenate((b_0, b_1), axis = 0)\n",
    "b_final = np.tile(b, 5000)\n",
    "\n",
    "c_final = np.random.randint(2, size = 10000)\n",
    "np.random.shuffle(c_final)\n",
    "print(sum(c_final))\n",
    "# c_0 = np.full((5000), 0)\n",
    "# c_1 = np.full((5000), 1)\n",
    "# c_final = np.concatenate((c_0, c_1), axis = 0)\n",
    "# np.random.shuffle(c_final)\n",
    "\n",
    "y_0 = np.array([0,1])\n",
    "y_1 = np.array([1,0])\n",
    "y = np.concatenate((y_0, y_1), axis = 0)\n",
    "y_final = np.tile(y, 2500)"
   ]
  },
  {
   "cell_type": "code",
   "execution_count": 39,
   "metadata": {
    "collapsed": true
   },
   "outputs": [],
   "source": [
    "df_data = pd.DataFrame(index=range(10000), columns=['A','B','C','Y'])"
   ]
  },
  {
   "cell_type": "code",
   "execution_count": 40,
   "metadata": {},
   "outputs": [],
   "source": [
    "df_data['A'] = a_final\n",
    "df_data['B'] = b_final\n",
    "df_data['C'] = c_final\n",
    "df_data['Y'] = y_final"
   ]
  },
  {
   "cell_type": "code",
   "execution_count": 41,
   "metadata": {},
   "outputs": [
    {
     "data": {
      "text/html": [
       "<div>\n",
       "<style>\n",
       "    .dataframe thead tr:only-child th {\n",
       "        text-align: right;\n",
       "    }\n",
       "\n",
       "    .dataframe thead th {\n",
       "        text-align: left;\n",
       "    }\n",
       "\n",
       "    .dataframe tbody tr th {\n",
       "        vertical-align: top;\n",
       "    }\n",
       "</style>\n",
       "<table border=\"1\" class=\"dataframe\">\n",
       "  <thead>\n",
       "    <tr style=\"text-align: right;\">\n",
       "      <th></th>\n",
       "      <th>A</th>\n",
       "      <th>B</th>\n",
       "      <th>C</th>\n",
       "      <th>Y</th>\n",
       "    </tr>\n",
       "  </thead>\n",
       "  <tbody>\n",
       "    <tr>\n",
       "      <th>0</th>\n",
       "      <td>0</td>\n",
       "      <td>0</td>\n",
       "      <td>0</td>\n",
       "      <td>0</td>\n",
       "    </tr>\n",
       "    <tr>\n",
       "      <th>1</th>\n",
       "      <td>0</td>\n",
       "      <td>1</td>\n",
       "      <td>0</td>\n",
       "      <td>1</td>\n",
       "    </tr>\n",
       "    <tr>\n",
       "      <th>2</th>\n",
       "      <td>1</td>\n",
       "      <td>0</td>\n",
       "      <td>0</td>\n",
       "      <td>1</td>\n",
       "    </tr>\n",
       "    <tr>\n",
       "      <th>3</th>\n",
       "      <td>1</td>\n",
       "      <td>1</td>\n",
       "      <td>1</td>\n",
       "      <td>0</td>\n",
       "    </tr>\n",
       "    <tr>\n",
       "      <th>4</th>\n",
       "      <td>0</td>\n",
       "      <td>0</td>\n",
       "      <td>0</td>\n",
       "      <td>0</td>\n",
       "    </tr>\n",
       "  </tbody>\n",
       "</table>\n",
       "</div>"
      ],
      "text/plain": [
       "   A  B  C  Y\n",
       "0  0  0  0  0\n",
       "1  0  1  0  1\n",
       "2  1  0  0  1\n",
       "3  1  1  1  0\n",
       "4  0  0  0  0"
      ]
     },
     "execution_count": 41,
     "metadata": {},
     "output_type": "execute_result"
    }
   ],
   "source": [
    "df_data.head()"
   ]
  },
  {
   "cell_type": "code",
   "execution_count": 42,
   "metadata": {},
   "outputs": [
    {
     "data": {
      "text/html": [
       "<div>\n",
       "<style>\n",
       "    .dataframe thead tr:only-child th {\n",
       "        text-align: right;\n",
       "    }\n",
       "\n",
       "    .dataframe thead th {\n",
       "        text-align: left;\n",
       "    }\n",
       "\n",
       "    .dataframe tbody tr th {\n",
       "        vertical-align: top;\n",
       "    }\n",
       "</style>\n",
       "<table border=\"1\" class=\"dataframe\">\n",
       "  <thead>\n",
       "    <tr style=\"text-align: right;\">\n",
       "      <th></th>\n",
       "      <th>A</th>\n",
       "      <th>B</th>\n",
       "      <th>C</th>\n",
       "      <th>Y</th>\n",
       "    </tr>\n",
       "  </thead>\n",
       "  <tbody>\n",
       "    <tr>\n",
       "      <th>0</th>\n",
       "      <td>0</td>\n",
       "      <td>0</td>\n",
       "      <td>1</td>\n",
       "      <td>0</td>\n",
       "    </tr>\n",
       "    <tr>\n",
       "      <th>1</th>\n",
       "      <td>0</td>\n",
       "      <td>1</td>\n",
       "      <td>0</td>\n",
       "      <td>1</td>\n",
       "    </tr>\n",
       "    <tr>\n",
       "      <th>2</th>\n",
       "      <td>1</td>\n",
       "      <td>0</td>\n",
       "      <td>0</td>\n",
       "      <td>1</td>\n",
       "    </tr>\n",
       "    <tr>\n",
       "      <th>3</th>\n",
       "      <td>0</td>\n",
       "      <td>0</td>\n",
       "      <td>0</td>\n",
       "      <td>0</td>\n",
       "    </tr>\n",
       "    <tr>\n",
       "      <th>4</th>\n",
       "      <td>0</td>\n",
       "      <td>0</td>\n",
       "      <td>1</td>\n",
       "      <td>0</td>\n",
       "    </tr>\n",
       "    <tr>\n",
       "      <th>5</th>\n",
       "      <td>0</td>\n",
       "      <td>1</td>\n",
       "      <td>1</td>\n",
       "      <td>1</td>\n",
       "    </tr>\n",
       "    <tr>\n",
       "      <th>6</th>\n",
       "      <td>0</td>\n",
       "      <td>1</td>\n",
       "      <td>0</td>\n",
       "      <td>1</td>\n",
       "    </tr>\n",
       "    <tr>\n",
       "      <th>7</th>\n",
       "      <td>0</td>\n",
       "      <td>0</td>\n",
       "      <td>1</td>\n",
       "      <td>0</td>\n",
       "    </tr>\n",
       "    <tr>\n",
       "      <th>8</th>\n",
       "      <td>0</td>\n",
       "      <td>1</td>\n",
       "      <td>1</td>\n",
       "      <td>1</td>\n",
       "    </tr>\n",
       "    <tr>\n",
       "      <th>9</th>\n",
       "      <td>1</td>\n",
       "      <td>0</td>\n",
       "      <td>1</td>\n",
       "      <td>1</td>\n",
       "    </tr>\n",
       "  </tbody>\n",
       "</table>\n",
       "</div>"
      ],
      "text/plain": [
       "   A  B  C  Y\n",
       "0  0  0  1  0\n",
       "1  0  1  0  1\n",
       "2  1  0  0  1\n",
       "3  0  0  0  0\n",
       "4  0  0  1  0\n",
       "5  0  1  1  1\n",
       "6  0  1  0  1\n",
       "7  0  0  1  0\n",
       "8  0  1  1  1\n",
       "9  1  0  1  1"
      ]
     },
     "execution_count": 42,
     "metadata": {},
     "output_type": "execute_result"
    }
   ],
   "source": [
    "df_data = df_data.sample(frac=1).reset_index(drop=True)\n",
    "df_data[0:10]"
   ]
  },
  {
   "cell_type": "code",
   "execution_count": 43,
   "metadata": {
    "collapsed": true
   },
   "outputs": [],
   "source": [
    "df_features = df_data[['A','B','C']]\n",
    "df_target = df_data[['Y']]"
   ]
  },
  {
   "cell_type": "markdown",
   "metadata": {},
   "source": [
    "## TEST EM"
   ]
  },
  {
   "cell_type": "code",
   "execution_count": 59,
   "metadata": {
    "collapsed": true
   },
   "outputs": [],
   "source": [
    "# split train test \n",
    "X_train, X_test, Y_train, Y_test = train_test_split(df_features, df_target, stratify=df_target, test_size=0.3)"
   ]
  },
  {
   "cell_type": "code",
   "execution_count": 60,
   "metadata": {},
   "outputs": [
    {
     "data": {
      "text/plain": [
       "(7000, 3)"
      ]
     },
     "execution_count": 60,
     "metadata": {},
     "output_type": "execute_result"
    }
   ],
   "source": [
    "X_train.shape"
   ]
  },
  {
   "cell_type": "code",
   "execution_count": 61,
   "metadata": {},
   "outputs": [
    {
     "data": {
      "text/plain": [
       "(3000, 3)"
      ]
     },
     "execution_count": 61,
     "metadata": {},
     "output_type": "execute_result"
    }
   ],
   "source": [
    "X_test.shape"
   ]
  },
  {
   "cell_type": "code",
   "execution_count": 62,
   "metadata": {},
   "outputs": [
    {
     "name": "stdout",
     "output_type": "stream",
     "text": [
      "(7000, 3)\n",
      "(7000,)\n",
      "(3000, 3)\n",
      "(3000,)\n"
     ]
    }
   ],
   "source": [
    "data = X_train.as_matrix()\n",
    "print(data.shape)\n",
    "\n",
    "target = (Y_train.as_matrix()).ravel()\n",
    "print(target.shape)\n",
    "\n",
    "test_data = X_test.as_matrix()\n",
    "print(test_data.shape)\n",
    "\n",
    "test_target = (Y_test.as_matrix()).ravel()\n",
    "print(test_target.shape)"
   ]
  },
  {
   "cell_type": "code",
   "execution_count": 63,
   "metadata": {},
   "outputs": [
    {
     "data": {
      "text/plain": [
       "array([[1, 1, 0],\n",
       "       [0, 1, 0],\n",
       "       [1, 1, 0],\n",
       "       [0, 0, 1],\n",
       "       [0, 1, 1]])"
      ]
     },
     "execution_count": 63,
     "metadata": {},
     "output_type": "execute_result"
    }
   ],
   "source": [
    "data[0:5]"
   ]
  },
  {
   "cell_type": "code",
   "execution_count": 64,
   "metadata": {},
   "outputs": [
    {
     "data": {
      "text/plain": [
       "array([0, 1, 0, 0, 1])"
      ]
     },
     "execution_count": 64,
     "metadata": {},
     "output_type": "execute_result"
    }
   ],
   "source": [
    "target[0:5]"
   ]
  },
  {
   "cell_type": "code",
   "execution_count": 65,
   "metadata": {},
   "outputs": [
    {
     "data": {
      "text/plain": [
       "0.51800000000000002"
      ]
     },
     "execution_count": 65,
     "metadata": {},
     "output_type": "execute_result"
    }
   ],
   "source": [
    "test_model = LR(data, target)\n",
    "test_model.score(test_data, test_target)"
   ]
  },
  {
   "cell_type": "code",
   "execution_count": 66,
   "metadata": {},
   "outputs": [
    {
     "data": {
      "text/plain": [
       "array([1, 0, 1, ..., 1, 1, 0])"
      ]
     },
     "execution_count": 66,
     "metadata": {},
     "output_type": "execute_result"
    }
   ],
   "source": [
    "# randomly initialize cohort \n",
    "# cohort = np.random.randint(2, size=7000)\n",
    "# cohort[0:10]\n",
    "\n",
    "# initalize cohort by A\n",
    "cohort = copy.deepcopy(data[:,0])\n",
    "cohort"
   ]
  },
  {
   "cell_type": "code",
   "execution_count": 67,
   "metadata": {
    "scrolled": true
   },
   "outputs": [
    {
     "name": "stdout",
     "output_type": "stream",
     "text": [
      "(3532, 3)\n",
      "(3532,)\n",
      "(3468,)\n",
      "ITERATION: 0\n",
      "Cohort 1 Accuracy: 100.0 %\n",
      "Majority Class: 49.8301245753 %\n",
      "cohort size: 50.457142857142856 %\n",
      " \n",
      "Cohort 2 Accuracy: 100.0 %\n",
      "Majority Class 50.1730103806 %\n",
      "cohort size: 49.542857142857144 %\n",
      " \n",
      " \n",
      " \n",
      "num_change 0\n",
      "break\n"
     ]
    }
   ],
   "source": [
    "index_counter = 0\n",
    "num_change = 0\n",
    "while True:\n",
    "    data_1 = data[np.where(cohort == 0)]\n",
    "    print(data_1.shape)\n",
    "    target_1 = target[np.where(cohort == 0)]\n",
    "    print(target_1.shape)\n",
    "\n",
    "\n",
    "    data_2 = data[np.where(cohort == 1)]\n",
    "    target_2 = target[np.where(cohort == 1)]\n",
    "    print(target_2.shape)\n",
    "\n",
    "\n",
    "    cohort1_Model = LR(data_1, target_1)\n",
    "\n",
    "    cohort2_Model = LR(data_2, target_2)\n",
    "    \n",
    "    print('ITERATION:', index_counter)\n",
    "    cohort1_pred = cohort1_Model.predict(data_1) #reshape(-1,1)\n",
    "    cohort1_current_accuracy = metrics.accuracy_score(target_1, cohort1_pred)\n",
    "    print('Cohort 1 Accuracy:', cohort1_current_accuracy*100, '%')\n",
    "    print(\"Majority Class:\", (1 - (sum(target_1)/len(target_1)))*100,'%')\n",
    "    print('cohort size:', (len(target_1)/len(target))*100,'%')\n",
    "    print(\" \")\n",
    "    \n",
    "    cohort2_pred = cohort2_Model.predict(data_2) #reshape(-1,1)\n",
    "    cohort2_current_accuracy = metrics.accuracy_score(target_2, cohort2_pred)\n",
    "    print('Cohort 2 Accuracy:', cohort2_current_accuracy*100, '%')\n",
    "    print(\"Majority Class\", (1 - (sum(target_2)/len(target_2)))*100,'%')\n",
    "    print('cohort size:', (len(target_2)/len(target))*100,'%')\n",
    "    print(\" \")\n",
    "    print(\" \")\n",
    "    print(\" \")\n",
    "\n",
    "    oldcohort = copy.deepcopy(cohort)\n",
    "    \n",
    "    # reassign based on whichever model gives higher probability\n",
    "    for i in range(len(target)):\n",
    "        curr_data = data[i]\n",
    "        if (target[i] == 0):  \n",
    "            if np.any((cohort1_Model.predict_proba(curr_data)[:,0]) > (cohort2_Model.predict_proba(curr_data)[:,0])):\n",
    "                cohort[i] = 0\n",
    "            else:\n",
    "                cohort[i] = 1\n",
    "        else:\n",
    "            if np.any((cohort1_Model.predict_proba(curr_data)[:,1]) > (cohort2_Model.predict_proba(curr_data)[:,1])):\n",
    "                cohort[i] = 0\n",
    "            else:\n",
    "                cohort[i] = 1\n",
    "                    \n",
    "    if sum(np.absolute(np.subtract(oldcohort, cohort))) == 0 or index_counter == 10:\n",
    "        num_change = sum(np.absolute(np.subtract(oldcohort, cohort)))\n",
    "        print('num_change', num_change)\n",
    "        print(\"break\")\n",
    "        break\n",
    "    else:\n",
    "        num_change = sum(np.absolute(np.subtract(oldcohort, cohort)))\n",
    "        print('num_change', num_change)\n",
    "    index_counter += 1"
   ]
  },
  {
   "cell_type": "code",
   "execution_count": 83,
   "metadata": {
    "collapsed": true
   },
   "outputs": [],
   "source": [
    "a = 100\n",
    "b = 11\n",
    "c = 1111"
   ]
  },
  {
   "cell_type": "code",
   "execution_count": 85,
   "metadata": {},
   "outputs": [
    {
     "name": "stdout",
     "output_type": "stream",
     "text": [
      "no\n"
     ]
    }
   ],
   "source": [
    "if a > (b and c):\n",
    "    print('yes')\n",
    "else:\n",
    "    print('no')"
   ]
  },
  {
   "cell_type": "code",
   "execution_count": 68,
   "metadata": {},
   "outputs": [],
   "source": [
    "cohort=cohort.astype('int')\n",
    "cohort_clf = LR(data, cohort)"
   ]
  },
  {
   "cell_type": "code",
   "execution_count": 69,
   "metadata": {},
   "outputs": [
    {
     "data": {
      "text/plain": [
       "array([1, 1, 1, 0, 1, 0, 0, 1, 0, 1, 0, 0, 0, 0, 0, 0, 1, 1, 0, 0, 1, 0, 0,\n",
       "       0, 0, 1, 1, 1, 0, 0, 1, 1, 0, 0, 1, 1, 1, 0, 1, 0, 1, 1, 1, 0, 0, 1,\n",
       "       1, 0, 1, 0, 0, 0, 0, 0, 0, 1, 0, 1, 0, 1, 0, 0, 1, 0, 0, 1, 0, 0, 1,\n",
       "       0, 0, 1, 0, 0, 0, 1, 1, 0, 0, 0, 0, 0, 0, 0, 0, 0, 0, 1, 0, 1, 1, 1,\n",
       "       0, 0, 1, 1, 1, 1, 0, 0])"
      ]
     },
     "execution_count": 69,
     "metadata": {},
     "output_type": "execute_result"
    }
   ],
   "source": [
    "test_cohort = cohort_clf.predict(X_test)\n",
    "\n",
    "test_cohort[0:100]"
   ]
  },
  {
   "cell_type": "code",
   "execution_count": 70,
   "metadata": {
    "collapsed": true
   },
   "outputs": [],
   "source": [
    "testdata_1 = test_data[np.where(test_cohort == 0)]\n",
    "testtarget_1 = test_target[np.where(test_cohort == 0)]\n",
    "\n",
    "testdata_2 = test_data[np.where(test_cohort == 1)]\n",
    "testtarget_2 = test_target[np.where(test_cohort == 1)]"
   ]
  },
  {
   "cell_type": "code",
   "execution_count": 74,
   "metadata": {},
   "outputs": [
    {
     "name": "stdout",
     "output_type": "stream",
     "text": [
      "Accuracy 100.0 %\n",
      "Majority Class 50.408719346 %\n",
      "cohort size: 48.93333333333334 %\n",
      "Accuracy 100.0 %\n",
      "Majority Class 49.6083550914 %\n",
      "cohort size: 51.06666666666667 %\n"
     ]
    }
   ],
   "source": [
    "test_cohort1_pred = cohort1_Model.predict(testdata_1)\n",
    "print('Accuracy', (metrics.accuracy_score(testtarget_1, test_cohort1_pred))*100,'%')\n",
    "print(\"Majority Class\", (1 - (sum(testtarget_1)/len(testtarget_1)))*100,'%')\n",
    "print('cohort size:', (len(testtarget_1)/len(test_target))*100,'%')\n",
    "\n",
    "test_cohort2_pred = cohort2_Model.predict(testdata_2)\n",
    "print('Accuracy', (metrics.accuracy_score(testtarget_2, test_cohort2_pred))*100,'%')\n",
    "print(\"Majority Class\", (1 - (sum(testtarget_2)/len(testtarget_2)))*100,'%')\n",
    "print('cohort size:', (len(testtarget_2)/len(test_target)*100),'%')"
   ]
  },
  {
   "cell_type": "code",
   "execution_count": 75,
   "metadata": {},
   "outputs": [
    {
     "data": {
      "text/plain": [
       "array([[0, 0, 1],\n",
       "       [0, 0, 0],\n",
       "       [0, 0, 0],\n",
       "       [0, 0, 1],\n",
       "       [0, 1, 1],\n",
       "       [0, 0, 1],\n",
       "       [0, 1, 0],\n",
       "       [0, 0, 1],\n",
       "       [0, 0, 0],\n",
       "       [0, 1, 0],\n",
       "       [0, 1, 0],\n",
       "       [0, 0, 0],\n",
       "       [0, 0, 1],\n",
       "       [0, 0, 1],\n",
       "       [0, 1, 1],\n",
       "       [0, 0, 1],\n",
       "       [0, 0, 0],\n",
       "       [0, 0, 0],\n",
       "       [0, 1, 0],\n",
       "       [0, 0, 0],\n",
       "       [0, 0, 0],\n",
       "       [0, 1, 0],\n",
       "       [0, 0, 1],\n",
       "       [0, 1, 1],\n",
       "       [0, 0, 0],\n",
       "       [0, 0, 0],\n",
       "       [0, 0, 1],\n",
       "       [0, 0, 1],\n",
       "       [0, 0, 1],\n",
       "       [0, 0, 0],\n",
       "       [0, 1, 0],\n",
       "       [0, 0, 0],\n",
       "       [0, 0, 1],\n",
       "       [0, 1, 1],\n",
       "       [0, 0, 1],\n",
       "       [0, 0, 1],\n",
       "       [0, 0, 1],\n",
       "       [0, 0, 0],\n",
       "       [0, 0, 0],\n",
       "       [0, 0, 1],\n",
       "       [0, 0, 1],\n",
       "       [0, 1, 0],\n",
       "       [0, 1, 0],\n",
       "       [0, 0, 0],\n",
       "       [0, 1, 0],\n",
       "       [0, 1, 0],\n",
       "       [0, 1, 0],\n",
       "       [0, 0, 0],\n",
       "       [0, 1, 1],\n",
       "       [0, 1, 1]])"
      ]
     },
     "execution_count": 75,
     "metadata": {},
     "output_type": "execute_result"
    }
   ],
   "source": [
    "testdata_1[0:50]"
   ]
  },
  {
   "cell_type": "code",
   "execution_count": 76,
   "metadata": {},
   "outputs": [
    {
     "data": {
      "text/plain": [
       "array([[1, 1, 0],\n",
       "       [1, 0, 0],\n",
       "       [1, 1, 0],\n",
       "       [1, 1, 1],\n",
       "       [1, 1, 1],\n",
       "       [1, 1, 1],\n",
       "       [1, 0, 1],\n",
       "       [1, 1, 0],\n",
       "       [1, 1, 1],\n",
       "       [1, 1, 1],\n",
       "       [1, 0, 0],\n",
       "       [1, 0, 0],\n",
       "       [1, 1, 0],\n",
       "       [1, 1, 0],\n",
       "       [1, 0, 0],\n",
       "       [1, 1, 1],\n",
       "       [1, 1, 0],\n",
       "       [1, 1, 0],\n",
       "       [1, 1, 1],\n",
       "       [1, 0, 1],\n",
       "       [1, 1, 1],\n",
       "       [1, 1, 1],\n",
       "       [1, 0, 0],\n",
       "       [1, 1, 0],\n",
       "       [1, 0, 0],\n",
       "       [1, 1, 1],\n",
       "       [1, 0, 1],\n",
       "       [1, 0, 1],\n",
       "       [1, 0, 1],\n",
       "       [1, 1, 1],\n",
       "       [1, 1, 0],\n",
       "       [1, 1, 0],\n",
       "       [1, 1, 0],\n",
       "       [1, 0, 1],\n",
       "       [1, 1, 1],\n",
       "       [1, 1, 1],\n",
       "       [1, 1, 0],\n",
       "       [1, 0, 1],\n",
       "       [1, 1, 1],\n",
       "       [1, 1, 1],\n",
       "       [1, 1, 1],\n",
       "       [1, 0, 1],\n",
       "       [1, 0, 0],\n",
       "       [1, 1, 0],\n",
       "       [1, 0, 0],\n",
       "       [1, 1, 1],\n",
       "       [1, 1, 1],\n",
       "       [1, 0, 1],\n",
       "       [1, 0, 1],\n",
       "       [1, 1, 0]])"
      ]
     },
     "execution_count": 76,
     "metadata": {},
     "output_type": "execute_result"
    }
   ],
   "source": [
    "testdata_2[0:50]"
   ]
  },
  {
   "cell_type": "code",
   "execution_count": 36,
   "metadata": {
    "collapsed": true
   },
   "outputs": [],
   "source": [
    "def LR(features, target):\n",
    "    \"\"\"\n",
    "    INPUT\n",
    "        features\n",
    "        target\n",
    "    \n",
    "    OUTPUT\n",
    "        optimized clf\n",
    "    \"\"\"\n",
    "\n",
    "    # Create regularization penalty space\n",
    "    penalty = ['l1', 'l2']\n",
    "\n",
    "    # Create regularization hyperparameter space\n",
    "    C = [0.001, 0.01, 0.1, 1, 10, 100, 1000]\n",
    "\n",
    "\n",
    "    # Create hyperparameter options\n",
    "    hyperparameters = dict(C=C, penalty=penalty)\n",
    "    \n",
    "    clf = GridSearchCV(estimator=LogisticRegression(), \n",
    "                    param_grid=hyperparameters,\n",
    "                    cv=5,\n",
    "                    refit=True)\n",
    "\n",
    "    clf.fit(features, target)\n",
    "    optimised_logistic_regression = clf.best_estimator_\n",
    "    return optimised_logistic_regression\n",
    "    "
   ]
  },
  {
   "cell_type": "code",
   "execution_count": null,
   "metadata": {
    "collapsed": true
   },
   "outputs": [],
   "source": []
  }
 ],
 "metadata": {
  "kernelspec": {
   "display_name": "Python [default]",
   "language": "python",
   "name": "python3"
  },
  "language_info": {
   "codemirror_mode": {
    "name": "ipython",
    "version": 3
   },
   "file_extension": ".py",
   "mimetype": "text/x-python",
   "name": "python",
   "nbconvert_exporter": "python",
   "pygments_lexer": "ipython3",
   "version": "3.6.1"
  }
 },
 "nbformat": 4,
 "nbformat_minor": 2
}
