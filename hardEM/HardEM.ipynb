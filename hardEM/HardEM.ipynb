{
 "cells": [
  {
   "cell_type": "code",
   "execution_count": 97,
   "metadata": {},
   "outputs": [],
   "source": [
    "import pandas as pd\n",
    "import numpy as np\n",
    "import copy\n",
    "import sklearn \n",
    "from sklearn.linear_model import LogisticRegression\n",
    "from sklearn.grid_search import GridSearchCV\n",
    "from sklearn.cross_validation import train_test_split\n",
    "import sklearn.metrics as metrics \n",
    "import scipy\n",
    "import scipy.stats as st\n",
    "\n",
    "# from sklearn.exceptions import DeprecationWarning\n",
    "import warnings\n",
    "warnings.filterwarnings(action='ignore', category=DeprecationWarning)"
   ]
  },
  {
   "cell_type": "code",
   "execution_count": 2,
   "metadata": {
    "collapsed": true
   },
   "outputs": [],
   "source": [
    "# Load Data\n",
    "df_features_any = pd.read_csv('features/df_features_any.csv')"
   ]
  },
  {
   "cell_type": "code",
   "execution_count": 3,
   "metadata": {},
   "outputs": [
    {
     "data": {
      "text/html": [
       "<div>\n",
       "<style>\n",
       "    .dataframe thead tr:only-child th {\n",
       "        text-align: right;\n",
       "    }\n",
       "\n",
       "    .dataframe thead th {\n",
       "        text-align: left;\n",
       "    }\n",
       "\n",
       "    .dataframe tbody tr th {\n",
       "        vertical-align: top;\n",
       "    }\n",
       "</style>\n",
       "<table border=\"1\" class=\"dataframe\">\n",
       "  <thead>\n",
       "    <tr style=\"text-align: right;\">\n",
       "      <th></th>\n",
       "      <th>SUBJECT_ID</th>\n",
       "      <th>HADM_ID</th>\n",
       "      <th>ADMISSION_TYPE</th>\n",
       "      <th>ADMISSION_LOCATION</th>\n",
       "      <th>DISCHARGE_LOCATION</th>\n",
       "      <th>INSURANCE</th>\n",
       "      <th>LANGUAGE</th>\n",
       "      <th>RELIGION</th>\n",
       "      <th>MARITAL_STATUS</th>\n",
       "      <th>ETHNICITY</th>\n",
       "      <th>...</th>\n",
       "      <th>AVG_CREAT</th>\n",
       "      <th>MAX_CREAT</th>\n",
       "      <th>MIN_UREA</th>\n",
       "      <th>AVG_UREA</th>\n",
       "      <th>MAX_UREA</th>\n",
       "      <th>MIN_INR</th>\n",
       "      <th>AVG_INR</th>\n",
       "      <th>MAX_INR</th>\n",
       "      <th>THIRTYDAYREADMIT</th>\n",
       "      <th>ONEYEARREADMIT</th>\n",
       "    </tr>\n",
       "  </thead>\n",
       "  <tbody>\n",
       "    <tr>\n",
       "      <th>0</th>\n",
       "      <td>23</td>\n",
       "      <td>152223</td>\n",
       "      <td>ELECTIVE</td>\n",
       "      <td>PHYS REFERRAL/NORMAL DELI</td>\n",
       "      <td>HOME HEALTH CARE</td>\n",
       "      <td>Medicare</td>\n",
       "      <td>NOT STATED</td>\n",
       "      <td>CATHOLIC</td>\n",
       "      <td>MARRIED</td>\n",
       "      <td>WHITE</td>\n",
       "      <td>...</td>\n",
       "      <td>0.72</td>\n",
       "      <td>0.8</td>\n",
       "      <td>14</td>\n",
       "      <td>17.25</td>\n",
       "      <td>20</td>\n",
       "      <td>1.5</td>\n",
       "      <td>1.75</td>\n",
       "      <td>2.0</td>\n",
       "      <td>False</td>\n",
       "      <td>False</td>\n",
       "    </tr>\n",
       "    <tr>\n",
       "      <th>1</th>\n",
       "      <td>24</td>\n",
       "      <td>161859</td>\n",
       "      <td>EMERGENCY</td>\n",
       "      <td>TRANSFER FROM HOSP/EXTRAM</td>\n",
       "      <td>HOME</td>\n",
       "      <td>Private</td>\n",
       "      <td>NOT STATED</td>\n",
       "      <td>PROTESTANT QUAKER</td>\n",
       "      <td>SINGLE</td>\n",
       "      <td>WHITE</td>\n",
       "      <td>...</td>\n",
       "      <td>0.92</td>\n",
       "      <td>1.0</td>\n",
       "      <td>10</td>\n",
       "      <td>11.50</td>\n",
       "      <td>13</td>\n",
       "      <td>1.0</td>\n",
       "      <td>1.00</td>\n",
       "      <td>1.0</td>\n",
       "      <td>False</td>\n",
       "      <td>False</td>\n",
       "    </tr>\n",
       "    <tr>\n",
       "      <th>2</th>\n",
       "      <td>25</td>\n",
       "      <td>129635</td>\n",
       "      <td>EMERGENCY</td>\n",
       "      <td>EMERGENCY ROOM ADMIT</td>\n",
       "      <td>HOME</td>\n",
       "      <td>Private</td>\n",
       "      <td>NOT STATED</td>\n",
       "      <td>UNOBTAINABLE</td>\n",
       "      <td>MARRIED</td>\n",
       "      <td>WHITE</td>\n",
       "      <td>...</td>\n",
       "      <td>1.19</td>\n",
       "      <td>1.6</td>\n",
       "      <td>12</td>\n",
       "      <td>39.56</td>\n",
       "      <td>54</td>\n",
       "      <td>0.9</td>\n",
       "      <td>1.00</td>\n",
       "      <td>1.1</td>\n",
       "      <td>False</td>\n",
       "      <td>False</td>\n",
       "    </tr>\n",
       "    <tr>\n",
       "      <th>3</th>\n",
       "      <td>26</td>\n",
       "      <td>197661</td>\n",
       "      <td>EMERGENCY</td>\n",
       "      <td>TRANSFER FROM HOSP/EXTRAM</td>\n",
       "      <td>HOME</td>\n",
       "      <td>Medicare</td>\n",
       "      <td>NOT STATED</td>\n",
       "      <td>CATHOLIC</td>\n",
       "      <td>SINGLE</td>\n",
       "      <td>UNKNOWN/NOT SPECIFIED</td>\n",
       "      <td>...</td>\n",
       "      <td>1.31</td>\n",
       "      <td>1.4</td>\n",
       "      <td>28</td>\n",
       "      <td>31.50</td>\n",
       "      <td>36</td>\n",
       "      <td>1.2</td>\n",
       "      <td>1.77</td>\n",
       "      <td>2.5</td>\n",
       "      <td>False</td>\n",
       "      <td>False</td>\n",
       "    </tr>\n",
       "    <tr>\n",
       "      <th>4</th>\n",
       "      <td>28</td>\n",
       "      <td>162569</td>\n",
       "      <td>ELECTIVE</td>\n",
       "      <td>PHYS REFERRAL/NORMAL DELI</td>\n",
       "      <td>HOME HEALTH CARE</td>\n",
       "      <td>Medicare</td>\n",
       "      <td>NOT STATED</td>\n",
       "      <td>CATHOLIC</td>\n",
       "      <td>MARRIED</td>\n",
       "      <td>WHITE</td>\n",
       "      <td>...</td>\n",
       "      <td>1.05</td>\n",
       "      <td>1.2</td>\n",
       "      <td>13</td>\n",
       "      <td>19.00</td>\n",
       "      <td>25</td>\n",
       "      <td>1.1</td>\n",
       "      <td>1.25</td>\n",
       "      <td>1.4</td>\n",
       "      <td>False</td>\n",
       "      <td>False</td>\n",
       "    </tr>\n",
       "  </tbody>\n",
       "</table>\n",
       "<p>5 rows × 59 columns</p>\n",
       "</div>"
      ],
      "text/plain": [
       "   SUBJECT_ID  HADM_ID ADMISSION_TYPE         ADMISSION_LOCATION  \\\n",
       "0          23   152223       ELECTIVE  PHYS REFERRAL/NORMAL DELI   \n",
       "1          24   161859      EMERGENCY  TRANSFER FROM HOSP/EXTRAM   \n",
       "2          25   129635      EMERGENCY       EMERGENCY ROOM ADMIT   \n",
       "3          26   197661      EMERGENCY  TRANSFER FROM HOSP/EXTRAM   \n",
       "4          28   162569       ELECTIVE  PHYS REFERRAL/NORMAL DELI   \n",
       "\n",
       "  DISCHARGE_LOCATION INSURANCE    LANGUAGE           RELIGION MARITAL_STATUS  \\\n",
       "0   HOME HEALTH CARE  Medicare  NOT STATED           CATHOLIC        MARRIED   \n",
       "1               HOME   Private  NOT STATED  PROTESTANT QUAKER         SINGLE   \n",
       "2               HOME   Private  NOT STATED       UNOBTAINABLE        MARRIED   \n",
       "3               HOME  Medicare  NOT STATED           CATHOLIC         SINGLE   \n",
       "4   HOME HEALTH CARE  Medicare  NOT STATED           CATHOLIC        MARRIED   \n",
       "\n",
       "               ETHNICITY       ...        AVG_CREAT  MAX_CREAT MIN_UREA  \\\n",
       "0                  WHITE       ...             0.72        0.8       14   \n",
       "1                  WHITE       ...             0.92        1.0       10   \n",
       "2                  WHITE       ...             1.19        1.6       12   \n",
       "3  UNKNOWN/NOT SPECIFIED       ...             1.31        1.4       28   \n",
       "4                  WHITE       ...             1.05        1.2       13   \n",
       "\n",
       "   AVG_UREA  MAX_UREA  MIN_INR  AVG_INR  MAX_INR  THIRTYDAYREADMIT  \\\n",
       "0     17.25        20      1.5     1.75      2.0             False   \n",
       "1     11.50        13      1.0     1.00      1.0             False   \n",
       "2     39.56        54      0.9     1.00      1.1             False   \n",
       "3     31.50        36      1.2     1.77      2.5             False   \n",
       "4     19.00        25      1.1     1.25      1.4             False   \n",
       "\n",
       "   ONEYEARREADMIT  \n",
       "0           False  \n",
       "1           False  \n",
       "2           False  \n",
       "3           False  \n",
       "4           False  \n",
       "\n",
       "[5 rows x 59 columns]"
      ]
     },
     "execution_count": 3,
     "metadata": {},
     "output_type": "execute_result"
    }
   ],
   "source": [
    "df_features_any.head()"
   ]
  },
  {
   "cell_type": "code",
   "execution_count": 4,
   "metadata": {},
   "outputs": [
    {
     "data": {
      "text/html": [
       "<div>\n",
       "<style>\n",
       "    .dataframe thead tr:only-child th {\n",
       "        text-align: right;\n",
       "    }\n",
       "\n",
       "    .dataframe thead th {\n",
       "        text-align: left;\n",
       "    }\n",
       "\n",
       "    .dataframe tbody tr th {\n",
       "        vertical-align: top;\n",
       "    }\n",
       "</style>\n",
       "<table border=\"1\" class=\"dataframe\">\n",
       "  <thead>\n",
       "    <tr style=\"text-align: right;\">\n",
       "      <th></th>\n",
       "      <th>SUBJECT_ID</th>\n",
       "      <th>HADM_ID</th>\n",
       "      <th>ADLOS</th>\n",
       "      <th>EDLOS</th>\n",
       "      <th>AVG_WEIGHT</th>\n",
       "      <th>DIABETES</th>\n",
       "      <th>CHF</th>\n",
       "      <th>ASTHMA</th>\n",
       "      <th>CVA</th>\n",
       "      <th>ARRHYTHMIA</th>\n",
       "      <th>...</th>\n",
       "      <th>ETHNICITY_MULTI RACE ETHNICITY</th>\n",
       "      <th>ETHNICITY_NATIVE HAWAIIAN OR OTHER PACIFIC ISLANDER</th>\n",
       "      <th>ETHNICITY_OTHER</th>\n",
       "      <th>ETHNICITY_PATIENT DECLINED TO ANSWER</th>\n",
       "      <th>ETHNICITY_PORTUGUESE</th>\n",
       "      <th>ETHNICITY_SOUTH AMERICAN</th>\n",
       "      <th>ETHNICITY_UNABLE TO OBTAIN</th>\n",
       "      <th>ETHNICITY_UNKNOWN/NOT SPECIFIED</th>\n",
       "      <th>ETHNICITY_WHITE</th>\n",
       "      <th>GENDER_M</th>\n",
       "    </tr>\n",
       "  </thead>\n",
       "  <tbody>\n",
       "    <tr>\n",
       "      <th>0</th>\n",
       "      <td>23</td>\n",
       "      <td>152223</td>\n",
       "      <td>5.50</td>\n",
       "      <td>0.00</td>\n",
       "      <td>158.95</td>\n",
       "      <td>False</td>\n",
       "      <td>False</td>\n",
       "      <td>False</td>\n",
       "      <td>False</td>\n",
       "      <td>False</td>\n",
       "      <td>...</td>\n",
       "      <td>0</td>\n",
       "      <td>0</td>\n",
       "      <td>0</td>\n",
       "      <td>0</td>\n",
       "      <td>0</td>\n",
       "      <td>0</td>\n",
       "      <td>0</td>\n",
       "      <td>0</td>\n",
       "      <td>1</td>\n",
       "      <td>1</td>\n",
       "    </tr>\n",
       "    <tr>\n",
       "      <th>1</th>\n",
       "      <td>24</td>\n",
       "      <td>161859</td>\n",
       "      <td>2.86</td>\n",
       "      <td>0.00</td>\n",
       "      <td>264.55</td>\n",
       "      <td>False</td>\n",
       "      <td>False</td>\n",
       "      <td>False</td>\n",
       "      <td>False</td>\n",
       "      <td>False</td>\n",
       "      <td>...</td>\n",
       "      <td>0</td>\n",
       "      <td>0</td>\n",
       "      <td>0</td>\n",
       "      <td>0</td>\n",
       "      <td>0</td>\n",
       "      <td>0</td>\n",
       "      <td>0</td>\n",
       "      <td>0</td>\n",
       "      <td>1</td>\n",
       "      <td>1</td>\n",
       "    </tr>\n",
       "    <tr>\n",
       "      <th>2</th>\n",
       "      <td>25</td>\n",
       "      <td>129635</td>\n",
       "      <td>3.53</td>\n",
       "      <td>0.14</td>\n",
       "      <td>221.34</td>\n",
       "      <td>False</td>\n",
       "      <td>False</td>\n",
       "      <td>False</td>\n",
       "      <td>False</td>\n",
       "      <td>False</td>\n",
       "      <td>...</td>\n",
       "      <td>0</td>\n",
       "      <td>0</td>\n",
       "      <td>0</td>\n",
       "      <td>0</td>\n",
       "      <td>0</td>\n",
       "      <td>0</td>\n",
       "      <td>0</td>\n",
       "      <td>0</td>\n",
       "      <td>1</td>\n",
       "      <td>1</td>\n",
       "    </tr>\n",
       "    <tr>\n",
       "      <th>3</th>\n",
       "      <td>26</td>\n",
       "      <td>197661</td>\n",
       "      <td>6.99</td>\n",
       "      <td>0.00</td>\n",
       "      <td>176.37</td>\n",
       "      <td>False</td>\n",
       "      <td>False</td>\n",
       "      <td>False</td>\n",
       "      <td>False</td>\n",
       "      <td>False</td>\n",
       "      <td>...</td>\n",
       "      <td>0</td>\n",
       "      <td>0</td>\n",
       "      <td>0</td>\n",
       "      <td>0</td>\n",
       "      <td>0</td>\n",
       "      <td>0</td>\n",
       "      <td>0</td>\n",
       "      <td>1</td>\n",
       "      <td>0</td>\n",
       "      <td>1</td>\n",
       "    </tr>\n",
       "    <tr>\n",
       "      <th>4</th>\n",
       "      <td>28</td>\n",
       "      <td>162569</td>\n",
       "      <td>5.36</td>\n",
       "      <td>0.00</td>\n",
       "      <td>211.64</td>\n",
       "      <td>False</td>\n",
       "      <td>False</td>\n",
       "      <td>False</td>\n",
       "      <td>False</td>\n",
       "      <td>False</td>\n",
       "      <td>...</td>\n",
       "      <td>0</td>\n",
       "      <td>0</td>\n",
       "      <td>0</td>\n",
       "      <td>0</td>\n",
       "      <td>0</td>\n",
       "      <td>0</td>\n",
       "      <td>0</td>\n",
       "      <td>0</td>\n",
       "      <td>1</td>\n",
       "      <td>1</td>\n",
       "    </tr>\n",
       "  </tbody>\n",
       "</table>\n",
       "<p>5 rows × 156 columns</p>\n",
       "</div>"
      ],
      "text/plain": [
       "   SUBJECT_ID  HADM_ID  ADLOS  EDLOS  AVG_WEIGHT  DIABETES    CHF  ASTHMA  \\\n",
       "0          23   152223   5.50   0.00      158.95     False  False   False   \n",
       "1          24   161859   2.86   0.00      264.55     False  False   False   \n",
       "2          25   129635   3.53   0.14      221.34     False  False   False   \n",
       "3          26   197661   6.99   0.00      176.37     False  False   False   \n",
       "4          28   162569   5.36   0.00      211.64     False  False   False   \n",
       "\n",
       "     CVA  ARRHYTHMIA    ...     ETHNICITY_MULTI RACE ETHNICITY  \\\n",
       "0  False       False    ...                                  0   \n",
       "1  False       False    ...                                  0   \n",
       "2  False       False    ...                                  0   \n",
       "3  False       False    ...                                  0   \n",
       "4  False       False    ...                                  0   \n",
       "\n",
       "   ETHNICITY_NATIVE HAWAIIAN OR OTHER PACIFIC ISLANDER  ETHNICITY_OTHER  \\\n",
       "0                                                  0                  0   \n",
       "1                                                  0                  0   \n",
       "2                                                  0                  0   \n",
       "3                                                  0                  0   \n",
       "4                                                  0                  0   \n",
       "\n",
       "   ETHNICITY_PATIENT DECLINED TO ANSWER  ETHNICITY_PORTUGUESE  \\\n",
       "0                                     0                     0   \n",
       "1                                     0                     0   \n",
       "2                                     0                     0   \n",
       "3                                     0                     0   \n",
       "4                                     0                     0   \n",
       "\n",
       "   ETHNICITY_SOUTH AMERICAN  ETHNICITY_UNABLE TO OBTAIN  \\\n",
       "0                         0                           0   \n",
       "1                         0                           0   \n",
       "2                         0                           0   \n",
       "3                         0                           0   \n",
       "4                         0                           0   \n",
       "\n",
       "   ETHNICITY_UNKNOWN/NOT SPECIFIED  ETHNICITY_WHITE  GENDER_M  \n",
       "0                                0                1         1  \n",
       "1                                0                1         1  \n",
       "2                                0                1         1  \n",
       "3                                1                0         1  \n",
       "4                                0                1         1  \n",
       "\n",
       "[5 rows x 156 columns]"
      ]
     },
     "execution_count": 4,
     "metadata": {},
     "output_type": "execute_result"
    }
   ],
   "source": [
    "# One Hot Encoding\n",
    "df_features = pd.get_dummies(df_features_any, drop_first = True)\n",
    "df_features.head()"
   ]
  },
  {
   "cell_type": "code",
   "execution_count": 5,
   "metadata": {
    "collapsed": true
   },
   "outputs": [],
   "source": [
    "df_final = df_features\n",
    "df_final.ONEYEARREADMIT = df_final.ONEYEARREADMIT.astype(int)\n",
    "df_final.THIRTYDAYREADMIT = df_final.THIRTYDAYREADMIT.astype(int)"
   ]
  },
  {
   "cell_type": "code",
   "execution_count": 6,
   "metadata": {},
   "outputs": [
    {
     "data": {
      "text/html": [
       "<div>\n",
       "<style>\n",
       "    .dataframe thead tr:only-child th {\n",
       "        text-align: right;\n",
       "    }\n",
       "\n",
       "    .dataframe thead th {\n",
       "        text-align: left;\n",
       "    }\n",
       "\n",
       "    .dataframe tbody tr th {\n",
       "        vertical-align: top;\n",
       "    }\n",
       "</style>\n",
       "<table border=\"1\" class=\"dataframe\">\n",
       "  <thead>\n",
       "    <tr style=\"text-align: right;\">\n",
       "      <th></th>\n",
       "      <th>SUBJECT_ID</th>\n",
       "      <th>HADM_ID</th>\n",
       "      <th>ADLOS</th>\n",
       "      <th>EDLOS</th>\n",
       "      <th>AVG_WEIGHT</th>\n",
       "      <th>DIABETES</th>\n",
       "      <th>CHF</th>\n",
       "      <th>ASTHMA</th>\n",
       "      <th>CVA</th>\n",
       "      <th>ARRHYTHMIA</th>\n",
       "      <th>...</th>\n",
       "      <th>ETHNICITY_MULTI RACE ETHNICITY</th>\n",
       "      <th>ETHNICITY_NATIVE HAWAIIAN OR OTHER PACIFIC ISLANDER</th>\n",
       "      <th>ETHNICITY_OTHER</th>\n",
       "      <th>ETHNICITY_PATIENT DECLINED TO ANSWER</th>\n",
       "      <th>ETHNICITY_PORTUGUESE</th>\n",
       "      <th>ETHNICITY_SOUTH AMERICAN</th>\n",
       "      <th>ETHNICITY_UNABLE TO OBTAIN</th>\n",
       "      <th>ETHNICITY_UNKNOWN/NOT SPECIFIED</th>\n",
       "      <th>ETHNICITY_WHITE</th>\n",
       "      <th>GENDER_M</th>\n",
       "    </tr>\n",
       "  </thead>\n",
       "  <tbody>\n",
       "    <tr>\n",
       "      <th>0</th>\n",
       "      <td>23</td>\n",
       "      <td>152223</td>\n",
       "      <td>5.50</td>\n",
       "      <td>0.00</td>\n",
       "      <td>158.95</td>\n",
       "      <td>False</td>\n",
       "      <td>False</td>\n",
       "      <td>False</td>\n",
       "      <td>False</td>\n",
       "      <td>False</td>\n",
       "      <td>...</td>\n",
       "      <td>0</td>\n",
       "      <td>0</td>\n",
       "      <td>0</td>\n",
       "      <td>0</td>\n",
       "      <td>0</td>\n",
       "      <td>0</td>\n",
       "      <td>0</td>\n",
       "      <td>0</td>\n",
       "      <td>1</td>\n",
       "      <td>1</td>\n",
       "    </tr>\n",
       "    <tr>\n",
       "      <th>1</th>\n",
       "      <td>24</td>\n",
       "      <td>161859</td>\n",
       "      <td>2.86</td>\n",
       "      <td>0.00</td>\n",
       "      <td>264.55</td>\n",
       "      <td>False</td>\n",
       "      <td>False</td>\n",
       "      <td>False</td>\n",
       "      <td>False</td>\n",
       "      <td>False</td>\n",
       "      <td>...</td>\n",
       "      <td>0</td>\n",
       "      <td>0</td>\n",
       "      <td>0</td>\n",
       "      <td>0</td>\n",
       "      <td>0</td>\n",
       "      <td>0</td>\n",
       "      <td>0</td>\n",
       "      <td>0</td>\n",
       "      <td>1</td>\n",
       "      <td>1</td>\n",
       "    </tr>\n",
       "    <tr>\n",
       "      <th>2</th>\n",
       "      <td>25</td>\n",
       "      <td>129635</td>\n",
       "      <td>3.53</td>\n",
       "      <td>0.14</td>\n",
       "      <td>221.34</td>\n",
       "      <td>False</td>\n",
       "      <td>False</td>\n",
       "      <td>False</td>\n",
       "      <td>False</td>\n",
       "      <td>False</td>\n",
       "      <td>...</td>\n",
       "      <td>0</td>\n",
       "      <td>0</td>\n",
       "      <td>0</td>\n",
       "      <td>0</td>\n",
       "      <td>0</td>\n",
       "      <td>0</td>\n",
       "      <td>0</td>\n",
       "      <td>0</td>\n",
       "      <td>1</td>\n",
       "      <td>1</td>\n",
       "    </tr>\n",
       "    <tr>\n",
       "      <th>3</th>\n",
       "      <td>26</td>\n",
       "      <td>197661</td>\n",
       "      <td>6.99</td>\n",
       "      <td>0.00</td>\n",
       "      <td>176.37</td>\n",
       "      <td>False</td>\n",
       "      <td>False</td>\n",
       "      <td>False</td>\n",
       "      <td>False</td>\n",
       "      <td>False</td>\n",
       "      <td>...</td>\n",
       "      <td>0</td>\n",
       "      <td>0</td>\n",
       "      <td>0</td>\n",
       "      <td>0</td>\n",
       "      <td>0</td>\n",
       "      <td>0</td>\n",
       "      <td>0</td>\n",
       "      <td>1</td>\n",
       "      <td>0</td>\n",
       "      <td>1</td>\n",
       "    </tr>\n",
       "    <tr>\n",
       "      <th>4</th>\n",
       "      <td>28</td>\n",
       "      <td>162569</td>\n",
       "      <td>5.36</td>\n",
       "      <td>0.00</td>\n",
       "      <td>211.64</td>\n",
       "      <td>False</td>\n",
       "      <td>False</td>\n",
       "      <td>False</td>\n",
       "      <td>False</td>\n",
       "      <td>False</td>\n",
       "      <td>...</td>\n",
       "      <td>0</td>\n",
       "      <td>0</td>\n",
       "      <td>0</td>\n",
       "      <td>0</td>\n",
       "      <td>0</td>\n",
       "      <td>0</td>\n",
       "      <td>0</td>\n",
       "      <td>0</td>\n",
       "      <td>1</td>\n",
       "      <td>1</td>\n",
       "    </tr>\n",
       "  </tbody>\n",
       "</table>\n",
       "<p>5 rows × 156 columns</p>\n",
       "</div>"
      ],
      "text/plain": [
       "   SUBJECT_ID  HADM_ID  ADLOS  EDLOS  AVG_WEIGHT  DIABETES    CHF  ASTHMA  \\\n",
       "0          23   152223   5.50   0.00      158.95     False  False   False   \n",
       "1          24   161859   2.86   0.00      264.55     False  False   False   \n",
       "2          25   129635   3.53   0.14      221.34     False  False   False   \n",
       "3          26   197661   6.99   0.00      176.37     False  False   False   \n",
       "4          28   162569   5.36   0.00      211.64     False  False   False   \n",
       "\n",
       "     CVA  ARRHYTHMIA    ...     ETHNICITY_MULTI RACE ETHNICITY  \\\n",
       "0  False       False    ...                                  0   \n",
       "1  False       False    ...                                  0   \n",
       "2  False       False    ...                                  0   \n",
       "3  False       False    ...                                  0   \n",
       "4  False       False    ...                                  0   \n",
       "\n",
       "   ETHNICITY_NATIVE HAWAIIAN OR OTHER PACIFIC ISLANDER  ETHNICITY_OTHER  \\\n",
       "0                                                  0                  0   \n",
       "1                                                  0                  0   \n",
       "2                                                  0                  0   \n",
       "3                                                  0                  0   \n",
       "4                                                  0                  0   \n",
       "\n",
       "   ETHNICITY_PATIENT DECLINED TO ANSWER  ETHNICITY_PORTUGUESE  \\\n",
       "0                                     0                     0   \n",
       "1                                     0                     0   \n",
       "2                                     0                     0   \n",
       "3                                     0                     0   \n",
       "4                                     0                     0   \n",
       "\n",
       "   ETHNICITY_SOUTH AMERICAN  ETHNICITY_UNABLE TO OBTAIN  \\\n",
       "0                         0                           0   \n",
       "1                         0                           0   \n",
       "2                         0                           0   \n",
       "3                         0                           0   \n",
       "4                         0                           0   \n",
       "\n",
       "   ETHNICITY_UNKNOWN/NOT SPECIFIED  ETHNICITY_WHITE  GENDER_M  \n",
       "0                                0                1         1  \n",
       "1                                0                1         1  \n",
       "2                                0                1         1  \n",
       "3                                1                0         1  \n",
       "4                                0                1         1  \n",
       "\n",
       "[5 rows x 156 columns]"
      ]
     },
     "execution_count": 6,
     "metadata": {},
     "output_type": "execute_result"
    }
   ],
   "source": [
    "df_final.head()"
   ]
  },
  {
   "cell_type": "code",
   "execution_count": 7,
   "metadata": {
    "collapsed": true
   },
   "outputs": [],
   "source": [
    "df_final[['ELIXHAUSER_SCORE']] = df_final[['ELIXHAUSER_SCORE']].fillna(value=0)\n",
    "df_final[['CHARLSON_SCORE']] = df_final[['CHARLSON_SCORE']].fillna(value=0)"
   ]
  },
  {
   "cell_type": "code",
   "execution_count": 8,
   "metadata": {},
   "outputs": [
    {
     "data": {
      "text/plain": [
       "False"
      ]
     },
     "execution_count": 8,
     "metadata": {},
     "output_type": "execute_result"
    }
   ],
   "source": [
    "df_final.isnull().values.any()"
   ]
  },
  {
   "cell_type": "markdown",
   "metadata": {},
   "source": [
    "# MI"
   ]
  },
  {
   "cell_type": "code",
   "execution_count": 9,
   "metadata": {
    "collapsed": true
   },
   "outputs": [],
   "source": [
    "df_mi_thirtyday = pd.read_csv('features/MI/MI_py_THIRTYDAYREADMIT.csv')\n",
    "df_mi_onyear = pd.read_csv('features/MI/MI_py_ONEYEARREADMIT.csv')"
   ]
  },
  {
   "cell_type": "code",
   "execution_count": 10,
   "metadata": {},
   "outputs": [
    {
     "data": {
      "text/html": [
       "<div>\n",
       "<style>\n",
       "    .dataframe thead tr:only-child th {\n",
       "        text-align: right;\n",
       "    }\n",
       "\n",
       "    .dataframe thead th {\n",
       "        text-align: left;\n",
       "    }\n",
       "\n",
       "    .dataframe tbody tr th {\n",
       "        vertical-align: top;\n",
       "    }\n",
       "</style>\n",
       "<table border=\"1\" class=\"dataframe\">\n",
       "  <thead>\n",
       "    <tr style=\"text-align: right;\">\n",
       "      <th></th>\n",
       "      <th>FEATURE</th>\n",
       "      <th>MI</th>\n",
       "    </tr>\n",
       "  </thead>\n",
       "  <tbody>\n",
       "    <tr>\n",
       "      <th>0</th>\n",
       "      <td>ELIXHAUSER_SCORE</td>\n",
       "      <td>0.00761</td>\n",
       "    </tr>\n",
       "    <tr>\n",
       "      <th>1</th>\n",
       "      <td>MAX_UREA</td>\n",
       "      <td>0.00672</td>\n",
       "    </tr>\n",
       "    <tr>\n",
       "      <th>2</th>\n",
       "      <td>CHARLSON_SCORE</td>\n",
       "      <td>0.00626</td>\n",
       "    </tr>\n",
       "    <tr>\n",
       "      <th>3</th>\n",
       "      <td>EDLOS</td>\n",
       "      <td>0.00576</td>\n",
       "    </tr>\n",
       "    <tr>\n",
       "      <th>4</th>\n",
       "      <td>MAX_CREAT</td>\n",
       "      <td>0.00532</td>\n",
       "    </tr>\n",
       "  </tbody>\n",
       "</table>\n",
       "</div>"
      ],
      "text/plain": [
       "            FEATURE       MI\n",
       "0  ELIXHAUSER_SCORE  0.00761\n",
       "1          MAX_UREA  0.00672\n",
       "2    CHARLSON_SCORE  0.00626\n",
       "3             EDLOS  0.00576\n",
       "4         MAX_CREAT  0.00532"
      ]
     },
     "execution_count": 10,
     "metadata": {},
     "output_type": "execute_result"
    }
   ],
   "source": [
    "#df_mi_thirtyday\n",
    "df_mi_thirtyday.sort_values('MI', ascending=False).head()"
   ]
  },
  {
   "cell_type": "code",
   "execution_count": 11,
   "metadata": {
    "collapsed": true
   },
   "outputs": [],
   "source": [
    "def TopK (readm_type, k):\n",
    "    \n",
    "    if (readm_type == 'THIRTYDAYREADMIT'):\n",
    "        tk = df_mi_thirtyday.sort_values('MI', ascending=False).head(n=k)\n",
    "        dfList = tk['FEATURE'].tolist()    \n",
    "    elif (readm_type == 'ONEYEARREADMIT'):\n",
    "        tk = df_mi_onyear.sort_values('MI', ascending=False).head(n=k)\n",
    "        dfList = tk['FEATURE'].tolist()  \n",
    "    elif (readm_type == 'THIRTYDAYREADMIT_ALL'):\n",
    "        tk = df_mi_all_thirtyday.sort_values('MI', ascending=False).head(n=k)\n",
    "        dfList = tk['FEATURE'].tolist()    \n",
    "    elif (readm_type == 'ONEYEARREADMIT_ALL'):\n",
    "        tk = df_mi_all_onyear.sort_values('MI', ascending=False).head(n=k)\n",
    "        dfList = tk['FEATURE'].tolist()   \n",
    "    else:\n",
    "        return\n",
    "    \n",
    "    return dfList\n"
   ]
  },
  {
   "cell_type": "code",
   "execution_count": 12,
   "metadata": {},
   "outputs": [
    {
     "data": {
      "text/html": [
       "<div>\n",
       "<style>\n",
       "    .dataframe thead tr:only-child th {\n",
       "        text-align: right;\n",
       "    }\n",
       "\n",
       "    .dataframe thead th {\n",
       "        text-align: left;\n",
       "    }\n",
       "\n",
       "    .dataframe tbody tr th {\n",
       "        vertical-align: top;\n",
       "    }\n",
       "</style>\n",
       "<table border=\"1\" class=\"dataframe\">\n",
       "  <thead>\n",
       "    <tr style=\"text-align: right;\">\n",
       "      <th></th>\n",
       "      <th>ELIXHAUSER_SCORE</th>\n",
       "      <th>MAX_UREA</th>\n",
       "      <th>CHARLSON_SCORE</th>\n",
       "      <th>EDLOS</th>\n",
       "      <th>MAX_CREAT</th>\n",
       "      <th>AVG_UREA</th>\n",
       "      <th>CABG</th>\n",
       "      <th>AVG_CREAT</th>\n",
       "      <th>ICULOS</th>\n",
       "      <th>AVG_HGB</th>\n",
       "      <th>ADLOS</th>\n",
       "      <th>MIN_UREA</th>\n",
       "      <th>MAX_HGB</th>\n",
       "      <th>MIN_CREAT</th>\n",
       "      <th>DISCHARGE_LOCATION_LONG TERM CARE HOSPITAL</th>\n",
       "      <th>MAX_POT</th>\n",
       "      <th>MAX_CALC_BLD</th>\n",
       "      <th>MIN_CALC_BLD</th>\n",
       "      <th>ETHNICITY_BLACK</th>\n",
       "      <th>AVG_CALC_BLD</th>\n",
       "    </tr>\n",
       "  </thead>\n",
       "  <tbody>\n",
       "    <tr>\n",
       "      <th>0</th>\n",
       "      <td>-1.0</td>\n",
       "      <td>20</td>\n",
       "      <td>0.0</td>\n",
       "      <td>0.00</td>\n",
       "      <td>0.8</td>\n",
       "      <td>17.25</td>\n",
       "      <td>True</td>\n",
       "      <td>0.72</td>\n",
       "      <td>1.2641</td>\n",
       "      <td>9.30</td>\n",
       "      <td>5.50</td>\n",
       "      <td>14</td>\n",
       "      <td>10.7</td>\n",
       "      <td>0.7</td>\n",
       "      <td>0</td>\n",
       "      <td>4.1</td>\n",
       "      <td>8.0</td>\n",
       "      <td>8.0</td>\n",
       "      <td>0</td>\n",
       "      <td>8.00</td>\n",
       "    </tr>\n",
       "    <tr>\n",
       "      <th>1</th>\n",
       "      <td>0.0</td>\n",
       "      <td>13</td>\n",
       "      <td>1.0</td>\n",
       "      <td>0.00</td>\n",
       "      <td>1.0</td>\n",
       "      <td>11.50</td>\n",
       "      <td>False</td>\n",
       "      <td>0.92</td>\n",
       "      <td>0.5124</td>\n",
       "      <td>14.33</td>\n",
       "      <td>2.86</td>\n",
       "      <td>10</td>\n",
       "      <td>14.5</td>\n",
       "      <td>0.9</td>\n",
       "      <td>0</td>\n",
       "      <td>4.1</td>\n",
       "      <td>9.7</td>\n",
       "      <td>9.2</td>\n",
       "      <td>0</td>\n",
       "      <td>9.47</td>\n",
       "    </tr>\n",
       "    <tr>\n",
       "      <th>2</th>\n",
       "      <td>0.0</td>\n",
       "      <td>54</td>\n",
       "      <td>1.0</td>\n",
       "      <td>0.14</td>\n",
       "      <td>1.6</td>\n",
       "      <td>39.56</td>\n",
       "      <td>False</td>\n",
       "      <td>1.19</td>\n",
       "      <td>3.5466</td>\n",
       "      <td>11.04</td>\n",
       "      <td>3.53</td>\n",
       "      <td>12</td>\n",
       "      <td>13.1</td>\n",
       "      <td>0.7</td>\n",
       "      <td>0</td>\n",
       "      <td>6.5</td>\n",
       "      <td>8.5</td>\n",
       "      <td>7.4</td>\n",
       "      <td>0</td>\n",
       "      <td>7.95</td>\n",
       "    </tr>\n",
       "    <tr>\n",
       "      <th>3</th>\n",
       "      <td>12.0</td>\n",
       "      <td>36</td>\n",
       "      <td>2.0</td>\n",
       "      <td>0.00</td>\n",
       "      <td>1.4</td>\n",
       "      <td>31.50</td>\n",
       "      <td>False</td>\n",
       "      <td>1.31</td>\n",
       "      <td>2.1407</td>\n",
       "      <td>11.87</td>\n",
       "      <td>6.99</td>\n",
       "      <td>28</td>\n",
       "      <td>12.3</td>\n",
       "      <td>1.2</td>\n",
       "      <td>0</td>\n",
       "      <td>4.7</td>\n",
       "      <td>8.8</td>\n",
       "      <td>8.0</td>\n",
       "      <td>0</td>\n",
       "      <td>8.36</td>\n",
       "    </tr>\n",
       "    <tr>\n",
       "      <th>4</th>\n",
       "      <td>3.0</td>\n",
       "      <td>25</td>\n",
       "      <td>3.0</td>\n",
       "      <td>0.00</td>\n",
       "      <td>1.2</td>\n",
       "      <td>19.00</td>\n",
       "      <td>True</td>\n",
       "      <td>1.05</td>\n",
       "      <td>1.1224</td>\n",
       "      <td>11.00</td>\n",
       "      <td>5.36</td>\n",
       "      <td>13</td>\n",
       "      <td>11.2</td>\n",
       "      <td>0.9</td>\n",
       "      <td>0</td>\n",
       "      <td>4.7</td>\n",
       "      <td>8.0</td>\n",
       "      <td>8.0</td>\n",
       "      <td>0</td>\n",
       "      <td>8.00</td>\n",
       "    </tr>\n",
       "  </tbody>\n",
       "</table>\n",
       "</div>"
      ],
      "text/plain": [
       "   ELIXHAUSER_SCORE  MAX_UREA  CHARLSON_SCORE  EDLOS  MAX_CREAT  AVG_UREA  \\\n",
       "0              -1.0        20             0.0   0.00        0.8     17.25   \n",
       "1               0.0        13             1.0   0.00        1.0     11.50   \n",
       "2               0.0        54             1.0   0.14        1.6     39.56   \n",
       "3              12.0        36             2.0   0.00        1.4     31.50   \n",
       "4               3.0        25             3.0   0.00        1.2     19.00   \n",
       "\n",
       "    CABG  AVG_CREAT  ICULOS  AVG_HGB  ADLOS  MIN_UREA  MAX_HGB  MIN_CREAT  \\\n",
       "0   True       0.72  1.2641     9.30   5.50        14     10.7        0.7   \n",
       "1  False       0.92  0.5124    14.33   2.86        10     14.5        0.9   \n",
       "2  False       1.19  3.5466    11.04   3.53        12     13.1        0.7   \n",
       "3  False       1.31  2.1407    11.87   6.99        28     12.3        1.2   \n",
       "4   True       1.05  1.1224    11.00   5.36        13     11.2        0.9   \n",
       "\n",
       "   DISCHARGE_LOCATION_LONG TERM CARE HOSPITAL  MAX_POT  MAX_CALC_BLD  \\\n",
       "0                                           0      4.1           8.0   \n",
       "1                                           0      4.1           9.7   \n",
       "2                                           0      6.5           8.5   \n",
       "3                                           0      4.7           8.8   \n",
       "4                                           0      4.7           8.0   \n",
       "\n",
       "   MIN_CALC_BLD  ETHNICITY_BLACK  AVG_CALC_BLD  \n",
       "0           8.0                0          8.00  \n",
       "1           9.2                0          9.47  \n",
       "2           7.4                0          7.95  \n",
       "3           8.0                0          8.36  \n",
       "4           8.0                0          8.00  "
      ]
     },
     "execution_count": 12,
     "metadata": {},
     "output_type": "execute_result"
    }
   ],
   "source": [
    "mi_list = TopK('THIRTYDAYREADMIT', 20)\n",
    "df_topk = df_final[mi_list]\n",
    "df_topk.head()"
   ]
  },
  {
   "cell_type": "code",
   "execution_count": 13,
   "metadata": {},
   "outputs": [
    {
     "data": {
      "text/plain": [
       "(12918, 20)"
      ]
     },
     "execution_count": 13,
     "metadata": {},
     "output_type": "execute_result"
    }
   ],
   "source": [
    "df_topk.shape"
   ]
  },
  {
   "cell_type": "code",
   "execution_count": 14,
   "metadata": {},
   "outputs": [
    {
     "data": {
      "text/html": [
       "<div>\n",
       "<style>\n",
       "    .dataframe thead tr:only-child th {\n",
       "        text-align: right;\n",
       "    }\n",
       "\n",
       "    .dataframe thead th {\n",
       "        text-align: left;\n",
       "    }\n",
       "\n",
       "    .dataframe tbody tr th {\n",
       "        vertical-align: top;\n",
       "    }\n",
       "</style>\n",
       "<table border=\"1\" class=\"dataframe\">\n",
       "  <thead>\n",
       "    <tr style=\"text-align: right;\">\n",
       "      <th></th>\n",
       "      <th>CHARLSON_SCORE</th>\n",
       "      <th>CABG</th>\n",
       "      <th>MAX_CREAT</th>\n",
       "      <th>ELIXHAUSER_SCORE</th>\n",
       "      <th>AVG_CREAT</th>\n",
       "      <th>EDLOS</th>\n",
       "      <th>MAX_UREA</th>\n",
       "      <th>MIN_CREAT</th>\n",
       "      <th>AVG_UREA</th>\n",
       "      <th>ETHNICITY_BLACK</th>\n",
       "      <th>MIN_UREA</th>\n",
       "      <th>ADMISSION_LOCATION_EMERGENCY ROOM ADMIT</th>\n",
       "      <th>ETHNICITY_UNKNOWN/NOT SPECIFIED</th>\n",
       "      <th>MAX_POT</th>\n",
       "      <th>ICULOS</th>\n",
       "      <th>MAX_HGB</th>\n",
       "      <th>AVG_INR</th>\n",
       "      <th>ADLOS</th>\n",
       "      <th>ADMISSION_LOCATION_TRANSFER FROM HOSP/EXTRAM</th>\n",
       "      <th>MAX_INR</th>\n",
       "    </tr>\n",
       "  </thead>\n",
       "  <tbody>\n",
       "    <tr>\n",
       "      <th>0</th>\n",
       "      <td>0.0</td>\n",
       "      <td>True</td>\n",
       "      <td>0.8</td>\n",
       "      <td>-1.0</td>\n",
       "      <td>0.72</td>\n",
       "      <td>0.00</td>\n",
       "      <td>20</td>\n",
       "      <td>0.7</td>\n",
       "      <td>17.25</td>\n",
       "      <td>0</td>\n",
       "      <td>14</td>\n",
       "      <td>0</td>\n",
       "      <td>0</td>\n",
       "      <td>4.1</td>\n",
       "      <td>1.2641</td>\n",
       "      <td>10.7</td>\n",
       "      <td>1.75</td>\n",
       "      <td>5.50</td>\n",
       "      <td>0</td>\n",
       "      <td>2.0</td>\n",
       "    </tr>\n",
       "    <tr>\n",
       "      <th>1</th>\n",
       "      <td>1.0</td>\n",
       "      <td>False</td>\n",
       "      <td>1.0</td>\n",
       "      <td>0.0</td>\n",
       "      <td>0.92</td>\n",
       "      <td>0.00</td>\n",
       "      <td>13</td>\n",
       "      <td>0.9</td>\n",
       "      <td>11.50</td>\n",
       "      <td>0</td>\n",
       "      <td>10</td>\n",
       "      <td>0</td>\n",
       "      <td>0</td>\n",
       "      <td>4.1</td>\n",
       "      <td>0.5124</td>\n",
       "      <td>14.5</td>\n",
       "      <td>1.00</td>\n",
       "      <td>2.86</td>\n",
       "      <td>1</td>\n",
       "      <td>1.0</td>\n",
       "    </tr>\n",
       "    <tr>\n",
       "      <th>2</th>\n",
       "      <td>1.0</td>\n",
       "      <td>False</td>\n",
       "      <td>1.6</td>\n",
       "      <td>0.0</td>\n",
       "      <td>1.19</td>\n",
       "      <td>0.14</td>\n",
       "      <td>54</td>\n",
       "      <td>0.7</td>\n",
       "      <td>39.56</td>\n",
       "      <td>0</td>\n",
       "      <td>12</td>\n",
       "      <td>1</td>\n",
       "      <td>0</td>\n",
       "      <td>6.5</td>\n",
       "      <td>3.5466</td>\n",
       "      <td>13.1</td>\n",
       "      <td>1.00</td>\n",
       "      <td>3.53</td>\n",
       "      <td>0</td>\n",
       "      <td>1.1</td>\n",
       "    </tr>\n",
       "    <tr>\n",
       "      <th>3</th>\n",
       "      <td>2.0</td>\n",
       "      <td>False</td>\n",
       "      <td>1.4</td>\n",
       "      <td>12.0</td>\n",
       "      <td>1.31</td>\n",
       "      <td>0.00</td>\n",
       "      <td>36</td>\n",
       "      <td>1.2</td>\n",
       "      <td>31.50</td>\n",
       "      <td>0</td>\n",
       "      <td>28</td>\n",
       "      <td>0</td>\n",
       "      <td>1</td>\n",
       "      <td>4.7</td>\n",
       "      <td>2.1407</td>\n",
       "      <td>12.3</td>\n",
       "      <td>1.77</td>\n",
       "      <td>6.99</td>\n",
       "      <td>1</td>\n",
       "      <td>2.5</td>\n",
       "    </tr>\n",
       "    <tr>\n",
       "      <th>4</th>\n",
       "      <td>3.0</td>\n",
       "      <td>True</td>\n",
       "      <td>1.2</td>\n",
       "      <td>3.0</td>\n",
       "      <td>1.05</td>\n",
       "      <td>0.00</td>\n",
       "      <td>25</td>\n",
       "      <td>0.9</td>\n",
       "      <td>19.00</td>\n",
       "      <td>0</td>\n",
       "      <td>13</td>\n",
       "      <td>0</td>\n",
       "      <td>0</td>\n",
       "      <td>4.7</td>\n",
       "      <td>1.1224</td>\n",
       "      <td>11.2</td>\n",
       "      <td>1.25</td>\n",
       "      <td>5.36</td>\n",
       "      <td>0</td>\n",
       "      <td>1.4</td>\n",
       "    </tr>\n",
       "  </tbody>\n",
       "</table>\n",
       "</div>"
      ],
      "text/plain": [
       "   CHARLSON_SCORE   CABG  MAX_CREAT  ELIXHAUSER_SCORE  AVG_CREAT  EDLOS  \\\n",
       "0             0.0   True        0.8              -1.0       0.72   0.00   \n",
       "1             1.0  False        1.0               0.0       0.92   0.00   \n",
       "2             1.0  False        1.6               0.0       1.19   0.14   \n",
       "3             2.0  False        1.4              12.0       1.31   0.00   \n",
       "4             3.0   True        1.2               3.0       1.05   0.00   \n",
       "\n",
       "   MAX_UREA  MIN_CREAT  AVG_UREA  ETHNICITY_BLACK  MIN_UREA  \\\n",
       "0        20        0.7     17.25                0        14   \n",
       "1        13        0.9     11.50                0        10   \n",
       "2        54        0.7     39.56                0        12   \n",
       "3        36        1.2     31.50                0        28   \n",
       "4        25        0.9     19.00                0        13   \n",
       "\n",
       "   ADMISSION_LOCATION_EMERGENCY ROOM ADMIT  ETHNICITY_UNKNOWN/NOT SPECIFIED  \\\n",
       "0                                        0                                0   \n",
       "1                                        0                                0   \n",
       "2                                        1                                0   \n",
       "3                                        0                                1   \n",
       "4                                        0                                0   \n",
       "\n",
       "   MAX_POT  ICULOS  MAX_HGB  AVG_INR  ADLOS  \\\n",
       "0      4.1  1.2641     10.7     1.75   5.50   \n",
       "1      4.1  0.5124     14.5     1.00   2.86   \n",
       "2      6.5  3.5466     13.1     1.00   3.53   \n",
       "3      4.7  2.1407     12.3     1.77   6.99   \n",
       "4      4.7  1.1224     11.2     1.25   5.36   \n",
       "\n",
       "   ADMISSION_LOCATION_TRANSFER FROM HOSP/EXTRAM  MAX_INR  \n",
       "0                                             0      2.0  \n",
       "1                                             1      1.0  \n",
       "2                                             0      1.1  \n",
       "3                                             1      2.5  \n",
       "4                                             0      1.4  "
      ]
     },
     "execution_count": 14,
     "metadata": {},
     "output_type": "execute_result"
    }
   ],
   "source": [
    "mi_list_ONE = TopK('ONEYEARREADMIT', 20)\n",
    "df_topk_oneyear = df_final[mi_list_ONE]\n",
    "df_topk_oneyear.head()"
   ]
  },
  {
   "cell_type": "markdown",
   "metadata": {},
   "source": [
    "## Hard EM"
   ]
  },
  {
   "cell_type": "code",
   "execution_count": 15,
   "metadata": {
    "collapsed": true
   },
   "outputs": [],
   "source": [
    "# split train test \n",
    "X_train, X_test, Y_train, Y_test = train_test_split(df_topk_oneyear, df_final[['ONEYEARREADMIT']], stratify=df_final[['ONEYEARREADMIT']], test_size=0.3)"
   ]
  },
  {
   "cell_type": "code",
   "execution_count": 16,
   "metadata": {},
   "outputs": [
    {
     "data": {
      "text/plain": [
       "(9042, 20)"
      ]
     },
     "execution_count": 16,
     "metadata": {},
     "output_type": "execute_result"
    }
   ],
   "source": [
    "X_train.shape"
   ]
  },
  {
   "cell_type": "code",
   "execution_count": 17,
   "metadata": {},
   "outputs": [
    {
     "data": {
      "text/plain": [
       "(3876, 20)"
      ]
     },
     "execution_count": 17,
     "metadata": {},
     "output_type": "execute_result"
    }
   ],
   "source": [
    "X_test.shape"
   ]
  },
  {
   "cell_type": "code",
   "execution_count": 18,
   "metadata": {},
   "outputs": [],
   "source": [
    "X_train = X_train.reset_index(drop=True)\n",
    "X_test = X_test.reset_index(drop=True)\n",
    "Y_train = Y_train.reset_index(drop=True)\n",
    "Y_test = Y_test.reset_index(drop=True)"
   ]
  },
  {
   "cell_type": "code",
   "execution_count": 19,
   "metadata": {},
   "outputs": [
    {
     "data": {
      "text/html": [
       "<div>\n",
       "<style>\n",
       "    .dataframe thead tr:only-child th {\n",
       "        text-align: right;\n",
       "    }\n",
       "\n",
       "    .dataframe thead th {\n",
       "        text-align: left;\n",
       "    }\n",
       "\n",
       "    .dataframe tbody tr th {\n",
       "        vertical-align: top;\n",
       "    }\n",
       "</style>\n",
       "<table border=\"1\" class=\"dataframe\">\n",
       "  <thead>\n",
       "    <tr style=\"text-align: right;\">\n",
       "      <th></th>\n",
       "      <th>ETHNICITY_BLACK</th>\n",
       "    </tr>\n",
       "  </thead>\n",
       "  <tbody>\n",
       "    <tr>\n",
       "      <th>0</th>\n",
       "      <td>NaN</td>\n",
       "    </tr>\n",
       "    <tr>\n",
       "      <th>1</th>\n",
       "      <td>NaN</td>\n",
       "    </tr>\n",
       "    <tr>\n",
       "      <th>2</th>\n",
       "      <td>NaN</td>\n",
       "    </tr>\n",
       "    <tr>\n",
       "      <th>3</th>\n",
       "      <td>NaN</td>\n",
       "    </tr>\n",
       "    <tr>\n",
       "      <th>4</th>\n",
       "      <td>NaN</td>\n",
       "    </tr>\n",
       "  </tbody>\n",
       "</table>\n",
       "</div>"
      ],
      "text/plain": [
       "  ETHNICITY_BLACK\n",
       "0             NaN\n",
       "1             NaN\n",
       "2             NaN\n",
       "3             NaN\n",
       "4             NaN"
      ]
     },
     "execution_count": 19,
     "metadata": {},
     "output_type": "execute_result"
    }
   ],
   "source": [
    "index_data =range(0,9042)\n",
    "column_split = ['ETHNICITY_BLACK']\n",
    "df_cohort = pd.DataFrame(index=index_data, columns=column_split)\n",
    "df_cohort.head()"
   ]
  },
  {
   "cell_type": "code",
   "execution_count": 20,
   "metadata": {},
   "outputs": [
    {
     "data": {
      "text/html": [
       "<div>\n",
       "<style>\n",
       "    .dataframe thead tr:only-child th {\n",
       "        text-align: right;\n",
       "    }\n",
       "\n",
       "    .dataframe thead th {\n",
       "        text-align: left;\n",
       "    }\n",
       "\n",
       "    .dataframe tbody tr th {\n",
       "        vertical-align: top;\n",
       "    }\n",
       "</style>\n",
       "<table border=\"1\" class=\"dataframe\">\n",
       "  <thead>\n",
       "    <tr style=\"text-align: right;\">\n",
       "      <th></th>\n",
       "      <th>ETHNICITY_BLACK</th>\n",
       "    </tr>\n",
       "  </thead>\n",
       "  <tbody>\n",
       "    <tr>\n",
       "      <th>0</th>\n",
       "      <td>0</td>\n",
       "    </tr>\n",
       "    <tr>\n",
       "      <th>1</th>\n",
       "      <td>0</td>\n",
       "    </tr>\n",
       "    <tr>\n",
       "      <th>2</th>\n",
       "      <td>0</td>\n",
       "    </tr>\n",
       "    <tr>\n",
       "      <th>3</th>\n",
       "      <td>0</td>\n",
       "    </tr>\n",
       "    <tr>\n",
       "      <th>4</th>\n",
       "      <td>0</td>\n",
       "    </tr>\n",
       "  </tbody>\n",
       "</table>\n",
       "</div>"
      ],
      "text/plain": [
       "  ETHNICITY_BLACK\n",
       "0               0\n",
       "1               0\n",
       "2               0\n",
       "3               0\n",
       "4               0"
      ]
     },
     "execution_count": 20,
     "metadata": {},
     "output_type": "execute_result"
    }
   ],
   "source": [
    "for i in range(9042):\n",
    "    if X_train['ETHNICITY_BLACK'][i] == 0:\n",
    "        df_cohort['ETHNICITY_BLACK'][i] = 0\n",
    "    elif X_train['ETHNICITY_BLACK'][i] == 1:\n",
    "        df_cohort['ETHNICITY_BLACK'][i] = 1\n",
    "\n",
    "df_cohort.head()"
   ]
  },
  {
   "cell_type": "code",
   "execution_count": 21,
   "metadata": {},
   "outputs": [
    {
     "name": "stdout",
     "output_type": "stream",
     "text": [
      "(9042, 20)\n",
      "(9042,)\n",
      "(9042,)\n",
      "(3876, 20)\n",
      "(3876,)\n"
     ]
    }
   ],
   "source": [
    "data = X_train.as_matrix()\n",
    "print(data.shape)\n",
    "\n",
    "target = (Y_train.as_matrix()).ravel()\n",
    "print(target.shape)\n",
    "\n",
    "cohort = (df_cohort.as_matrix()).ravel()\n",
    "print(cohort.shape)\n",
    "\n",
    "test_data = X_test.as_matrix()\n",
    "print(test_data.shape)\n",
    "\n",
    "test_target = (Y_test.as_matrix()).ravel()\n",
    "print(test_target.shape)"
   ]
  },
  {
   "cell_type": "code",
   "execution_count": 22,
   "metadata": {},
   "outputs": [
    {
     "data": {
      "text/plain": [
       "array([[3.0, False, 1.7, ..., 93.94, 1, 4.9],\n",
       "       [3.0, False, 3.4, ..., 3.5, 0, 1.5],\n",
       "       [3.0, False, 1.7, ..., 4.92, 0, 1.2],\n",
       "       ..., \n",
       "       [2.0, False, 1.1, ..., 4.24, 0, 1.2],\n",
       "       [1.0, True, 1.3, ..., 5.05, 1, 1.4],\n",
       "       [1.0, True, 1.3, ..., 8.73, 1, 2.2]], dtype=object)"
      ]
     },
     "execution_count": 22,
     "metadata": {},
     "output_type": "execute_result"
    }
   ],
   "source": [
    "data"
   ]
  },
  {
   "cell_type": "code",
   "execution_count": 23,
   "metadata": {},
   "outputs": [
    {
     "data": {
      "text/plain": [
       "array([0, 0, 0, 1, 0, 1, 0, 0, 0, 0])"
      ]
     },
     "execution_count": 23,
     "metadata": {},
     "output_type": "execute_result"
    }
   ],
   "source": [
    "target[0:10]"
   ]
  },
  {
   "cell_type": "code",
   "execution_count": 27,
   "metadata": {},
   "outputs": [
    {
     "data": {
      "text/plain": [
       "LogisticRegression(C=1, class_weight=None, dual=False, fit_intercept=True,\n",
       "          intercept_scaling=1, max_iter=100, multi_class='ovr', n_jobs=1,\n",
       "          penalty='l1', random_state=None, solver='liblinear', tol=0.0001,\n",
       "          verbose=0, warm_start=False)"
      ]
     },
     "execution_count": 27,
     "metadata": {},
     "output_type": "execute_result"
    }
   ],
   "source": [
    "clfFn_test = LR(data, target)\n",
    "# clfFn_test.get_params()\n",
    "clfFn_test"
   ]
  },
  {
   "cell_type": "code",
   "execution_count": 28,
   "metadata": {},
   "outputs": [
    {
     "data": {
      "text/plain": [
       "0.83952665339526655"
      ]
     },
     "execution_count": 28,
     "metadata": {},
     "output_type": "execute_result"
    }
   ],
   "source": [
    "clfFn_test.score(data, target)"
   ]
  },
  {
   "cell_type": "code",
   "execution_count": 29,
   "metadata": {},
   "outputs": [
    {
     "data": {
      "text/plain": [
       "array([0, 0, 0, 0, 0, 0, 0, 0, 0, 0, 0, 0, 0, 0, 0, 0, 0, 0, 0, 1])"
      ]
     },
     "execution_count": 29,
     "metadata": {},
     "output_type": "execute_result"
    }
   ],
   "source": [
    "clfFn_test.predict(data)[0:20]"
   ]
  },
  {
   "cell_type": "code",
   "execution_count": 30,
   "metadata": {
    "scrolled": true
   },
   "outputs": [
    {
     "name": "stdout",
     "output_type": "stream",
     "text": [
      "ITERATION: 1\n",
      "Cohort 1 Accuracy: 84.9721926399 %\n",
      "Not Readmitted %: 84.8656963673 %\n",
      "cohort size: 93.46383543463836 %\n",
      " \n",
      "Cohort 2 Accuracy: 69.5431472081 %\n",
      "Not Readmitted %: 58.5448392555 %\n",
      "cohort size: 6.536164565361647 %\n",
      "num_change 1688\n",
      " \n",
      " \n",
      " \n",
      "ITERATION: 2\n",
      "Cohort 1 Accuracy: 99.9462148716 %\n",
      "Not Readmitted %: 98.6688180718 %\n",
      "cohort size: 82.24950232249503 %\n",
      " \n",
      "Cohort 2 Accuracy: 100.0 %\n",
      "Not Readmitted %: 11.214953271 %\n",
      "cohort size: 17.750497677504974 %\n",
      "num_change 12\n",
      " \n",
      " \n",
      " \n",
      "ITERATION: 3\n",
      "Cohort 1 Accuracy: 100.0 %\n",
      "Not Readmitted %: 98.7070707071 %\n",
      "cohort size: 82.11678832116789 %\n",
      " \n",
      "Cohort 2 Accuracy: 100.0 %\n",
      "Not Readmitted %: 11.6883116883 %\n",
      "cohort size: 17.88321167883212 %\n",
      "num_change 5\n",
      " \n",
      " \n",
      " \n",
      "ITERATION: 4\n",
      "Cohort 1 Accuracy: 100.0 %\n",
      "Not Readmitted %: 98.7072448155 %\n",
      "cohort size: 82.12784782127848 %\n",
      " \n",
      "Cohort 2 Accuracy: 100.0 %\n",
      "Not Readmitted %: 11.6336633663 %\n",
      "cohort size: 17.872152178721525 %\n",
      "num_change 4\n",
      " \n",
      " \n",
      " \n",
      "ITERATION: 5\n",
      "Cohort 1 Accuracy: 100.0 %\n",
      "Not Readmitted %: 98.6944818304 %\n",
      "cohort size: 82.17208582172086 %\n",
      " \n",
      "Cohort 2 Accuracy: 100.0 %\n",
      "Not Readmitted %: 11.476426799 %\n",
      "cohort size: 17.82791417827914 %\n",
      "num_change 3\n",
      " \n",
      " \n",
      " \n",
      "ITERATION: 6\n",
      "Cohort 1 Accuracy: 100.0 %\n",
      "Not Readmitted %: 98.7081146548 %\n",
      "cohort size: 82.18314532183145 %\n",
      " \n",
      "Cohort 2 Accuracy: 100.0 %\n",
      "Not Readmitted %: 11.3594040968 %\n",
      "cohort size: 17.816854678168546 %\n",
      "num_change 2\n",
      " \n",
      " \n",
      " \n",
      "ITERATION: 7\n",
      "Cohort 1 Accuracy: 100.0 %\n",
      "Not Readmitted %: 98.7081146548 %\n",
      "cohort size: 82.18314532183145 %\n",
      " \n",
      "Cohort 2 Accuracy: 100.0 %\n",
      "Not Readmitted %: 11.3594040968 %\n",
      "cohort size: 17.816854678168546 %\n",
      "num_change 3\n",
      " \n",
      " \n",
      " \n",
      "ITERATION: 8\n",
      "Cohort 1 Accuracy: 100.0 %\n",
      "Not Readmitted %: 98.7082884822 %\n",
      "cohort size: 82.19420482194205 %\n",
      " \n",
      "Cohort 2 Accuracy: 100.0 %\n",
      "Not Readmitted %: 11.3043478261 %\n",
      "cohort size: 17.805795178057952 %\n",
      "num_change 4\n",
      " \n",
      " \n",
      " \n",
      "ITERATION: 9\n",
      "Cohort 1 Accuracy: 100.0 %\n",
      "Not Readmitted %: 98.6820871436 %\n",
      "cohort size: 82.23844282238443 %\n",
      " \n",
      "Cohort 2 Accuracy: 100.0 %\n",
      "Not Readmitted %: 11.2079701121 %\n",
      "cohort size: 17.761557177615572 %\n",
      "num_change 3\n",
      " \n",
      " \n",
      " \n",
      "ITERATION: 10\n",
      "Cohort 1 Accuracy: 100.0 %\n",
      "Not Readmitted %: 98.7084622629 %\n",
      "cohort size: 82.20526432205264 %\n",
      " \n",
      "Cohort 2 Accuracy: 100.0 %\n",
      "Not Readmitted %: 11.24922312 %\n",
      "cohort size: 17.794735677947358 %\n",
      "num_change 1\n",
      " \n",
      " \n",
      " \n",
      "ITERATION: 11\n",
      "Cohort 1 Accuracy: 100.0 %\n",
      "Not Readmitted %: 98.7217438105 %\n",
      "cohort size: 82.19420482194205 %\n",
      " \n",
      "Cohort 2 Accuracy: 100.0 %\n",
      "Not Readmitted %: 11.2422360248 %\n",
      "cohort size: 17.805795178057952 %\n",
      "num_change 1\n",
      " \n",
      " \n",
      " \n",
      "ITERATION: 12\n",
      "Cohort 1 Accuracy: 100.0 %\n",
      "Not Readmitted %: 98.7215717938 %\n",
      "cohort size: 82.18314532183145 %\n",
      " \n",
      "Cohort 2 Accuracy: 100.0 %\n",
      "Not Readmitted %: 11.2973308504 %\n",
      "cohort size: 17.816854678168546 %\n",
      "num_change 0\n",
      "break\n"
     ]
    }
   ],
   "source": [
    "index_counter = 1\n",
    "num_change = 0\n",
    "while True:\n",
    "    print('ITERATION:', index_counter)\n",
    "    data_1 = data[np.where(cohort == 0)]\n",
    "#     print(data_1.shape)\n",
    "    target_1 = target[np.where(cohort == 0)]\n",
    "#     print(target_1.shape)\n",
    "\n",
    "\n",
    "    data_2 = data[np.where(cohort == 1)]\n",
    "    target_2 = target[np.where(cohort == 1)]\n",
    "#     print(target_2.shape)\n",
    "\n",
    "\n",
    "    cohort1_Model = LR(data_1, target_1)\n",
    "\n",
    "    cohort2_Model = LR(data_2, target_2)\n",
    "    \n",
    "    cohort1_pred = cohort1_Model.predict(data_1) #reshape(-1,1)\n",
    "    cohort1_current_accuracy = metrics.accuracy_score(target_1, cohort1_pred)\n",
    "    print('Cohort 1 Accuracy:', cohort1_current_accuracy*100, '%')\n",
    "    print(\"Not Readmitted %:\", (1 - (sum(target_1)/len(target_1)))*100,'%')\n",
    "    print('cohort size:', (len(target_1)/len(target))*100,'%')\n",
    "    print(\" \")\n",
    "    cohort2_pred = cohort2_Model.predict(data_2) #reshape(-1,1)\n",
    "    cohort2_current_accuracy = metrics.accuracy_score(target_2, cohort2_pred)\n",
    "    print('Cohort 2 Accuracy:', cohort2_current_accuracy*100, '%')\n",
    "    print(\"Not Readmitted %:\", (1 - (sum(target_2)/len(target_2)))*100,'%')\n",
    "    print('cohort size:', (len(target_2)/len(target))*100,'%')\n",
    "\n",
    "\n",
    "    oldcohort = copy.deepcopy(cohort)\n",
    "    \n",
    "    # reassign based on whichever model gives higher probability\n",
    "    for i in range(len(target)):\n",
    "        curr_data = data[i]\n",
    "        if (target[i] == 0):  \n",
    "            if np.any((cohort1_Model.predict_proba(curr_data)[:,0]) > (cohort2_Model.predict_proba(curr_data)[:,0])):\n",
    "                cohort[i] = 0\n",
    "            else:\n",
    "                cohort[i] = 1\n",
    "        else:\n",
    "            if np.any((cohort1_Model.predict_proba(curr_data)[:,1]) > (cohort2_Model.predict_proba(curr_data)[:,1])):\n",
    "                cohort[i] = 0\n",
    "            else:\n",
    "                cohort[i] = 1\n",
    "                    \n",
    "    if sum(np.absolute(np.subtract(oldcohort, cohort))) == 0 or index_counter == 50:\n",
    "        num_change = sum(np.absolute(np.subtract(oldcohort, cohort)))\n",
    "        print('num_change', num_change)\n",
    "        print(\"break\")\n",
    "        break\n",
    "    else:\n",
    "        num_change = sum(np.absolute(np.subtract(oldcohort, cohort)))\n",
    "        print('num_change', num_change)\n",
    "    index_counter += 1\n",
    "    print(\" \")\n",
    "    print(\" \")\n",
    "    print(\" \")\n"
   ]
  },
  {
   "cell_type": "code",
   "execution_count": 31,
   "metadata": {},
   "outputs": [
    {
     "data": {
      "text/plain": [
       "95"
      ]
     },
     "execution_count": 31,
     "metadata": {},
     "output_type": "execute_result"
    }
   ],
   "source": [
    "sum(target_1)"
   ]
  },
  {
   "cell_type": "code",
   "execution_count": 32,
   "metadata": {},
   "outputs": [
    {
     "data": {
      "text/plain": [
       "1429"
      ]
     },
     "execution_count": 32,
     "metadata": {},
     "output_type": "execute_result"
    }
   ],
   "source": [
    "sum(target_2)"
   ]
  },
  {
   "cell_type": "code",
   "execution_count": 33,
   "metadata": {},
   "outputs": [],
   "source": [
    "cohort=cohort.astype('int')\n",
    "cohort_clf = LR(data, cohort)"
   ]
  },
  {
   "cell_type": "code",
   "execution_count": 34,
   "metadata": {},
   "outputs": [
    {
     "data": {
      "text/plain": [
       "array([0, 0, 0, 0, 0, 0, 0, 0, 0, 0, 0, 0, 0, 0, 0, 0, 0, 1, 0, 0, 0, 0, 0,\n",
       "       0, 0, 0, 0, 0, 0, 0, 0, 0, 0, 0, 0, 0, 0, 0, 0, 0, 0, 0, 0, 0, 0, 0,\n",
       "       1, 0, 0, 0, 0, 0, 0, 0, 0, 0, 0, 0, 0, 0, 0, 0, 0, 0, 0, 0, 0, 0, 0,\n",
       "       0, 0, 0, 0, 0, 0, 0, 0, 0, 0, 0, 0, 0, 0, 0, 0, 0, 0, 0, 0, 0, 0, 0,\n",
       "       0, 0, 0, 0, 0, 0, 0, 0])"
      ]
     },
     "execution_count": 34,
     "metadata": {},
     "output_type": "execute_result"
    }
   ],
   "source": [
    "# predict cohorts for test set \n",
    "test_cohort = cohort_clf.predict(X_test)\n",
    "test_cohort[0:100]"
   ]
  },
  {
   "cell_type": "code",
   "execution_count": 35,
   "metadata": {
    "collapsed": true
   },
   "outputs": [],
   "source": [
    "testdata_1 = test_data[np.where(test_cohort == 0)]\n",
    "testtarget_1 = test_target[np.where(test_cohort == 0)]\n",
    "\n",
    "testdata_2 = test_data[np.where(test_cohort == 1)]\n",
    "testtarget_2 = test_target[np.where(test_cohort == 1)]"
   ]
  },
  {
   "cell_type": "code",
   "execution_count": 36,
   "metadata": {
    "scrolled": true
   },
   "outputs": [
    {
     "name": "stdout",
     "output_type": "stream",
     "text": [
      "Accuracy 83.4899328859 %\n",
      "Cohort fraction: 0.9610423116615067\n",
      "Not Readmitted: 84.2684563758 %\n",
      "Readmitted: 15.7315436242 %\n",
      "Predicted readmitted: 1.31543624161 %\n",
      "\n",
      "Accuracy 57.6158940397 %\n",
      "Cohort fraction: 0.03895768833849329\n",
      "Not Readmitted: 55.6291390728 %\n",
      "Readmitted: 44.3708609272 %\n",
      "Predicted readmitted: 60.2649006623 %\n",
      "\n",
      "\n",
      "Total Accuracy: 0.824819401445\n"
     ]
    }
   ],
   "source": [
    "# cohort 1\n",
    "test_cohort1_pred = cohort1_Model.predict(testdata_1)\n",
    "test_cohort1_acc = metrics.accuracy_score(testtarget_1, test_cohort1_pred)\n",
    "print('Accuracy', test_cohort1_acc*100,'%')\n",
    "print('Cohort fraction:', (len(testtarget_1)/len(test_target)))\n",
    "print(\"Not Readmitted:\", (1 - (sum(testtarget_1)/len(testtarget_1)))*100,'%')\n",
    "print(\"Readmitted:\", (sum(testtarget_1)/len(testtarget_1))*100,'%')\n",
    "print('Predicted readmitted:', (sum(test_cohort1_pred)/len(test_cohort1_pred))*100,'%')\n",
    "print()\n",
    "\n",
    "# cohort 2\n",
    "test_cohort2_pred = cohort2_Model.predict(testdata_2)\n",
    "test_cohort2_acc = metrics.accuracy_score(testtarget_2, test_cohort2_pred)\n",
    "print('Accuracy', test_cohort2_acc*100,'%')\n",
    "print('Cohort fraction:', (len(testtarget_2)/len(test_target)))\n",
    "print(\"Not Readmitted:\", (1 - (sum(testtarget_2)/len(testtarget_2)))*100,'%')\n",
    "print(\"Readmitted:\", (sum(testtarget_2)/len(testtarget_2))*100,'%')\n",
    "print('Predicted readmitted:', (sum(test_cohort2_pred)/len(test_cohort2_pred))*100,'%')\n",
    "print()\n",
    "print()\n",
    "\n",
    "# total\n",
    "total_accuracy = (test_cohort1_acc*(len(testtarget_1)/len(test_target))) + (test_cohort2_acc*(len(testtarget_2)/len(test_target))) \n",
    "print('Total Accuracy:', total_accuracy)"
   ]
  },
  {
   "cell_type": "markdown",
   "metadata": {},
   "source": [
    "\n",
    "\n"
   ]
  },
  {
   "cell_type": "markdown",
   "metadata": {},
   "source": [
    "## Hard EM - Random Initilization"
   ]
  },
  {
   "cell_type": "code",
   "execution_count": 37,
   "metadata": {
    "collapsed": true
   },
   "outputs": [],
   "source": [
    "# split train test \n",
    "X_train, X_test, Y_train, Y_test = train_test_split(df_topk_oneyear, df_final[['ONEYEARREADMIT']], stratify=df_final[['ONEYEARREADMIT']], test_size=0.3)"
   ]
  },
  {
   "cell_type": "code",
   "execution_count": 38,
   "metadata": {},
   "outputs": [
    {
     "data": {
      "text/plain": [
       "(9042, 20)"
      ]
     },
     "execution_count": 38,
     "metadata": {},
     "output_type": "execute_result"
    }
   ],
   "source": [
    "X_train.shape"
   ]
  },
  {
   "cell_type": "code",
   "execution_count": 39,
   "metadata": {},
   "outputs": [
    {
     "data": {
      "text/plain": [
       "(3876, 20)"
      ]
     },
     "execution_count": 39,
     "metadata": {},
     "output_type": "execute_result"
    }
   ],
   "source": [
    "X_test.shape"
   ]
  },
  {
   "cell_type": "code",
   "execution_count": 40,
   "metadata": {
    "collapsed": true
   },
   "outputs": [],
   "source": [
    "X_train = X_train.reset_index(drop=True)\n",
    "X_test = X_test.reset_index(drop=True)\n",
    "Y_train = Y_train.reset_index(drop=True)\n",
    "Y_test = Y_test.reset_index(drop=True)"
   ]
  },
  {
   "cell_type": "code",
   "execution_count": 41,
   "metadata": {},
   "outputs": [
    {
     "data": {
      "text/plain": [
       "array([1, 1, 1, 1, 0, 0, 1, 0, 1, 0])"
      ]
     },
     "execution_count": 41,
     "metadata": {},
     "output_type": "execute_result"
    }
   ],
   "source": [
    "# randomly initialize cohort \n",
    "cohort = np.random.randint(2, size=9042)\n",
    "cohort[0:10]"
   ]
  },
  {
   "cell_type": "code",
   "execution_count": 42,
   "metadata": {},
   "outputs": [
    {
     "name": "stdout",
     "output_type": "stream",
     "text": [
      "(9042, 20)\n",
      "(9042,)\n",
      "(3876, 20)\n",
      "(3876,)\n",
      "(9042,)\n"
     ]
    }
   ],
   "source": [
    "data = X_train.as_matrix()\n",
    "print(data.shape)\n",
    "\n",
    "target = (Y_train.as_matrix()).ravel()\n",
    "print(target.shape)\n",
    "\n",
    "test_data = X_test.as_matrix()\n",
    "print(test_data.shape)\n",
    "\n",
    "test_target = (Y_test.as_matrix()).ravel()\n",
    "print(test_target.shape)\n",
    "\n",
    "print(cohort.shape)"
   ]
  },
  {
   "cell_type": "code",
   "execution_count": 43,
   "metadata": {},
   "outputs": [
    {
     "data": {
      "text/plain": [
       "array([[1.0, False, 0.7, ..., 26.67, 1, 2.3],\n",
       "       [6.0, False, 1.6, ..., 5.96, 0, 1.4],\n",
       "       [3.0, False, 1.1, ..., 1.16, 0, 1.9],\n",
       "       ..., \n",
       "       [6.0, False, 0.8, ..., 4.82, 1, 0.9],\n",
       "       [0.0, True, 1.4, ..., 10.06, 0, 1.4],\n",
       "       [3.0, False, 1.9, ..., 5.19, 1, 1.2]], dtype=object)"
      ]
     },
     "execution_count": 43,
     "metadata": {},
     "output_type": "execute_result"
    }
   ],
   "source": [
    "data"
   ]
  },
  {
   "cell_type": "code",
   "execution_count": 44,
   "metadata": {},
   "outputs": [
    {
     "data": {
      "text/plain": [
       "array([1, 0, 0, 0, 0, 0, 0, 1, 0, 0])"
      ]
     },
     "execution_count": 44,
     "metadata": {},
     "output_type": "execute_result"
    }
   ],
   "source": [
    "target[0:10]"
   ]
  },
  {
   "cell_type": "code",
   "execution_count": 45,
   "metadata": {},
   "outputs": [
    {
     "data": {
      "text/plain": [
       "LogisticRegression(C=0.1, class_weight=None, dual=False, fit_intercept=True,\n",
       "          intercept_scaling=1, max_iter=100, multi_class='ovr', n_jobs=1,\n",
       "          penalty='l2', random_state=None, solver='liblinear', tol=0.0001,\n",
       "          verbose=0, warm_start=False)"
      ]
     },
     "execution_count": 45,
     "metadata": {},
     "output_type": "execute_result"
    }
   ],
   "source": [
    "clfFn_test = LR(data, target)\n",
    "# clfFn_test.get_params()\n",
    "clfFn_test"
   ]
  },
  {
   "cell_type": "code",
   "execution_count": 46,
   "metadata": {},
   "outputs": [
    {
     "data": {
      "text/plain": [
       "0.83731475337314754"
      ]
     },
     "execution_count": 46,
     "metadata": {},
     "output_type": "execute_result"
    }
   ],
   "source": [
    "clfFn_test.score(data, target)"
   ]
  },
  {
   "cell_type": "code",
   "execution_count": 47,
   "metadata": {},
   "outputs": [
    {
     "data": {
      "text/plain": [
       "array([0, 0, 0, 0, 0, 0, 0, 0, 0, 0, 0, 0, 0, 0, 0, 0, 0, 0, 0, 0])"
      ]
     },
     "execution_count": 47,
     "metadata": {},
     "output_type": "execute_result"
    }
   ],
   "source": [
    "clfFn_test.predict(data)[0:20]"
   ]
  },
  {
   "cell_type": "code",
   "execution_count": 48,
   "metadata": {
    "scrolled": true
   },
   "outputs": [
    {
     "name": "stdout",
     "output_type": "stream",
     "text": [
      "ITERATION: 1\n",
      "Cohort 1 Accuracy: 83.4363957597 %\n",
      "Not Readmitted %: 82.9946996466 %\n",
      "cohort size: 50.07741650077416 %\n",
      " \n",
      "Cohort 2 Accuracy: 83.7616304829 %\n",
      "Not Readmitted %: 83.2964111653 %\n",
      "cohort size: 49.92258349922584 %\n",
      "num_change 4267\n",
      " \n",
      " \n",
      " \n",
      "ITERATION: 2\n",
      "Cohort 1 Accuracy: 99.7322623829 %\n",
      "Not Readmitted %: 81.499330656 %\n",
      "cohort size: 41.307232913072326 %\n",
      " \n",
      "Cohort 2 Accuracy: 99.811569625 %\n",
      "Not Readmitted %: 84.3037497645 %\n",
      "cohort size: 58.69276708692767 %\n",
      "num_change 21\n",
      " \n",
      " \n",
      " \n",
      "ITERATION: 3\n",
      "Cohort 1 Accuracy: 99.8927613941 %\n",
      "Not Readmitted %: 81.4209115282 %\n",
      "cohort size: 41.25193541251935 %\n",
      " \n",
      "Cohort 2 Accuracy: 99.8493975904 %\n",
      "Not Readmitted %: 84.3561746988 %\n",
      "cohort size: 58.74806458748064"
     ]
    },
    {
     "name": "stderr",
     "output_type": "stream",
     "text": [
      "/Users/shagun/anaconda/lib/python3.6/site-packages/sklearn/linear_model/base.py:352: RuntimeWarning: overflow encountered in exp\n",
      "  np.exp(prob, prob)\n"
     ]
    },
    {
     "name": "stdout",
     "output_type": "stream",
     "text": [
      " %\n",
      "num_change 20\n",
      " \n",
      " \n",
      " \n",
      "ITERATION: 4\n",
      "Cohort 1 Accuracy: 99.9195710456 %\n",
      "Not Readmitted %: 81.3404825737 %\n",
      "cohort size: 41.25193541251935 %\n",
      " \n",
      "Cohort 2 Accuracy: 99.9435240964 %\n",
      "Not Readmitted %: 84.4126506024 %\n",
      "cohort size: 58.74806458748064 %"
     ]
    },
    {
     "name": "stderr",
     "output_type": "stream",
     "text": [
      "/Users/shagun/anaconda/lib/python3.6/site-packages/sklearn/linear_model/base.py:352: RuntimeWarning: overflow encountered in exp\n",
      "  np.exp(prob, prob)\n"
     ]
    },
    {
     "name": "stdout",
     "output_type": "stream",
     "text": [
      "\n",
      "num_change 7\n",
      " \n",
      " \n",
      " \n",
      "ITERATION: 5\n",
      "Cohort 1 Accuracy: 99.946366318 %\n",
      "Not Readmitted %: 81.3622955216 %\n",
      "cohort size: 41.24087591240876 %\n",
      " \n",
      "Cohort 2 Accuracy: 99.9058912102 %\n",
      "Not Readmitted %: 84.3967626576 %\n",
      "cohort size: 58.75912408759124 %\n"
     ]
    },
    {
     "name": "stderr",
     "output_type": "stream",
     "text": [
      "/Users/shagun/anaconda/lib/python3.6/site-packages/sklearn/linear_model/base.py:352: RuntimeWarning: overflow encountered in exp\n",
      "  np.exp(prob, prob)\n"
     ]
    },
    {
     "name": "stdout",
     "output_type": "stream",
     "text": [
      "num_change 5\n",
      " \n",
      " \n",
      " \n",
      "ITERATION: 6\n",
      "Cohort 1 Accuracy: 99.9463806971 %\n",
      "Not Readmitted %: 81.3941018767 %\n",
      "cohort size: 41.25193541251935 %\n",
      " \n",
      "Cohort 2 Accuracy: 99.7176204819 %\n",
      "Not Readmitted %: 84.375 %\n",
      "cohort size: 58.74806458748064 %\n"
     ]
    },
    {
     "name": "stderr",
     "output_type": "stream",
     "text": [
      "/Users/shagun/anaconda/lib/python3.6/site-packages/sklearn/linear_model/base.py:352: RuntimeWarning: overflow encountered in exp\n",
      "  np.exp(prob, prob)\n"
     ]
    },
    {
     "name": "stdout",
     "output_type": "stream",
     "text": [
      "num_change 6\n",
      " \n",
      " \n",
      " \n",
      "ITERATION: 7\n",
      "Cohort 1 Accuracy: 99.9464094319 %\n",
      "Not Readmitted %: 81.4040728832 %\n",
      "cohort size: 41.27405441274055 %\n",
      " \n",
      "Cohort 2 Accuracy: 99.9246704331 %\n",
      "Not Readmitted %: 84.3691148776 %\n",
      "cohort size: 58.72594558725945 %\n"
     ]
    },
    {
     "name": "stderr",
     "output_type": "stream",
     "text": [
      "/Users/shagun/anaconda/lib/python3.6/site-packages/sklearn/linear_model/base.py:352: RuntimeWarning: overflow encountered in exp\n",
      "  np.exp(prob, prob)\n"
     ]
    },
    {
     "name": "stdout",
     "output_type": "stream",
     "text": [
      "num_change 5\n",
      " \n",
      " \n",
      " \n",
      "ITERATION: 8\n",
      "Cohort 1 Accuracy: 99.9463950683 %\n",
      "Not Readmitted %: 81.3722862503 %\n",
      "cohort size: 41.26299491262995 %\n",
      " \n",
      "Cohort 2 Accuracy: 99.905855771 %\n",
      "Not Readmitted %: 84.3908868386 %"
     ]
    },
    {
     "name": "stderr",
     "output_type": "stream",
     "text": [
      "/Users/shagun/anaconda/lib/python3.6/site-packages/sklearn/linear_model/base.py:352: RuntimeWarning: overflow encountered in exp\n",
      "  np.exp(prob, prob)\n"
     ]
    },
    {
     "name": "stdout",
     "output_type": "stream",
     "text": [
      "\n",
      "cohort size: 58.73700508737005 %\n",
      "num_change 4\n",
      " \n",
      " \n",
      " \n",
      "ITERATION: 9\n",
      "Cohort 1 Accuracy: 99.946366318 %\n",
      "Not Readmitted %: 81.3622955216 %\n",
      "cohort size: 41.24087591240876 %\n",
      " \n",
      "Cohort 2 Accuracy: 99.9058912102 %\n",
      "Not Readmitted %: 84.3967626576 %\n",
      "cohort size: 58.75912408759124"
     ]
    },
    {
     "name": "stderr",
     "output_type": "stream",
     "text": [
      "/Users/shagun/anaconda/lib/python3.6/site-packages/sklearn/linear_model/base.py:352: RuntimeWarning: overflow encountered in exp\n",
      "  np.exp(prob, prob)\n"
     ]
    },
    {
     "name": "stdout",
     "output_type": "stream",
     "text": [
      " %\n",
      "num_change 3\n",
      " \n",
      " \n",
      " \n",
      "ITERATION: 10\n",
      "Cohort 1 Accuracy: 99.8927038627 %\n",
      "Not Readmitted %: 81.3572961373 %\n",
      "cohort size: 41.22981641229816 %\n",
      " \n",
      "Cohort 2 Accuracy: 99.9247271359 %\n",
      "Not Readmitted %: 84.3996989085 %\n",
      "cohort size: 58.770183587701844"
     ]
    },
    {
     "name": "stderr",
     "output_type": "stream",
     "text": [
      "/Users/shagun/anaconda/lib/python3.6/site-packages/sklearn/linear_model/base.py:352: RuntimeWarning: overflow encountered in exp\n",
      "  np.exp(prob, prob)\n"
     ]
    },
    {
     "name": "stdout",
     "output_type": "stream",
     "text": [
      " %\n",
      "num_change 5\n",
      " \n",
      " \n",
      " \n",
      "ITERATION: 11\n",
      "Cohort 1 Accuracy: 99.8926174497 %\n",
      "Not Readmitted %: 81.3691275168 %\n",
      "cohort size: 41.19663791196638 %\n",
      " \n",
      "Cohort 2 Accuracy: 99.9623848035 %\n",
      "Not Readmitted %: 84.3896934361 %\n",
      "cohort size: 58.803362088033616 %\n"
     ]
    },
    {
     "name": "stderr",
     "output_type": "stream",
     "text": [
      "/Users/shagun/anaconda/lib/python3.6/site-packages/sklearn/linear_model/base.py:352: RuntimeWarning: overflow encountered in exp\n",
      "  np.exp(prob, prob)\n"
     ]
    },
    {
     "name": "stdout",
     "output_type": "stream",
     "text": [
      "num_change 0\n",
      "break\n"
     ]
    }
   ],
   "source": [
    "index_counter = 1\n",
    "num_change = 0\n",
    "while True:\n",
    "    print('ITERATION:', index_counter)\n",
    "    data_1 = data[np.where(cohort == 0)]\n",
    "#     print(data_1.shape)\n",
    "    target_1 = target[np.where(cohort == 0)]\n",
    "#     print(target_1.shape)\n",
    "\n",
    "\n",
    "    data_2 = data[np.where(cohort == 1)]\n",
    "    target_2 = target[np.where(cohort == 1)]\n",
    "#     print(target_2.shape)\n",
    "\n",
    "\n",
    "    cohort1_Model = LR(data_1, target_1)\n",
    "\n",
    "    cohort2_Model = LR(data_2, target_2)\n",
    "    \n",
    "    cohort1_pred = cohort1_Model.predict(data_1) #reshape(-1,1)\n",
    "    cohort1_current_accuracy = metrics.accuracy_score(target_1, cohort1_pred)\n",
    "    print('Cohort 1 Accuracy:', cohort1_current_accuracy*100, '%')\n",
    "    print(\"Not Readmitted %:\", (1 - (sum(target_1)/len(target_1)))*100,'%')\n",
    "    print('cohort size:', (len(target_1)/len(target))*100,'%')\n",
    "    print(\" \")\n",
    "    cohort2_pred = cohort2_Model.predict(data_2) #reshape(-1,1)\n",
    "    cohort2_current_accuracy = metrics.accuracy_score(target_2, cohort2_pred)\n",
    "    print('Cohort 2 Accuracy:', cohort2_current_accuracy*100, '%')\n",
    "    print(\"Not Readmitted %:\", (1 - (sum(target_2)/len(target_2)))*100,'%')\n",
    "    print('cohort size:', (len(target_2)/len(target))*100,'%')\n",
    "\n",
    "\n",
    "    oldcohort = copy.deepcopy(cohort)\n",
    "    \n",
    "    # reassign based on whichever model gives higher probability\n",
    "    for i in range(len(target)):\n",
    "        curr_data = data[i]\n",
    "        if (target[i] == 0):  \n",
    "            if np.any((cohort1_Model.predict_proba(curr_data)[:,0]) > (cohort2_Model.predict_proba(curr_data)[:,0])):\n",
    "                cohort[i] = 0\n",
    "            else:\n",
    "                cohort[i] = 1\n",
    "        else:\n",
    "            if np.any((cohort1_Model.predict_proba(curr_data)[:,1]) > (cohort2_Model.predict_proba(curr_data)[:,1])):\n",
    "                cohort[i] = 0\n",
    "            else:\n",
    "                cohort[i] = 1\n",
    "                    \n",
    "    if sum(np.absolute(np.subtract(oldcohort, cohort))) == 0 or index_counter == 50:\n",
    "        num_change = sum(np.absolute(np.subtract(oldcohort, cohort)))\n",
    "        print('num_change', num_change)\n",
    "        print(\"break\")\n",
    "        break\n",
    "    else:\n",
    "        num_change = sum(np.absolute(np.subtract(oldcohort, cohort)))\n",
    "        print('num_change', num_change)\n",
    "    index_counter += 1\n",
    "    print(\" \")\n",
    "    print(\" \")\n",
    "    print(\" \")\n"
   ]
  },
  {
   "cell_type": "code",
   "execution_count": 49,
   "metadata": {},
   "outputs": [
    {
     "data": {
      "text/plain": [
       "694"
      ]
     },
     "execution_count": 49,
     "metadata": {},
     "output_type": "execute_result"
    }
   ],
   "source": [
    "sum(target_1)"
   ]
  },
  {
   "cell_type": "code",
   "execution_count": 50,
   "metadata": {},
   "outputs": [
    {
     "data": {
      "text/plain": [
       "830"
      ]
     },
     "execution_count": 50,
     "metadata": {},
     "output_type": "execute_result"
    }
   ],
   "source": [
    "sum(target_2)"
   ]
  },
  {
   "cell_type": "code",
   "execution_count": 51,
   "metadata": {
    "collapsed": true
   },
   "outputs": [],
   "source": [
    "cohort=cohort.astype('int')\n",
    "cohort_clf = LR(data, cohort)"
   ]
  },
  {
   "cell_type": "code",
   "execution_count": 52,
   "metadata": {},
   "outputs": [
    {
     "data": {
      "text/plain": [
       "array([1, 1, 1, 0, 0, 0, 0, 1, 1, 1, 0, 0, 1, 0, 1, 1, 1, 0, 1, 1, 0, 0, 1,\n",
       "       0, 0, 1, 1, 1, 1, 0, 1, 1, 1, 1, 1, 0, 0, 1, 1, 1, 0, 1, 0, 0, 1, 1,\n",
       "       1, 1, 0, 0, 0, 1, 0, 1, 0, 1, 0, 1, 1, 1, 0, 1, 1, 1, 1, 1, 0, 1, 0,\n",
       "       1, 0, 0, 1, 1, 0, 0, 1, 0, 0, 0, 0, 1, 1, 1, 1, 1, 1, 1, 1, 0, 1, 1,\n",
       "       1, 1, 0, 0, 1, 1, 0, 0])"
      ]
     },
     "execution_count": 52,
     "metadata": {},
     "output_type": "execute_result"
    }
   ],
   "source": [
    "# predict cohorts for test set \n",
    "test_cohort = cohort_clf.predict(X_test)\n",
    "test_cohort[0:100]"
   ]
  },
  {
   "cell_type": "code",
   "execution_count": 53,
   "metadata": {
    "collapsed": true
   },
   "outputs": [],
   "source": [
    "testdata_1 = test_data[np.where(test_cohort == 0)]\n",
    "testtarget_1 = test_target[np.where(test_cohort == 0)]\n",
    "\n",
    "testdata_2 = test_data[np.where(test_cohort == 1)]\n",
    "testtarget_2 = test_target[np.where(test_cohort == 1)]"
   ]
  },
  {
   "cell_type": "code",
   "execution_count": 54,
   "metadata": {
    "scrolled": true
   },
   "outputs": [
    {
     "name": "stdout",
     "output_type": "stream",
     "text": [
      "Accuracy 73.8717339667 %\n",
      "Cohort fraction: 0.434468524251806\n",
      "Not Readmitted: 79.1567695962 %\n",
      "Readmitted: 20.8432304038 %\n",
      "Predicted readmitted: 10.3919239905 %\n",
      "\n",
      "Accuracy 83.6678832117 %\n",
      "Cohort fraction: 0.5655314757481941\n",
      "Not Readmitted: 86.2226277372 %\n",
      "Readmitted: 13.7773722628 %\n",
      "Predicted readmitted: 5.74817518248 %\n",
      "\n",
      "\n",
      "Total Accuracy: 0.794117647059\n"
     ]
    }
   ],
   "source": [
    "# cohort 1\n",
    "test_cohort1_pred = cohort1_Model.predict(testdata_1)\n",
    "test_cohort1_acc = metrics.accuracy_score(testtarget_1, test_cohort1_pred)\n",
    "print('Accuracy', test_cohort1_acc*100,'%')\n",
    "print('Cohort fraction:', (len(testtarget_1)/len(test_target)))\n",
    "print(\"Not Readmitted:\", (1 - (sum(testtarget_1)/len(testtarget_1)))*100,'%')\n",
    "print(\"Readmitted:\", (sum(testtarget_1)/len(testtarget_1))*100,'%')\n",
    "print('Predicted readmitted:', (sum(test_cohort1_pred)/len(test_cohort1_pred))*100,'%')\n",
    "print()\n",
    "\n",
    "# cohort 2\n",
    "test_cohort2_pred = cohort2_Model.predict(testdata_2)\n",
    "test_cohort2_acc = metrics.accuracy_score(testtarget_2, test_cohort2_pred)\n",
    "print('Accuracy', test_cohort2_acc*100,'%')\n",
    "print('Cohort fraction:', (len(testtarget_2)/len(test_target)))\n",
    "print(\"Not Readmitted:\", (1 - (sum(testtarget_2)/len(testtarget_2)))*100,'%')\n",
    "print(\"Readmitted:\", (sum(testtarget_2)/len(testtarget_2))*100,'%')\n",
    "print('Predicted readmitted:', (sum(test_cohort2_pred)/len(test_cohort2_pred))*100,'%')\n",
    "print()\n",
    "print()\n",
    "\n",
    "# total\n",
    "total_accuracy = (test_cohort1_acc*(len(testtarget_1)/len(test_target))) + (test_cohort2_acc*(len(testtarget_2)/len(test_target))) \n",
    "print('Total Accuracy:', total_accuracy)"
   ]
  },
  {
   "cell_type": "markdown",
   "metadata": {},
   "source": [
    "\n",
    "\n",
    "\n",
    "\n",
    "\n"
   ]
  },
  {
   "cell_type": "markdown",
   "metadata": {},
   "source": [
    "## Hard EM - Random Initilization (k = 3)"
   ]
  },
  {
   "cell_type": "code",
   "execution_count": 73,
   "metadata": {
    "collapsed": true
   },
   "outputs": [],
   "source": [
    "# split train test \n",
    "X_train, X_test, Y_train, Y_test = train_test_split(df_topk_oneyear, df_final[['ONEYEARREADMIT']], stratify=df_final[['ONEYEARREADMIT']], test_size=0.3)"
   ]
  },
  {
   "cell_type": "code",
   "execution_count": 74,
   "metadata": {},
   "outputs": [
    {
     "data": {
      "text/plain": [
       "(9042, 20)"
      ]
     },
     "execution_count": 74,
     "metadata": {},
     "output_type": "execute_result"
    }
   ],
   "source": [
    "X_train.shape"
   ]
  },
  {
   "cell_type": "code",
   "execution_count": 75,
   "metadata": {},
   "outputs": [
    {
     "data": {
      "text/plain": [
       "(3876, 20)"
      ]
     },
     "execution_count": 75,
     "metadata": {},
     "output_type": "execute_result"
    }
   ],
   "source": [
    "X_test.shape"
   ]
  },
  {
   "cell_type": "code",
   "execution_count": 76,
   "metadata": {
    "collapsed": true
   },
   "outputs": [],
   "source": [
    "X_train = X_train.reset_index(drop=True)\n",
    "X_test = X_test.reset_index(drop=True)\n",
    "Y_train = Y_train.reset_index(drop=True)\n",
    "Y_test = Y_test.reset_index(drop=True)"
   ]
  },
  {
   "cell_type": "code",
   "execution_count": 77,
   "metadata": {},
   "outputs": [
    {
     "data": {
      "text/plain": [
       "array([1, 0, 1, 1, 0, 2, 1, 2, 0, 0])"
      ]
     },
     "execution_count": 77,
     "metadata": {},
     "output_type": "execute_result"
    }
   ],
   "source": [
    "# randomly initialize cohort \n",
    "cohort = np.random.randint(3, size=9042)\n",
    "cohort[0:10]"
   ]
  },
  {
   "cell_type": "code",
   "execution_count": 78,
   "metadata": {},
   "outputs": [
    {
     "name": "stdout",
     "output_type": "stream",
     "text": [
      "(9042, 20)\n",
      "(9042,)\n",
      "(3876, 20)\n",
      "(3876,)\n",
      "(9042,)\n"
     ]
    }
   ],
   "source": [
    "data = X_train.as_matrix()\n",
    "print(data.shape)\n",
    "\n",
    "target = (Y_train.as_matrix()).ravel()\n",
    "print(target.shape)\n",
    "\n",
    "test_data = X_test.as_matrix()\n",
    "print(test_data.shape)\n",
    "\n",
    "test_target = (Y_test.as_matrix()).ravel()\n",
    "print(test_target.shape)\n",
    "\n",
    "print(cohort.shape)"
   ]
  },
  {
   "cell_type": "code",
   "execution_count": 79,
   "metadata": {},
   "outputs": [
    {
     "data": {
      "text/plain": [
       "array([[0.0, False, 1.1, ..., 6.78, 0, 1.1],\n",
       "       [1.0, False, 0.8, ..., 4.67, 0, 1.1],\n",
       "       [2.0, False, 0.8, ..., 1.97, 0, 1.1],\n",
       "       ..., \n",
       "       [1.0, True, 0.7, ..., 4.32, 0, 1.2],\n",
       "       [3.0, True, 2.5, ..., 6.85, 0, 1.6],\n",
       "       [1.0, False, 1.9, ..., 28.03, 0, 2.7]], dtype=object)"
      ]
     },
     "execution_count": 79,
     "metadata": {},
     "output_type": "execute_result"
    }
   ],
   "source": [
    "data"
   ]
  },
  {
   "cell_type": "code",
   "execution_count": 80,
   "metadata": {},
   "outputs": [
    {
     "data": {
      "text/plain": [
       "array([0, 0, 0, 0, 0, 0, 0, 0, 1, 0])"
      ]
     },
     "execution_count": 80,
     "metadata": {},
     "output_type": "execute_result"
    }
   ],
   "source": [
    "target[0:10]"
   ]
  },
  {
   "cell_type": "code",
   "execution_count": 81,
   "metadata": {},
   "outputs": [
    {
     "data": {
      "text/plain": [
       "LogisticRegression(C=1, class_weight=None, dual=False, fit_intercept=True,\n",
       "          intercept_scaling=1, max_iter=100, multi_class='ovr', n_jobs=1,\n",
       "          penalty='l1', random_state=None, solver='liblinear', tol=0.0001,\n",
       "          verbose=0, warm_start=False)"
      ]
     },
     "execution_count": 81,
     "metadata": {},
     "output_type": "execute_result"
    }
   ],
   "source": [
    "clfFn_test = LR(data, target)\n",
    "# clfFn_test.get_params()\n",
    "clfFn_test"
   ]
  },
  {
   "cell_type": "code",
   "execution_count": 82,
   "metadata": {},
   "outputs": [
    {
     "data": {
      "text/plain": [
       "0.83842070338420704"
      ]
     },
     "execution_count": 82,
     "metadata": {},
     "output_type": "execute_result"
    }
   ],
   "source": [
    "clfFn_test.score(data, target)"
   ]
  },
  {
   "cell_type": "code",
   "execution_count": 83,
   "metadata": {},
   "outputs": [
    {
     "data": {
      "text/plain": [
       "array([0, 0, 0, 0, 0, 0, 0, 0, 0, 0, 0, 0, 0, 0, 0, 0, 0, 0, 0, 0])"
      ]
     },
     "execution_count": 83,
     "metadata": {},
     "output_type": "execute_result"
    }
   ],
   "source": [
    "clfFn_test.predict(data)[0:20]"
   ]
  },
  {
   "cell_type": "code",
   "execution_count": 84,
   "metadata": {
    "scrolled": true
   },
   "outputs": [
    {
     "name": "stdout",
     "output_type": "stream",
     "text": [
      "ITERATION: 1\n",
      "Cohort 1 Accuracy: 83.7998024366 %\n",
      "Not Readmitted %: 83.0754033586 %\n",
      "cohort size: 33.58770183587702 %\n",
      " \n",
      "Cohort 2 Accuracy: 83.2268907563 %\n",
      "Not Readmitted %: 82.2521008403 %\n",
      "cohort size: 32.90201282902013 %\n",
      " \n",
      "Cohort 3 Accuracy: 84.4884488449 %\n",
      "Not Readmitted %: 84.0924092409 %\n",
      "cohort size: 33.51028533510285 %\n",
      "num_change 8521\n",
      " \n",
      " \n",
      " \n",
      "ITERATION: 2\n",
      "Cohort 1 Accuracy: 99.9241418547 %\n",
      "Not Readmitted %: 82.8750237057 %\n",
      "cohort size: 58.316744083167436 %\n",
      " \n",
      "Cohort 2 Accuracy: 100.0 %\n",
      "Not Readmitted %: 79.7247706422 %\n",
      "cohort size: 12.05485512054855 %\n",
      " \n",
      "Cohort 3 Accuracy: 100.0 %\n",
      "Not Readmitted %: 85.0690556178 %\n",
      "cohort size: 29.62840079628401 %\n"
     ]
    },
    {
     "name": "stderr",
     "output_type": "stream",
     "text": [
      "/Users/shagun/anaconda/lib/python3.6/site-packages/sklearn/linear_model/base.py:352: RuntimeWarning: overflow encountered in exp\n",
      "  np.exp(prob, prob)\n"
     ]
    },
    {
     "name": "stdout",
     "output_type": "stream",
     "text": [
      "num_change 1934\n",
      " \n",
      " \n",
      " \n",
      "ITERATION: 3\n",
      "Cohort 1 Accuracy: 99.6224990562 %\n",
      "Not Readmitted %: 82.8237070593 %\n",
      "cohort size: 58.593231585932315 %\n",
      " \n",
      "Cohort 2 Accuracy: 100.0 %\n",
      "Not Readmitted %: 86.5930599369 %\n",
      "cohort size: 28.04689228046892 %\n",
      " \n",
      "Cohort 3 Accuracy: 100.0 %\n",
      "Not Readmitted %: 77.3178807947 %\n",
      "cohort size: 13.35987613359876 %\n",
      "num_change 1182\n",
      " \n",
      " \n",
      " \n",
      "ITERATION: 4\n",
      "Cohort 1 Accuracy: 99.8694273456 %\n",
      "Not Readmitted %: 82.3913448983 %\n",
      "cohort size: 59.289980092899796 %\n",
      " \n",
      "Cohort 2 Accuracy: 100.0 %\n",
      "Not Readmitted %: 84.0972871843 %\n",
      "cohort size: 23.645211236452113 %\n",
      " \n",
      "Cohort 3 Accuracy: 100.0 %\n",
      "Not Readmitted %: 84.4458846403 %\n",
      "cohort size: 17.064808670648087 "
     ]
    },
    {
     "name": "stderr",
     "output_type": "stream",
     "text": [
      "/Users/shagun/anaconda/lib/python3.6/site-packages/sklearn/linear_model/base.py:352: RuntimeWarning: overflow encountered in exp\n",
      "  np.exp(prob, prob)\n"
     ]
    },
    {
     "name": "stdout",
     "output_type": "stream",
     "text": [
      "%\n",
      "num_change 1461\n",
      " \n",
      " \n",
      " \n",
      "ITERATION: 5\n",
      "Cohort 1 Accuracy: 99.9814367923 %\n",
      "Not Readmitted %: 82.3835158715 %\n",
      "cohort size: 59.577527095775274 %\n",
      " \n",
      "Cohort 2 Accuracy: 100.0 %\n",
      "Not Readmitted %: 86.1725184222 %\n",
      "cohort size: 25.514266755142668 %\n",
      " \n",
      "Cohort 3 Accuracy: 100.0 %\n",
      "Not Readmitted %: 81.0089020772 %\n",
      "cohort size: 14.908206149082062 "
     ]
    },
    {
     "name": "stderr",
     "output_type": "stream",
     "text": [
      "/Users/shagun/anaconda/lib/python3.6/site-packages/sklearn/linear_model/base.py:352: RuntimeWarning: overflow encountered in exp\n",
      "  np.exp(prob, prob)\n"
     ]
    },
    {
     "name": "stdout",
     "output_type": "stream",
     "text": [
      "%\n",
      "num_change 1160\n",
      " \n",
      " \n",
      " \n",
      "ITERATION: 6\n",
      "Cohort 1 Accuracy: 99.926199262 %\n",
      "Not Readmitted %: 81.8265682657 %\n",
      "cohort size: 59.9424905994249 %\n",
      " \n",
      "Cohort 2 Accuracy: 100.0 %\n",
      "Not Readmitted %: 88.9416231609 %\n",
      "cohort size: 23.302366733023668 %\n",
      " \n",
      "Cohort 3 Accuracy: 100.0 %\n",
      "Not Readmitted %: 79.801980198 %\n",
      "cohort size: 16.755142667551425"
     ]
    },
    {
     "name": "stderr",
     "output_type": "stream",
     "text": [
      "/Users/shagun/anaconda/lib/python3.6/site-packages/sklearn/linear_model/base.py:352: RuntimeWarning: overflow encountered in exp\n",
      "  np.exp(prob, prob)\n"
     ]
    },
    {
     "name": "stdout",
     "output_type": "stream",
     "text": [
      " %\n",
      "num_change 1271\n",
      " \n",
      " \n",
      " \n",
      "ITERATION: 7\n",
      "Cohort 1 Accuracy: 99.8865140912 %\n",
      "Not Readmitted %: 80.9154529979 %\n",
      "cohort size: 58.471577084715776 %\n",
      " \n",
      "Cohort 2 Accuracy: 100.0 %\n",
      "Not Readmitted %: 90.9262759924 %\n",
      "cohort size: 23.401902234019023 %\n",
      " \n",
      "Cohort 3 Accuracy: 100.0 %\n",
      "Not Readmitted %: 80.2928615009 %\n",
      "cohort size: 18.126520681265205 %"
     ]
    },
    {
     "name": "stderr",
     "output_type": "stream",
     "text": [
      "/Users/shagun/anaconda/lib/python3.6/site-packages/sklearn/linear_model/base.py:352: RuntimeWarning: overflow encountered in exp\n",
      "  np.exp(prob, prob)\n"
     ]
    },
    {
     "name": "stdout",
     "output_type": "stream",
     "text": [
      "\n",
      "num_change 1307\n",
      " \n",
      " \n",
      " \n",
      "ITERATION: 8\n",
      "Cohort 1 Accuracy: 99.9210422424 %\n",
      "Not Readmitted %: 79.3130675089 %\n",
      "cohort size: 56.027427560274276 %\n",
      " \n",
      "Cohort 2 Accuracy: 100.0 %\n",
      "Not Readmitted %: 93.336376084 %\n",
      "cohort size: 24.231364742313648 %\n",
      " \n",
      "Cohort 3 Accuracy: 100.0 %\n",
      "Not Readmitted %: 81.512605042 %\n",
      "cohort size: 19.74120769741208 %\n"
     ]
    },
    {
     "name": "stderr",
     "output_type": "stream",
     "text": [
      "/Users/shagun/anaconda/lib/python3.6/site-packages/sklearn/linear_model/base.py:352: RuntimeWarning: overflow encountered in exp\n",
      "  np.exp(prob, prob)\n"
     ]
    },
    {
     "name": "stdout",
     "output_type": "stream",
     "text": [
      "num_change 877\n",
      " \n",
      " \n",
      " \n",
      "ITERATION: 9\n",
      "Cohort 1 Accuracy: 99.8992950655 %\n",
      "Not Readmitted %: 78.9526686808 %\n",
      "cohort size: 54.91041804910418 %\n",
      " \n",
      "Cohort 2 Accuracy: 100.0 %\n",
      "Not Readmitted %: 94.1126997477 %\n",
      "cohort size: 26.299491262994913 %\n",
      " \n",
      "Cohort 3 Accuracy: 100.0 %\n",
      "Not Readmitted %: 80.0470865215 %\n",
      "cohort size: 18.790090687900907 "
     ]
    },
    {
     "name": "stderr",
     "output_type": "stream",
     "text": [
      "/Users/shagun/anaconda/lib/python3.6/site-packages/sklearn/linear_model/base.py:352: RuntimeWarning: overflow encountered in exp\n",
      "  np.exp(prob, prob)\n"
     ]
    },
    {
     "name": "stdout",
     "output_type": "stream",
     "text": [
      "%\n",
      "num_change 567\n",
      " \n",
      " \n",
      " \n",
      "ITERATION: 10\n",
      "Cohort 1 Accuracy: 99.9194847021 %\n",
      "Not Readmitted %: 78.8647342995 %\n",
      "cohort size: 54.943596549435966 %\n",
      " \n",
      "Cohort 2 Accuracy: 100.0 %\n",
      "Not Readmitted %: 92.7221552071 %\n",
      "cohort size: 27.504976775049766 %\n",
      " \n",
      "Cohort 3 Accuracy: 100.0 %\n",
      "Not Readmitted %: 81.5374921235 %\n",
      "cohort size: 17.551426675514268 %\n",
      "num_change 899\n",
      " \n",
      " \n",
      " \n",
      "ITERATION: 11\n",
      "Cohort 1 Accuracy: 99.8151950719 %\n",
      "Not Readmitted %: 78.6858316222 %\n",
      "cohort size: 53.85976553859766 %\n",
      " \n",
      "Cohort 2 Accuracy: 100.0 %\n",
      "Not Readmitted %: 92.6861702128 %\n",
      "cohort size: 24.95023224950232 %\n",
      " \n",
      "Cohort 3 Accuracy: 100.0 %\n",
      "Not Readmitted %: 83.2463465553 %\n"
     ]
    },
    {
     "name": "stderr",
     "output_type": "stream",
     "text": [
      "/Users/shagun/anaconda/lib/python3.6/site-packages/sklearn/linear_model/base.py:352: RuntimeWarning: overflow encountered in exp\n",
      "  np.exp(prob, prob)\n"
     ]
    },
    {
     "name": "stdout",
     "output_type": "stream",
     "text": [
      "cohort size: 21.190002211900023 %\n",
      "num_change 939\n",
      " \n",
      " \n",
      " \n",
      "ITERATION: 12\n",
      "Cohort 1 Accuracy: 99.9373171751 %\n",
      "Not Readmitted %: 78.8549937317 %\n",
      "cohort size: 52.93076752930767 %\n",
      " \n",
      "Cohort 2 Accuracy: 100.0 %\n",
      "Not Readmitted %: 93.7523242841 %\n",
      "cohort size: 29.738995797389954 %\n",
      " \n",
      "Cohort 3 Accuracy: 100.0 %\n",
      "Not Readmitted %: 78.0472239949 %\n",
      "cohort size: 17.330236673302366 %\n",
      "num_change 780\n",
      " \n",
      " \n",
      " \n",
      "ITERATION: 13\n",
      "Cohort 1 Accuracy: 99.937225361 %\n",
      "Not Readmitted %: 79.1588198368 %\n",
      "cohort size: 52.85335102853351 %\n",
      " \n",
      "Cohort 2 Accuracy: 100.0 %\n",
      "Not Readmitted %: 92.9679762298 %\n",
      "cohort size: 33.49922583499226 %\n",
      " \n",
      "Cohort 3 Accuracy: 100.0 %\n",
      "Not Readmitted %: 74.4732576985 %\n",
      "cohort size: 13.647423136474233 %\n",
      "num_change 656\n",
      " \n",
      " \n",
      " \n",
      "ITERATION: 14\n",
      "Cohort 1 Accuracy: 99.9791492911 %\n",
      "Not Readmitted %: 79.7956630525 %\n",
      "cohort size: 53.04136253041363 %\n",
      " \n",
      "Cohort 2 Accuracy: 100.0 %\n",
      "Not Readmitted %: 92.9090380703 %\n",
      "cohort size: 38.0557398805574 %\n",
      " \n",
      "Cohort 3 Accuracy: 100.0 %\n",
      "Not Readmitted %: 61.3664596273 %\n",
      "cohort size: 8.902897589028976 %\n",
      "num_change 331\n",
      " \n",
      " \n",
      " \n",
      "ITERATION: 15\n",
      "Cohort 1 Accuracy: 99.9169090154 %\n",
      "Not Readmitted %: 80.2451184047 %\n",
      "cohort size: 53.24043353240433 %\n",
      " \n",
      "Cohort 2 Accuracy: 100.0 %\n",
      "Not Readmitted %: 92.7814938685 %\n",
      "cohort size: 39.68148639681486 %\n",
      " \n",
      "Cohort 3 Accuracy: 100.0 %\n",
      "Not Readmitted %: 50.9375 %\n",
      "cohort size: 7.078080070780802 %\n",
      "num_change 1448\n",
      " \n",
      " \n",
      " \n",
      "ITERATION: 16\n",
      "Cohort 1 Accuracy: 99.5433789954 %\n",
      "Not Readmitted %: 84.7925352392 %\n",
      "cohort size: 55.70670205706703 %\n",
      " \n",
      "Cohort 2 Accuracy: 100.0 %\n",
      "Not Readmitted %: 93.2588320115 %\n",
      "cohort size: 30.679053306790532 %\n",
      " \n",
      "Cohort 3 Accuracy: 100.0 %\n",
      "Not Readmitted %: 53.6149471974 %\n",
      "cohort size: 13.614244636142448 %\n",
      "num_change 1794\n",
      " \n",
      " \n",
      " \n",
      "ITERATION: 17\n",
      "Cohort 1 Accuracy: 98.9810511262 %\n",
      "Not Readmitted %: 89.7032534859 %\n",
      "cohort size: 61.86684361866843 %\n",
      " \n",
      "Cohort 2 Accuracy: 100.0 %\n",
      "Not Readmitted %: 92.8321678322 %\n",
      "cohort size: 18.97810218978102 %\n",
      " \n",
      "Cohort 3 Accuracy: 100.0 %\n",
      "Not Readmitted %: 52.3672055427 %\n",
      "cohort size: 19.15505419155054 %\n",
      "num_change 1066\n",
      " \n",
      " \n",
      " \n",
      "ITERATION: 18\n",
      "Cohort 1 Accuracy: 98.094914101 %\n",
      "Not Readmitted %: 91.2400068039 %\n",
      "cohort size: 65.01880115018801 %\n",
      " \n",
      "Cohort 2 Accuracy: 100.0 %\n",
      "Not Readmitted %: 93.0806257521 %\n",
      "cohort size: 18.38088918380889 %\n",
      " \n",
      "Cohort 3 Accuracy: 100.0 %\n",
      "Not Readmitted %: 40.4397068621 %\n",
      "cohort size: 16.600309666003096 %\n",
      "num_change 997\n",
      " \n",
      " \n",
      " \n",
      "ITERATION: 19\n",
      "Cohort 1 Accuracy: 96.7851373183 %\n",
      "Not Readmitted %: 93.3117932149 %\n",
      "cohort size: 68.45830568458305 %\n",
      " \n",
      "Cohort 2 Accuracy: 100.0 %\n",
      "Not Readmitted %: 91.1869225302 %\n",
      "cohort size: 15.560716655607166 %\n",
      " \n",
      "Cohort 3 Accuracy: 100.0 %\n",
      "Not Readmitted %: 31.7647058824 %\n",
      "cohort size: 15.980977659809776 %\n",
      "num_change 1252\n",
      " \n",
      " \n",
      " \n",
      "ITERATION: 20\n",
      "Cohort 1 Accuracy: 97.201927561 %\n",
      "Not Readmitted %: 94.8391108348 %\n",
      "cohort size: 71.14576421145765 %\n",
      " \n",
      "Cohort 2 Accuracy: 100.0 %\n",
      "Not Readmitted %: 90.8062234795 %\n",
      "cohort size: 7.819066578190665 %\n",
      " \n",
      "Cohort 3 Accuracy: 100.0 %\n",
      "Not Readmitted %: 40.7465825447 %\n",
      "cohort size: 21.035169210351693 %\n",
      "num_change 980\n",
      " \n",
      " \n",
      " \n",
      "ITERATION: 21\n",
      "Cohort 1 Accuracy: 98.5006815084 %\n",
      "Not Readmitted %: 95.4263213691 %\n",
      "cohort size: 73.0258792302588 %\n",
      " \n",
      "Cohort 2 Accuracy: 100.0 %\n",
      "Not Readmitted %: 87.2037914692 %\n",
      "cohort size: 7.000663570006636 %\n",
      " \n",
      "Cohort 3 Accuracy: 100.0 %\n",
      "Not Readmitted %: 36.8217054264 %\n",
      "cohort size: 19.973457199734572 %\n",
      "num_change 670\n",
      " \n",
      " \n",
      " \n",
      "ITERATION: 22\n",
      "Cohort 1 Accuracy: 99.1029411765 %\n",
      "Not Readmitted %: 95.6764705882 %\n",
      "cohort size: 75.204600752046 %\n",
      " \n",
      "Cohort 2 Accuracy: 100.0 %\n",
      "Not Readmitted %: 82.7988338192 %\n",
      "cohort size: 3.7934085379340856 %\n",
      " \n",
      "Cohort 3 Accuracy: 100.0 %\n",
      "Not Readmitted %: 38.3359662981 %\n",
      "cohort size: 21.001990710019907 %\n",
      "num_change 507\n",
      " \n",
      " \n",
      " \n",
      "ITERATION: 23\n",
      "Cohort 1 Accuracy: 99.1233196961 %\n",
      "Not Readmitted %: 95.6604324956 %\n",
      "cohort size: 75.69121875691219 %\n",
      " \n",
      "Cohort 2 Accuracy: 100.0 %\n",
      "Not Readmitted %: 72.380952381 %\n",
      "cohort size: 2.3224950232249504 %\n",
      " \n",
      "Cohort 3 Accuracy: 100.0 %\n",
      "Not Readmitted %: 41.1971830986 %\n",
      "cohort size: 21.986286219862862 %\n",
      "num_change 382\n",
      " \n",
      " \n",
      " \n",
      "ITERATION: 24\n",
      "Cohort 1 Accuracy: 98.5268378063 %\n",
      "Not Readmitted %: 95.5513418903 %\n",
      "cohort size: 75.82393275823934 %\n",
      " \n",
      "Cohort 2 Accuracy: 100.0 %\n",
      "Not Readmitted %: 66.6666666667 %\n",
      "cohort size: 2.2561380225613803 %\n",
      " \n",
      "Cohort 3 Accuracy: 100.0 %\n",
      "Not Readmitted %: 41.927346115 %\n",
      "cohort size: 21.91992921919929 %\n",
      "num_change 549\n",
      " \n",
      " \n",
      " \n",
      "ITERATION: 25\n",
      "Cohort 1 Accuracy: 99.5560159834 %\n",
      "Not Readmitted %: 95.1753736865 %\n",
      "cohort size: 74.72904224729042 %\n",
      " \n",
      "Cohort 2 Accuracy: 100.0 %\n",
      "Not Readmitted %: 61.7391304348 %\n",
      "cohort size: 1.2718425127184252 %\n",
      " \n",
      "Cohort 3 Accuracy: 100.0 %\n",
      "Not Readmitted %: 46.8202764977 %\n",
      "cohort size: 23.999115239991152 %\n",
      "num_change 303\n",
      " \n",
      " \n",
      " \n",
      "ITERATION: 26\n",
      "Cohort 1 Accuracy: 99.5818399044 %\n",
      "Not Readmitted %: 94.982078853 %\n",
      "cohort size: 74.05441274054412 %\n",
      " \n",
      "Cohort 2 Accuracy: 100.0 %\n",
      "Not Readmitted %: 70.7792207792 %\n",
      "cohort size: 1.70316301703163 %\n",
      " \n",
      "Cohort 3 Accuracy: 100.0 %\n",
      "Not Readmitted %: 47.8558394161 %\n",
      "cohort size: 24.242424242424242 %\n",
      "num_change 325\n",
      " \n",
      " \n",
      " \n",
      "ITERATION: 27\n",
      "Cohort 1 Accuracy: 100.0 %\n",
      "Not Readmitted %: 94.8469233101 %\n",
      "cohort size: 72.97058172970581 %\n",
      " \n",
      "Cohort 2 Accuracy: 100.0 %\n",
      "Not Readmitted %: 67.9389312977 %\n",
      "cohort size: 1.448794514487945 %\n",
      " \n",
      "Cohort 3 Accuracy: 100.0 %\n",
      "Not Readmitted %: 50.6268914829 %\n",
      "cohort size: "
     ]
    },
    {
     "name": "stderr",
     "output_type": "stream",
     "text": [
      "/Users/shagun/anaconda/lib/python3.6/site-packages/sklearn/linear_model/base.py:352: RuntimeWarning: overflow encountered in exp\n",
      "  np.exp(prob, prob)\n"
     ]
    },
    {
     "name": "stdout",
     "output_type": "stream",
     "text": [
      "25.580623755806236 %\n",
      "num_change 750\n",
      " \n",
      " \n",
      " \n",
      "ITERATION: 28\n",
      "Cohort 1 Accuracy: 100.0 %\n",
      "Not Readmitted %: 94.7984790875 %\n",
      "cohort size: 72.71621322716213 %\n",
      " \n",
      "Cohort 2 Accuracy: 100.0 %\n",
      "Not Readmitted %: 88.5486018642 %\n",
      "cohort size: 8.305684583056845 %\n",
      " \n",
      "Cohort 3 Accuracy: 100.0 %\n",
      "Not Readmitted %: 36.1305361305 %\n",
      "cohort size: 18.97810218978102 "
     ]
    },
    {
     "name": "stderr",
     "output_type": "stream",
     "text": [
      "/Users/shagun/anaconda/lib/python3.6/site-packages/sklearn/linear_model/base.py:352: RuntimeWarning: overflow encountered in exp\n",
      "  np.exp(prob, prob)\n"
     ]
    },
    {
     "name": "stdout",
     "output_type": "stream",
     "text": [
      "%\n",
      "num_change 304\n",
      " \n",
      " \n",
      " \n",
      "ITERATION: 29\n",
      "Cohort 1 Accuracy: 100.0 %\n",
      "Not Readmitted %: 94.6795461515 %\n",
      "cohort size: 72.1300597213006 %\n",
      " \n",
      "Cohort 2 Accuracy: 100.0 %\n",
      "Not Readmitted %: 84.8878394333 %\n",
      "cohort size: 9.367396593673966 %\n",
      " \n",
      "Cohort 3 Accuracy: 100.0 %\n",
      "Not Readmitted %: 37.298266587 %\n",
      "cohort size: 18.502543685025437 "
     ]
    },
    {
     "name": "stderr",
     "output_type": "stream",
     "text": [
      "/Users/shagun/anaconda/lib/python3.6/site-packages/sklearn/linear_model/base.py:352: RuntimeWarning: overflow encountered in exp\n",
      "  np.exp(prob, prob)\n"
     ]
    },
    {
     "name": "stdout",
     "output_type": "stream",
     "text": [
      "%\n",
      "num_change 387\n",
      " \n",
      " \n",
      " \n",
      "ITERATION: 30\n",
      "Cohort 1 Accuracy: 99.9846059113 %\n",
      "Not Readmitted %: 94.6274630542 %\n",
      "cohort size: 71.84251271842513 %\n",
      " \n",
      "Cohort 2 Accuracy: 100.0 %\n",
      "Not Readmitted %: 73.5454545455 %\n",
      "cohort size: 12.165450121654501 %\n",
      " \n",
      "Cohort 3 Accuracy: 100.0 %\n",
      "Not Readmitted %: 38.8658367911 %\n",
      "cohort size: 15.992037159920372 %\n"
     ]
    },
    {
     "name": "stderr",
     "output_type": "stream",
     "text": [
      "/Users/shagun/anaconda/lib/python3.6/site-packages/sklearn/linear_model/base.py:352: RuntimeWarning: overflow encountered in exp\n",
      "  np.exp(prob, prob)\n"
     ]
    },
    {
     "name": "stdout",
     "output_type": "stream",
     "text": [
      "num_change 547\n",
      " \n",
      " \n",
      " \n",
      "ITERATION: 31\n",
      "Cohort 1 Accuracy: 99.9842866122 %\n",
      "Not Readmitted %: 94.3746071653 %\n",
      "cohort size: 70.38265870382658 %\n",
      " \n",
      "Cohort 2 Accuracy: 100.0 %\n",
      "Not Readmitted %: 68.177613321 %\n",
      "cohort size: 11.955319619553197 %\n",
      " \n",
      "Cohort 3 Accuracy: 100.0 %\n",
      "Not Readmitted %: 48.5284909205 %\n",
      "cohort size: 17.662021676620217"
     ]
    },
    {
     "name": "stderr",
     "output_type": "stream",
     "text": [
      "/Users/shagun/anaconda/lib/python3.6/site-packages/sklearn/linear_model/base.py:352: RuntimeWarning: overflow encountered in exp\n",
      "  np.exp(prob, prob)\n"
     ]
    },
    {
     "name": "stdout",
     "output_type": "stream",
     "text": [
      " %\n",
      "num_change 981\n",
      " \n",
      " \n",
      " \n",
      "ITERATION: 32\n",
      "Cohort 1 Accuracy: 99.9842470069 %\n",
      "Not Readmitted %: 94.3761814745 %\n",
      "cohort size: 70.20570670205707 %\n",
      " \n",
      "Cohort 2 Accuracy: 100.0 %\n",
      "Not Readmitted %: 44.3796394486 %\n",
      "cohort size: 20.85821720858217 %\n",
      " \n",
      "Cohort 3 Accuracy: 100.0 %\n",
      "Not Readmitted %: 85.396039604 %\n",
      "cohort size: 8.936076089360762 %\n"
     ]
    },
    {
     "name": "stderr",
     "output_type": "stream",
     "text": [
      "/Users/shagun/anaconda/lib/python3.6/site-packages/sklearn/linear_model/base.py:352: RuntimeWarning: overflow encountered in exp\n",
      "  np.exp(prob, prob)\n"
     ]
    },
    {
     "name": "stdout",
     "output_type": "stream",
     "text": [
      "num_change 690\n",
      " \n",
      " \n",
      " \n",
      "ITERATION: 33\n",
      "Cohort 1 Accuracy: 99.9185269676 %\n",
      "Not Readmitted %: 94.0198794199 %\n",
      "cohort size: 67.87215217872152 %\n",
      " \n",
      "Cohort 2 Accuracy: 100.0 %\n",
      "Not Readmitted %: 43.6847599165 %\n",
      "cohort size: 21.190002211900023 %\n",
      " \n",
      "Cohort 3 Accuracy: 100.0 %\n",
      "Not Readmitted %: 92.1132457027 %\n",
      "cohort size: 10.937845609378456 %\n"
     ]
    },
    {
     "name": "stderr",
     "output_type": "stream",
     "text": [
      "/Users/shagun/anaconda/lib/python3.6/site-packages/sklearn/linear_model/base.py:352: RuntimeWarning: overflow encountered in exp\n",
      "  np.exp(prob, prob)\n"
     ]
    },
    {
     "name": "stdout",
     "output_type": "stream",
     "text": [
      "num_change 1716\n",
      " \n",
      " \n",
      " \n",
      "ITERATION: 34\n",
      "Cohort 1 Accuracy: 99.8915793278 %\n",
      "Not Readmitted %: 92.3744127214 %\n",
      "cohort size: 61.20327361203274 %\n",
      " \n",
      "Cohort 2 Accuracy: 100.0 %\n",
      "Not Readmitted %: 42.3860911271 %\n",
      "cohort size: 18.447246184472462 %\n",
      " \n",
      "Cohort 3 Accuracy: 100.0 %\n",
      "Not Readmitted %: 92.3369565217 %\n",
      "cohort size: 20.349480203494803"
     ]
    },
    {
     "name": "stderr",
     "output_type": "stream",
     "text": [
      "/Users/shagun/anaconda/lib/python3.6/site-packages/sklearn/linear_model/base.py:352: RuntimeWarning: overflow encountered in exp\n",
      "  np.exp(prob, prob)\n"
     ]
    },
    {
     "name": "stdout",
     "output_type": "stream",
     "text": [
      " %\n",
      "num_change 1703\n",
      " \n",
      " \n",
      " \n",
      "ITERATION: 35\n",
      "Cohort 1 Accuracy: 99.9800319489 %\n",
      "Not Readmitted %: 91.0343450479 %\n",
      "cohort size: 55.38597655385976 %\n",
      " \n",
      "Cohort 2 Accuracy: 100.0 %\n",
      "Not Readmitted %: 53.6811594203 %\n",
      "cohort size: 19.077637690776378 %\n",
      " \n",
      "Cohort 3 Accuracy: 100.0 %\n",
      "Not Readmitted %: 88.046773495 %\n",
      "cohort size: 25.536385755363856 "
     ]
    },
    {
     "name": "stderr",
     "output_type": "stream",
     "text": [
      "/Users/shagun/anaconda/lib/python3.6/site-packages/sklearn/linear_model/base.py:352: RuntimeWarning: overflow encountered in exp\n",
      "  np.exp(prob, prob)\n"
     ]
    },
    {
     "name": "stdout",
     "output_type": "stream",
     "text": [
      "%\n",
      "num_change 1332\n",
      " \n",
      " \n",
      " \n",
      "ITERATION: 36\n",
      "Cohort 1 Accuracy: 99.8965231788 %\n",
      "Not Readmitted %: 90.4387417219 %\n",
      "cohort size: 53.43950453439504 %\n",
      " \n",
      "Cohort 2 Accuracy: 100.0 %\n",
      "Not Readmitted %: 63.3695215119 %\n",
      "cohort size: 27.504976775049766 %\n",
      " \n",
      "Cohort 3 Accuracy: 100.0 %\n",
      "Not Readmitted %: 91.2362159025 %\n",
      "cohort size:"
     ]
    },
    {
     "name": "stderr",
     "output_type": "stream",
     "text": [
      "/Users/shagun/anaconda/lib/python3.6/site-packages/sklearn/linear_model/base.py:352: RuntimeWarning: overflow encountered in exp\n",
      "  np.exp(prob, prob)\n"
     ]
    },
    {
     "name": "stdout",
     "output_type": "stream",
     "text": [
      " 19.055518690555186 %\n",
      "num_change 1121\n",
      " \n",
      " \n",
      " \n",
      "ITERATION: 37\n",
      "Cohort 1 Accuracy: 99.9566630553 %\n",
      "Not Readmitted %: 89.4041170098 %\n",
      "cohort size: 51.03959301039593 %\n",
      " \n",
      "Cohort 2 Accuracy: 100.0 %\n",
      "Not Readmitted %: 56.6253574833 %\n",
      "cohort size: 23.202831232028313 %\n",
      " \n",
      "Cohort 3 Accuracy: 100.0 %\n",
      "Not Readmitted %: 94.6328896522 %\n",
      "cohort size: 25.757575757575758 %"
     ]
    },
    {
     "name": "stderr",
     "output_type": "stream",
     "text": [
      "/Users/shagun/anaconda/lib/python3.6/site-packages/sklearn/linear_model/base.py:352: RuntimeWarning: overflow encountered in exp\n",
      "  np.exp(prob, prob)\n"
     ]
    },
    {
     "name": "stdout",
     "output_type": "stream",
     "text": [
      "\n",
      "num_change 1394\n",
      " \n",
      " \n",
      " \n",
      "ITERATION: 38\n",
      "Cohort 1 Accuracy: 99.9775381851 %\n",
      "Not Readmitted %: 88.2749326146 %\n",
      "cohort size: 49.23689449236895 %\n",
      " \n",
      "Cohort 2 Accuracy: 100.0 %\n",
      "Not Readmitted %: 68.9978370584 %\n",
      "cohort size: 30.679053306790532 %\n",
      " \n",
      "Cohort 3 Accuracy: 100.0 %\n",
      "Not Readmitted %: 92.1806167401 %\n",
      "cohort size: 20.08405220084052 "
     ]
    },
    {
     "name": "stderr",
     "output_type": "stream",
     "text": [
      "/Users/shagun/anaconda/lib/python3.6/site-packages/sklearn/linear_model/base.py:352: RuntimeWarning: overflow encountered in exp\n",
      "  np.exp(prob, prob)\n"
     ]
    },
    {
     "name": "stdout",
     "output_type": "stream",
     "text": [
      "%\n",
      "num_change 1767\n",
      " \n",
      " \n",
      " \n",
      "ITERATION: 39\n",
      "Cohort 1 Accuracy: 99.9298081423 %\n",
      "Not Readmitted %: 86.5699578849 %\n",
      "cohort size: 47.26830347268303 %\n",
      " \n",
      "Cohort 2 Accuracy: 100.0 %\n",
      "Not Readmitted %: 79.7002366553 %\n",
      "cohort size: 42.05927892059279 %\n",
      " \n",
      "Cohort 3 Accuracy: 100.0 %\n",
      "Not Readmitted %: 81.5544041451 %\n",
      "cohort size: 10.672417606724176 %\n"
     ]
    },
    {
     "name": "stderr",
     "output_type": "stream",
     "text": [
      "/Users/shagun/anaconda/lib/python3.6/site-packages/sklearn/linear_model/base.py:352: RuntimeWarning: overflow encountered in exp\n",
      "  np.exp(prob, prob)\n"
     ]
    },
    {
     "name": "stdout",
     "output_type": "stream",
     "text": [
      "num_change 860\n",
      " \n",
      " \n",
      " \n",
      "ITERATION: 40\n",
      "Cohort 1 Accuracy: 99.9018404908 %\n",
      "Not Readmitted %: 84.6625766871 %\n",
      "cohort size: 45.06746295067463 %\n",
      " \n",
      "Cohort 2 Accuracy: 100.0 %\n",
      "Not Readmitted %: 80.0050365147 %\n",
      "cohort size: 43.91727493917275 %\n",
      " \n",
      "Cohort 3 Accuracy: 100.0 %\n",
      "Not Readmitted %: 89.4578313253 %\n",
      "cohort size: 11.015262110152621"
     ]
    },
    {
     "name": "stderr",
     "output_type": "stream",
     "text": [
      "/Users/shagun/anaconda/lib/python3.6/site-packages/sklearn/linear_model/base.py:352: RuntimeWarning: overflow encountered in exp\n",
      "  np.exp(prob, prob)\n"
     ]
    },
    {
     "name": "stdout",
     "output_type": "stream",
     "text": [
      " %\n",
      "num_change 1506\n",
      " \n",
      " \n",
      " \n",
      "ITERATION: 41\n",
      "Cohort 1 Accuracy: 100.0 %\n",
      "Not Readmitted %: 80.8041861746 %\n",
      "cohort size: 40.15704490157045 %\n",
      " \n",
      "Cohort 2 Accuracy: 100.0 %\n",
      "Not Readmitted %: 83.2136667492 %\n",
      "cohort size: 44.66932094669321 %\n",
      " \n",
      "Cohort 3 Accuracy: 100.0 %\n",
      "Not Readmitted %: 89.139941691 %\n",
      "cohort size: 15.173634151736342 %\n"
     ]
    },
    {
     "name": "stderr",
     "output_type": "stream",
     "text": [
      "/Users/shagun/anaconda/lib/python3.6/site-packages/sklearn/linear_model/base.py:352: RuntimeWarning: overflow encountered in exp\n",
      "  np.exp(prob, prob)\n"
     ]
    },
    {
     "name": "stdout",
     "output_type": "stream",
     "text": [
      "num_change 1977\n",
      " \n",
      " \n",
      " \n",
      "ITERATION: 42\n",
      "Cohort 1 Accuracy: 99.7406807131 %\n",
      "Not Readmitted %: 73.8087520259 %\n",
      "cohort size: 34.11855784118558 %\n",
      " \n",
      "Cohort 2 Accuracy: 100.0 %\n",
      "Not Readmitted %: 86.9310183013 %\n",
      "cohort size: 47.13558947135589 %\n",
      " \n",
      "Cohort 3 Accuracy: 100.0 %\n",
      "Not Readmitted %: 90.6194690265 %\n",
      "cohort size: 18.745852687458527 %\n",
      "num_change 2518\n",
      " \n",
      " \n",
      " \n",
      "ITERATION: 43\n",
      "Cohort 1 Accuracy: 99.9159310635 %\n",
      "Not Readmitted %: 58.6380832282 %\n",
      "cohort size: 26.310550763105507 %\n",
      " \n",
      "Cohort 2 Accuracy: 100.0 %\n",
      "Not Readmitted %: 90.7053034445 %\n",
      "cohort size: 40.45565140455651 %\n",
      " \n",
      "Cohort 3 Accuracy: 100.0 %\n",
      "Not Readmitted %: 93.3444259567 %\n",
      "cohort size: 33.23379783233798 %\n",
      "num_change 1860\n",
      " \n",
      " \n",
      " \n",
      "ITERATION: 44\n",
      "Cohort 1 Accuracy: 99.5764705882 %\n",
      "Not Readmitted %: 49.0823529412 %\n",
      "cohort size: 23.501437735014377 %\n",
      " \n",
      "Cohort 2 Accuracy: 100.0 %\n",
      "Not Readmitted %: 94.5180447693 %\n",
      "cohort size: 48.41849148418492 %\n",
      " \n",
      "Cohort 3 Accuracy: 100.0 %\n",
      "Not Readmitted %: 92.0441118551 %\n",
      "cohort size: 28.08007078080071 %\n",
      "num_change 1240\n",
      " \n",
      " \n",
      " \n",
      "ITERATION: 45\n",
      "Cohort 1 Accuracy: 99.9490056094 %\n",
      "Not Readmitted %: 41.6114227435 %\n",
      "cohort size: 21.687679716876797 %\n",
      " \n",
      "Cohort 2 Accuracy: 100.0 %\n",
      "Not Readmitted %: 96.7776816609 %\n",
      "cohort size: 51.139128511391284 %\n",
      " \n",
      "Cohort 3 Accuracy: 100.0 %\n",
      "Not Readmitted %: 90.638990639 %\n",
      "cohort size: 27.17319177173192 "
     ]
    },
    {
     "name": "stderr",
     "output_type": "stream",
     "text": [
      "/Users/shagun/anaconda/lib/python3.6/site-packages/sklearn/linear_model/base.py:352: RuntimeWarning: overflow encountered in exp\n",
      "  np.exp(prob, prob)\n"
     ]
    },
    {
     "name": "stdout",
     "output_type": "stream",
     "text": [
      "%\n",
      "num_change 1679\n",
      " \n",
      " \n",
      " \n",
      "ITERATION: 46\n",
      "Cohort 1 Accuracy: 99.4799791992 %\n",
      "Not Readmitted %: 39.365574623 %\n",
      "cohort size: 21.26741871267419 %\n",
      " \n",
      "Cohort 2 Accuracy: 100.0 %\n",
      "Not Readmitted %: 98.1900452489 %\n",
      "cohort size: 65.99203715992037 %\n",
      " \n",
      "Cohort 3 Accuracy: 100.0 %\n",
      "Not Readmitted %: 78.2986111111 %\n",
      "cohort size: 12.740544127405443 %\n",
      "num_change 2894\n",
      " \n",
      " \n",
      " \n",
      "ITERATION: 47\n",
      "Cohort 1 Accuracy: 99.8936735779 %\n",
      "Not Readmitted %: 36.2041467305 %\n",
      "cohort size: 20.802919708029197 %\n",
      " \n",
      "Cohort 2 Accuracy: 100.0 %\n",
      "Not Readmitted %: 98.499849985 %\n",
      "cohort size: 36.86131386861314 %\n",
      " \n",
      "Cohort 3 Accuracy: 100.0 %\n",
      "Not Readmitted %: 92.842215256 %\n",
      "cohort size: 42.33576642335766 %\n",
      "num_change 1546\n",
      " \n",
      " \n",
      " \n",
      "ITERATION: 48\n",
      "Cohort 1 Accuracy: 99.9461497038 %\n",
      "Not Readmitted %: 34.9488422186 %\n",
      "cohort size: 20.537491705374915 %\n",
      " \n",
      "Cohort 2 Accuracy: 100.0 %\n",
      "Not Readmitted %: 98.7545630234 %\n",
      "cohort size: 51.504092015040925 %\n",
      " \n",
      "Cohort 3 Accuracy: 100.0 %\n",
      "Not Readmitted %: 89.7943037975 %\n",
      "cohort size: 27.958416279584164 %\n"
     ]
    },
    {
     "name": "stderr",
     "output_type": "stream",
     "text": [
      "/Users/shagun/anaconda/lib/python3.6/site-packages/sklearn/linear_model/base.py:352: RuntimeWarning: overflow encountered in exp\n",
      "  np.exp(prob, prob)\n"
     ]
    },
    {
     "name": "stdout",
     "output_type": "stream",
     "text": [
      "num_change 1646\n",
      " \n",
      " \n",
      " \n",
      "ITERATION: 49\n",
      "Cohort 1 Accuracy: 100.0 %\n",
      "Not Readmitted %: 35.1103931072 %\n",
      "cohort size: 20.537491705374915 %\n",
      " \n",
      "Cohort 2 Accuracy: 100.0 %\n",
      "Not Readmitted %: 98.8742046011 %\n",
      "cohort size: 67.78367617783675 %\n",
      " \n",
      "Cohort 3 Accuracy: 100.0 %\n",
      "Not Readmitted %: 76.3257575758 %\n",
      "cohort size:"
     ]
    },
    {
     "name": "stderr",
     "output_type": "stream",
     "text": [
      "/Users/shagun/anaconda/lib/python3.6/site-packages/sklearn/linear_model/base.py:352: RuntimeWarning: overflow encountered in exp\n",
      "  np.exp(prob, prob)\n"
     ]
    },
    {
     "name": "stdout",
     "output_type": "stream",
     "text": [
      " 11.678832116788321 %\n",
      "num_change 548\n",
      " \n",
      " \n",
      " \n",
      "ITERATION: 50\n",
      "Cohort 1 Accuracy: 100.0 %\n",
      "Not Readmitted %: 35.5913978495 %\n",
      "cohort size: 20.5706702057067 %\n",
      " \n",
      "Cohort 2 Accuracy: 100.0 %\n",
      "Not Readmitted %: 98.9485078089 %\n",
      "cohort size: 71.52178721521787 %\n",
      " \n",
      "Cohort 3 Accuracy: 100.0 %\n",
      "Not Readmitted %: 63.9160839161 %\n",
      "cohort size:"
     ]
    },
    {
     "name": "stderr",
     "output_type": "stream",
     "text": [
      "/Users/shagun/anaconda/lib/python3.6/site-packages/sklearn/linear_model/base.py:352: RuntimeWarning: overflow encountered in exp\n",
      "  np.exp(prob, prob)\n"
     ]
    },
    {
     "name": "stdout",
     "output_type": "stream",
     "text": [
      " 7.907542579075426 %\n",
      "num_change 306\n",
      "break\n"
     ]
    }
   ],
   "source": [
    "index_counter = 1\n",
    "num_change = 0\n",
    "while True:\n",
    "    print('ITERATION:', index_counter)\n",
    "    data_1 = data[np.where(cohort == 0)]\n",
    "    target_1 = target[np.where(cohort == 0)]\n",
    "\n",
    "    data_2 = data[np.where(cohort == 1)]\n",
    "    target_2 = target[np.where(cohort == 1)]\n",
    "    \n",
    "    data_3 = data[np.where(cohort == 2)]\n",
    "    target_3 = target[np.where(cohort == 2)]\n",
    "\n",
    "\n",
    "    cohort1_Model = LR(data_1, target_1)\n",
    "\n",
    "    cohort2_Model = LR(data_2, target_2)\n",
    "\n",
    "    cohort3_Model = LR(data_3, target_3)\n",
    "\n",
    "\n",
    "    cohort1_pred = cohort1_Model.predict(data_1) #reshape(-1,1)\n",
    "    cohort1_current_accuracy = metrics.accuracy_score(target_1, cohort1_pred)\n",
    "    print('Cohort 1 Accuracy:', cohort1_current_accuracy*100, '%')\n",
    "    print(\"Not Readmitted %:\", (1 - (sum(target_1)/len(target_1)))*100,'%')\n",
    "    print('cohort size:', (len(target_1)/len(target))*100,'%')\n",
    "    print(\" \")\n",
    "    cohort2_pred = cohort2_Model.predict(data_2) #reshape(-1,1)\n",
    "    cohort2_current_accuracy = metrics.accuracy_score(target_2, cohort2_pred)\n",
    "    print('Cohort 2 Accuracy:', cohort2_current_accuracy*100, '%')\n",
    "    print(\"Not Readmitted %:\", (1 - (sum(target_2)/len(target_2)))*100,'%')\n",
    "    print('cohort size:', (len(target_2)/len(target))*100,'%')\n",
    "    print(\" \")\n",
    "    cohort3_pred = cohort3_Model.predict(data_3) #reshape(-1,1)\n",
    "    cohort3_current_accuracy = metrics.accuracy_score(target_3, cohort3_pred)\n",
    "    print('Cohort 3 Accuracy:', cohort3_current_accuracy*100, '%')\n",
    "    print(\"Not Readmitted %:\", (1 - (sum(target_3)/len(target_3)))*100,'%')\n",
    "    print('cohort size:', (len(target_3)/len(target))*100,'%')\n",
    "\n",
    "\n",
    "    oldcohort = copy.deepcopy(cohort)\n",
    "    \n",
    "    # reassign based on whichever model gives higher probability\n",
    "    for i in range(len(target)):\n",
    "        curr_data = data[i]\n",
    "        if (target[i] == 0):  \n",
    "            if (cohort1_Model.predict_proba(curr_data)[:,0]) > ((cohort2_Model.predict_proba(curr_data)[:,0]) and (cohort3_Model.predict_proba(curr_data)[:,0])) :\n",
    "                cohort[i] = 0\n",
    "            elif (cohort2_Model.predict_proba(curr_data)[:,0]) > ((cohort1_Model.predict_proba(curr_data)[:,0]) and (cohort3_Model.predict_proba(curr_data)[:,0])) :\n",
    "                cohort[i] = 1\n",
    "            else:\n",
    "                cohort[i] = 2\n",
    "        else:\n",
    "            if (cohort1_Model.predict_proba(curr_data)[:,1]) > ((cohort2_Model.predict_proba(curr_data)[:,1]) and (cohort3_Model.predict_proba(curr_data)[:,1])):\n",
    "                cohort[i] = 0\n",
    "            elif (cohort2_Model.predict_proba(curr_data)[:,1]) > ((cohort1_Model.predict_proba(curr_data)[:,1]) and (cohort3_Model.predict_proba(curr_data)[:,1])):\n",
    "                cohort[i] = 1\n",
    "            else:\n",
    "                cohort[i] = 2\n",
    "                    \n",
    "    if sum(np.absolute(np.subtract(oldcohort, cohort))) == 0 or index_counter == 50 or ((cohort3_current_accuracy+cohort2_current_accuracy+cohort1_current_accuracy) == 3):\n",
    "        num_change = sum(np.absolute(np.subtract(oldcohort, cohort)))\n",
    "        print('num_change', num_change)\n",
    "        print(\"break\")\n",
    "        break\n",
    "    else:\n",
    "        num_change = sum(np.absolute(np.subtract(oldcohort, cohort)))\n",
    "        print('num_change', num_change)\n",
    "    index_counter += 1\n",
    "    print(\" \")\n",
    "    print(\" \")\n",
    "    print(\" \")\n"
   ]
  },
  {
   "cell_type": "code",
   "execution_count": 85,
   "metadata": {},
   "outputs": [
    {
     "data": {
      "text/plain": [
       "1198"
      ]
     },
     "execution_count": 85,
     "metadata": {},
     "output_type": "execute_result"
    }
   ],
   "source": [
    "sum(target_1)"
   ]
  },
  {
   "cell_type": "code",
   "execution_count": 86,
   "metadata": {},
   "outputs": [
    {
     "data": {
      "text/plain": [
       "68"
      ]
     },
     "execution_count": 86,
     "metadata": {},
     "output_type": "execute_result"
    }
   ],
   "source": [
    "sum(target_2)"
   ]
  },
  {
   "cell_type": "code",
   "execution_count": 87,
   "metadata": {},
   "outputs": [
    {
     "data": {
      "text/plain": [
       "258"
      ]
     },
     "execution_count": 87,
     "metadata": {},
     "output_type": "execute_result"
    }
   ],
   "source": [
    "sum(target_3)"
   ]
  },
  {
   "cell_type": "code",
   "execution_count": 88,
   "metadata": {
    "collapsed": true
   },
   "outputs": [],
   "source": [
    "cohort=cohort.astype('int')\n",
    "cohort_clf = LR(data, cohort)"
   ]
  },
  {
   "cell_type": "code",
   "execution_count": 89,
   "metadata": {},
   "outputs": [
    {
     "data": {
      "text/plain": [
       "array([1, 1, 1, 1, 1, 1, 1, 1, 1, 0, 1, 1, 1, 0, 1, 1, 1, 1, 1, 1, 1, 1, 1,\n",
       "       1, 1, 1, 1, 2, 1, 1, 0, 1, 1, 1, 1, 1, 1, 1, 1, 0, 1, 1, 1, 1, 1, 1,\n",
       "       1, 1, 1, 0, 0, 1, 1, 1, 1, 1, 1, 1, 1, 1, 1, 1, 1, 0, 1, 1, 1, 1, 1,\n",
       "       0, 1, 1, 1, 1, 0, 1, 1, 1, 1, 1, 1, 0, 1, 1, 1, 1, 0, 1, 1, 1, 1, 1,\n",
       "       0, 1, 1, 1, 1, 1, 1, 1])"
      ]
     },
     "execution_count": 89,
     "metadata": {},
     "output_type": "execute_result"
    }
   ],
   "source": [
    "# predict cohorts for test set \n",
    "test_cohort = cohort_clf.predict(X_test)\n",
    "test_cohort[0:100]"
   ]
  },
  {
   "cell_type": "code",
   "execution_count": 90,
   "metadata": {
    "collapsed": true
   },
   "outputs": [],
   "source": [
    "testdata_1 = test_data[np.where(test_cohort == 0)]\n",
    "testtarget_1 = test_target[np.where(test_cohort == 0)]\n",
    "\n",
    "testdata_2 = test_data[np.where(test_cohort == 1)]\n",
    "testtarget_2 = test_target[np.where(test_cohort == 1)]\n",
    "\n",
    "testdata_3 = test_data[np.where(test_cohort == 2)]\n",
    "testtarget_3 = test_target[np.where(test_cohort == 2)]"
   ]
  },
  {
   "cell_type": "code",
   "execution_count": 91,
   "metadata": {
    "scrolled": true
   },
   "outputs": [
    {
     "name": "stdout",
     "output_type": "stream",
     "text": [
      "Accuracy 57.0093457944 %\n",
      "Cohort fraction: 0.13802889576883384\n",
      "Not Readmitted: 64.1121495327 %\n",
      "Readmitted: 35.8878504673 %\n",
      "Predicted readmitted: 31.7757009346 %\n",
      "\n",
      "Accuracy 85.7964869776 %\n",
      "Cohort fraction: 0.8519091847265222\n",
      "Not Readmitted: 86.3718958207 %\n",
      "Readmitted: 13.6281041793 %\n",
      "Predicted readmitted: 0.757116898849 %\n",
      "\n",
      "Accuracy 28.2051282051 %\n",
      "Cohort fraction: 0.010061919504643963\n",
      "Not Readmitted: 71.7948717949 %\n",
      "Readmitted: 28.2051282051 %\n",
      "Predicted readmitted: 89.7435897436 %\n",
      "\n",
      "\n",
      "Total Accuracy: 0.812435500516\n"
     ]
    }
   ],
   "source": [
    "# cohort 1\n",
    "test_cohort1_pred = cohort1_Model.predict(testdata_1)\n",
    "test_cohort1_acc = metrics.accuracy_score(testtarget_1, test_cohort1_pred)\n",
    "print('Accuracy', test_cohort1_acc*100,'%')\n",
    "print('Cohort fraction:', (len(testtarget_1)/len(test_target)))\n",
    "print(\"Not Readmitted:\", (1 - (sum(testtarget_1)/len(testtarget_1)))*100,'%')\n",
    "print(\"Readmitted:\", (sum(testtarget_1)/len(testtarget_1))*100,'%')\n",
    "print('Predicted readmitted:', (sum(test_cohort1_pred)/len(test_cohort1_pred))*100,'%')\n",
    "print()\n",
    "\n",
    "# cohort 2\n",
    "test_cohort2_pred = cohort2_Model.predict(testdata_2)\n",
    "test_cohort2_acc = metrics.accuracy_score(testtarget_2, test_cohort2_pred)\n",
    "print('Accuracy', test_cohort2_acc*100,'%')\n",
    "print('Cohort fraction:', (len(testtarget_2)/len(test_target)))\n",
    "print(\"Not Readmitted:\", (1 - (sum(testtarget_2)/len(testtarget_2)))*100,'%')\n",
    "print(\"Readmitted:\", (sum(testtarget_2)/len(testtarget_2))*100,'%')\n",
    "print('Predicted readmitted:', (sum(test_cohort2_pred)/len(test_cohort2_pred))*100,'%')\n",
    "print()\n",
    "\n",
    "# cohort 3\n",
    "test_cohort3_pred = cohort3_Model.predict(testdata_3)\n",
    "test_cohort3_acc = metrics.accuracy_score(testtarget_3, test_cohort3_pred)\n",
    "print('Accuracy', test_cohort3_acc*100,'%')\n",
    "print('Cohort fraction:', (len(testtarget_3)/len(test_target)))\n",
    "print(\"Not Readmitted:\", (1 - (sum(testtarget_3)/len(testtarget_3)))*100,'%')\n",
    "print(\"Readmitted:\", (sum(testtarget_3)/len(testtarget_3))*100,'%')\n",
    "print('Predicted readmitted:', (sum(test_cohort3_pred)/len(test_cohort3_pred))*100,'%')\n",
    "print()\n",
    "print()\n",
    "\n",
    "# total\n",
    "total_accuracy = (test_cohort1_acc*(len(testtarget_1)/len(test_target))) + (test_cohort2_acc*(len(testtarget_2)/len(test_target))) + (test_cohort3_acc*(len(testtarget_3)/len(test_target))) \n",
    "print('Total Accuracy:', total_accuracy)"
   ]
  },
  {
   "cell_type": "markdown",
   "metadata": {},
   "source": [
    "\n",
    "\n",
    "\n",
    "\n",
    "\n"
   ]
  },
  {
   "cell_type": "code",
   "execution_count": 26,
   "metadata": {},
   "outputs": [],
   "source": [
    "def LR(features, target):\n",
    "    \"\"\"\n",
    "    INPUT\n",
    "        features\n",
    "        target\n",
    "    \n",
    "    OUTPUT\n",
    "        optimized clf\n",
    "    \"\"\"\n",
    "\n",
    "    # Create regularization penalty space\n",
    "    penalty = ['l1', 'l2']\n",
    "\n",
    "    # Create regularization hyperparameter space\n",
    "    C = [0.001, 0.01, 0.1, 1, 10, 100, 1000]\n",
    "\n",
    "    # Create hyperparameter options\n",
    "    hyperparameters = dict(C=C, penalty=penalty)\n",
    "    \n",
    "    clf = GridSearchCV(estimator=LogisticRegression(), \n",
    "                    param_grid=hyperparameters,\n",
    "                    cv=3,\n",
    "                    refit = True)\n",
    "\n",
    "    clf.fit(features, target)\n",
    "    optimised_logistic_regression = clf.best_estimator_\n",
    "    return optimised_logistic_regression\n",
    "    "
   ]
  },
  {
   "cell_type": "code",
   "execution_count": 110,
   "metadata": {},
   "outputs": [],
   "source": [
    "def randomSplitCI(data, topKfeatures, readm_type, clf, num_run, **params):\n",
    "    \"\"\"\n",
    "    INPUT\n",
    "        data: 2D numpy array. Pre-processed data\n",
    "        clf: string. Name of the classifier from ['LR', 'SVM', 'NB']\n",
    "        num_run: int. How many times you want to run for random evaluation?\n",
    "        params: string->real. Hyper-parameter of classifier. PS: c=1.0, r=0.01\n",
    "    \n",
    "    OUTPUT\n",
    "        train_scores: list. Results of trials\n",
    "        test_scores: list. Results of trials\n",
    "        train_mean: scalar. Average accuracy\n",
    "        test_mean: scalar. Average accuracy\n",
    "        train_ci: scalar. Confidence Interval\n",
    "        test_ci: scalar. Confidence Interval\n",
    "    \"\"\"\n",
    "    \n",
    "    features = topKfeatures.as_matrix()\n",
    "    \n",
    "    if (readm_type == 'THIRTYDAYREADMIT'):\n",
    "        target = data[['THIRTYDAYREADMIT']].as_matrix()\n",
    "        notread = len(data.loc[data['THIRTYDAYREADMIT'] == False])\n",
    "        majority_class = notread/len(data['THIRTYDAYREADMIT'])\n",
    "    elif (readm_type == 'ONEYEARREADMIT'):\n",
    "        target = (data[['ONEYEARREADMIT']].as_matrix()).ravel()\n",
    "        notread = len(data.loc[data['ONEYEARREADMIT'] == False])\n",
    "        majority_class = notread/len(data['ONEYEARREADMIT'])\n",
    "    else:\n",
    "        return\n",
    "   \n",
    "    # Create regularization penalty space\n",
    "    penalty = ['l1', 'l2']\n",
    "\n",
    "    # Create regularization hyperparameter space\n",
    "    C = [0.001, 0.01, 0.1, 1, 10, 100, 1000]\n",
    "\n",
    "    # Create hyperparameter options\n",
    "    hyperparameters = dict(C=C, penalty=penalty)\n",
    "    \n",
    "    \n",
    "    train_scores = []\n",
    "    test_scores = []\n",
    "    train_scores_auc = []\n",
    "    test_scores_auc = []\n",
    "    \n",
    "    test_scores_pre = []\n",
    "    train_scores_pre = []\n",
    "    train_mean_pre = 0\n",
    "    test_mean_pre = 0\n",
    "    \n",
    "    test_scores_rec = []\n",
    "    train_scores_rec = []\n",
    "    train_mean_rec = 0\n",
    "    test_mean_rec = 0\n",
    "    \n",
    "    train_mean = 0\n",
    "    test_mean = 0\n",
    "    train_mean_auc = 0\n",
    "    test_mean_auc = 0   \n",
    "    train_ci = 0\n",
    "    test_ci = 0\n",
    "    \n",
    "    \n",
    "    \n",
    "    if (clf == 'LR'):\n",
    "#         clfFn = LogisticRegression(C=params[\"c\"])\n",
    "        clfFn = GridSearchCV(estimator=LogisticRegression(), param_grid=hyperparameters, cv=3, refit = True)\n",
    "    elif (clf == 'NB'):\n",
    "        clfFn = GaussianNB()\n",
    "    elif (clf == 'DM'):\n",
    "        clfFn = DummyClassifier(strategy='most_frequent',random_state=0)\n",
    "    else:\n",
    "        return\n",
    "    \n",
    "    for i in range(num_run):\n",
    "        # x_train,      x_test,        y_train,      y_test\n",
    "        features_train, features_test, target_train, target_test = train_test_split(features, target, stratify=target, test_size=0.3)\n",
    "        # train_features, test_features, target_train, target_test = train_test_split(features, target, test_size=0.3)\n",
    "    \n",
    "        # train the features and target datasets and fit to a model\n",
    "        clfModel = clfFn.fit(features_train, target_train)\n",
    "                \n",
    "        # predict target with feature test set using trained model\n",
    "        target_pred = clfModel.predict(features_test)  # x_test\n",
    "        \n",
    "        # predict target with feature train test set using trained model\n",
    "        feature_pred = clfModel.predict(features_train)  #x_train\n",
    "        \n",
    "        train_scores.append(metrics.accuracy_score(target_train, feature_pred))\n",
    "        test_scores.append(metrics.accuracy_score(target_test, target_pred))\n",
    "        train_scores_auc.append(metrics.roc_auc_score(target_train, feature_pred))\n",
    "        test_scores_auc.append(metrics.roc_auc_score(target_test, target_pred))\n",
    "        \n",
    "        train_scores_pre.append(metrics.precision_score(target_train, feature_pred))\n",
    "        test_scores_pre.append(metrics.precision_score(target_test, target_pred))\n",
    "        train_scores_rec.append(metrics.recall_score(target_train, feature_pred))\n",
    "        test_scores_rec.append(metrics.recall_score(target_test, target_pred))\n",
    "\n",
    "\n",
    "        \n",
    "    train_mean = np.mean(train_scores)\n",
    "    test_mean = np.mean(test_scores)\n",
    "    \n",
    "    train_mean_auc = np.mean(train_scores_auc)\n",
    "    test_mean_auc = np.mean(test_scores_auc)\n",
    "    \n",
    "    train_mean_pre = np.mean(train_scores_pre)\n",
    "    test_mean_pre = np.mean(test_scores_pre) \n",
    "    \n",
    "    train_mean_rec = np.mean(train_scores_rec)\n",
    "    test_mean_rec = np.mean(test_scores_rec) \n",
    "    \n",
    "    train_ci_full = st.t.interval(0.95, len(train_scores)-1, loc=train_mean, scale = st.sem(train_scores))\n",
    "    test_ci_full = st.t.interval(0.95, len(test_scores)-1, loc=test_mean, scale = st.sem(test_scores))\n",
    "\n",
    "    train_ci = train_mean - train_ci_full[0]\n",
    "    test_ci = test_mean - test_ci_full[0]\n",
    "    \n",
    "    \n",
    "    notread = len(data.loc[data['ONEYEARREADMIT'] == False])\n",
    "    majority_class = notread/len(data['ONEYEARREADMIT'])\n",
    "    print('not readmitted:',majority_class)\n",
    "\n",
    "    \n",
    "    ###########         end         ###########\n",
    "    return train_scores,test_scores,train_mean,test_mean, train_mean_auc, test_mean_auc, train_mean_pre, test_mean_pre, train_mean_rec, test_mean_rec, train_ci,test_ci "
   ]
  },
  {
   "cell_type": "code",
   "execution_count": 111,
   "metadata": {},
   "outputs": [
    {
     "name": "stdout",
     "output_type": "stream",
     "text": [
      "not readmitted: 0.8314754605976157\n",
      "Train    \n",
      "Result of trails:[0.83797832337978329, 0.83853129838531293, 0.83764653837646541, 0.83709356337093566, 0.83775713337757129, 0.83864189338641892, 0.83676177836761778, 0.83598761335987615, 0.83930546339305467, 0.83831010838310105]     \n",
      "Average Accuracy: 0.8378013713780138     \n",
      "Average AUC: 0.545617499628189     \n",
      "Average Precision: 0.6096989271560729     \n",
      "Average Recall: 0.1048556430446194     \n",
      "Confidence Interval: 0.0007028918263267681\n",
      "\n",
      "Test    \n",
      "Result of trails:[0.83746130030959753, 0.83926728586171306, 0.83642930856553144, 0.83771929824561409, 0.83694530443756454, 0.836171310629515, 0.83720330237358098, 0.83952528379772962, 0.83333333333333337, 0.83668730650154799]     \n",
      "Average Accuracy: 0.8370743034055728     \n",
      "Average AUC: 0.5448536053318914     \n",
      "Average Precision: 0.5957911334831103     \n",
      "Average Recall: 0.10413476263399694     \n",
      "Confidence Interval: 0.0012342430584847408\n"
     ]
    }
   ],
   "source": [
    "train_scores,test_scores,train_mean,test_mean, train_mean_auc, test_mean_auc, train_mean_pre, test_mean_pre, train_mean_rec, test_mean_rec, train_ci,test_ci = randomSplitCI(df_final, df_topk_oneyear, 'ONEYEARREADMIT' , 'LR', 10, c=1.0)\n",
    "print(\"Train\\\n",
    "    \\nResult of trails:{0} \\\n",
    "    \\nAverage Accuracy: {1} \\\n",
    "    \\nAverage AUC: {2} \\\n",
    "    \\nAverage Precision: {3} \\\n",
    "    \\nAverage Recall: {4} \\\n",
    "    \\nConfidence Interval: {5}\\n\".format(train_scores, train_mean, train_mean_auc, train_mean_pre, train_mean_rec, train_ci)\n",
    "     )\n",
    "print(\"Test\\\n",
    "    \\nResult of trails:{0} \\\n",
    "    \\nAverage Accuracy: {1} \\\n",
    "    \\nAverage AUC: {2} \\\n",
    "    \\nAverage Precision: {3} \\\n",
    "    \\nAverage Recall: {4} \\\n",
    "    \\nConfidence Interval: {5}\".format(test_scores, test_mean, test_mean_auc, test_mean_pre, test_mean_rec, test_ci)\n",
    "     )"
   ]
  },
  {
   "cell_type": "code",
   "execution_count": null,
   "metadata": {
    "collapsed": true
   },
   "outputs": [],
   "source": []
  },
  {
   "cell_type": "code",
   "execution_count": null,
   "metadata": {
    "collapsed": true
   },
   "outputs": [],
   "source": []
  },
  {
   "cell_type": "markdown",
   "metadata": {},
   "source": [
    "## Hard EM - Random Initilization (k = 3)"
   ]
  },
  {
   "cell_type": "code",
   "execution_count": 112,
   "metadata": {
    "collapsed": true
   },
   "outputs": [],
   "source": [
    "# split train test \n",
    "X_train, X_test, Y_train, Y_test = train_test_split(df_topk_oneyear, df_final[['ONEYEARREADMIT']], stratify=df_final[['ONEYEARREADMIT']], test_size=0.3)"
   ]
  },
  {
   "cell_type": "code",
   "execution_count": 113,
   "metadata": {},
   "outputs": [
    {
     "data": {
      "text/plain": [
       "(9042, 20)"
      ]
     },
     "execution_count": 113,
     "metadata": {},
     "output_type": "execute_result"
    }
   ],
   "source": [
    "X_train.shape"
   ]
  },
  {
   "cell_type": "code",
   "execution_count": 114,
   "metadata": {},
   "outputs": [
    {
     "data": {
      "text/plain": [
       "(3876, 20)"
      ]
     },
     "execution_count": 114,
     "metadata": {},
     "output_type": "execute_result"
    }
   ],
   "source": [
    "X_test.shape"
   ]
  },
  {
   "cell_type": "code",
   "execution_count": 115,
   "metadata": {
    "collapsed": true
   },
   "outputs": [],
   "source": [
    "X_train = X_train.reset_index(drop=True)\n",
    "X_test = X_test.reset_index(drop=True)\n",
    "Y_train = Y_train.reset_index(drop=True)\n",
    "Y_test = Y_test.reset_index(drop=True)"
   ]
  },
  {
   "cell_type": "code",
   "execution_count": 116,
   "metadata": {},
   "outputs": [
    {
     "data": {
      "text/plain": [
       "array([0, 0, 0, 1, 2, 1, 1, 0, 2, 2])"
      ]
     },
     "execution_count": 116,
     "metadata": {},
     "output_type": "execute_result"
    }
   ],
   "source": [
    "# randomly initialize cohort \n",
    "cohort = np.random.randint(3, size=9042)\n",
    "cohort[0:10]"
   ]
  },
  {
   "cell_type": "code",
   "execution_count": 117,
   "metadata": {},
   "outputs": [
    {
     "name": "stdout",
     "output_type": "stream",
     "text": [
      "(9042, 20)\n",
      "(9042,)\n",
      "(3876, 20)\n",
      "(3876,)\n",
      "(9042,)\n"
     ]
    }
   ],
   "source": [
    "data = X_train.as_matrix()\n",
    "print(data.shape)\n",
    "\n",
    "target = (Y_train.as_matrix()).ravel()\n",
    "print(target.shape)\n",
    "\n",
    "test_data = X_test.as_matrix()\n",
    "print(test_data.shape)\n",
    "\n",
    "test_target = (Y_test.as_matrix()).ravel()\n",
    "print(test_target.shape)\n",
    "\n",
    "print(cohort.shape)"
   ]
  },
  {
   "cell_type": "code",
   "execution_count": 118,
   "metadata": {},
   "outputs": [
    {
     "data": {
      "text/plain": [
       "array([[2.0, False, 5.5, ..., 5.96, 0, 1.0],\n",
       "       [7.0, False, 0.7, ..., 2.85, 0, 1.1],\n",
       "       [4.0, False, 2.0, ..., 2.01, 0, 1.0],\n",
       "       ..., \n",
       "       [2.0, False, 1.0, ..., 4.49, 0, 1.3],\n",
       "       [1.0, False, 1.0, ..., 2.0, 0, 1.1],\n",
       "       [0.0, True, 1.9, ..., 11.31, 0, 3.2]], dtype=object)"
      ]
     },
     "execution_count": 118,
     "metadata": {},
     "output_type": "execute_result"
    }
   ],
   "source": [
    "data"
   ]
  },
  {
   "cell_type": "code",
   "execution_count": 119,
   "metadata": {},
   "outputs": [
    {
     "data": {
      "text/plain": [
       "array([1, 0, 0, 1, 0, 0, 0, 0, 0, 0])"
      ]
     },
     "execution_count": 119,
     "metadata": {},
     "output_type": "execute_result"
    }
   ],
   "source": [
    "target[0:10]"
   ]
  },
  {
   "cell_type": "code",
   "execution_count": 120,
   "metadata": {},
   "outputs": [
    {
     "data": {
      "text/plain": [
       "LogisticRegression(C=1000, class_weight=None, dual=False, fit_intercept=True,\n",
       "          intercept_scaling=1, max_iter=100, multi_class='ovr', n_jobs=1,\n",
       "          penalty='l1', random_state=None, solver='liblinear', tol=0.0001,\n",
       "          verbose=0, warm_start=False)"
      ]
     },
     "execution_count": 120,
     "metadata": {},
     "output_type": "execute_result"
    }
   ],
   "source": [
    "clfFn_test = LR(data, target)\n",
    "# clfFn_test.get_params()\n",
    "clfFn_test"
   ]
  },
  {
   "cell_type": "code",
   "execution_count": 121,
   "metadata": {},
   "outputs": [
    {
     "data": {
      "text/plain": [
       "0.8388630833886308"
      ]
     },
     "execution_count": 121,
     "metadata": {},
     "output_type": "execute_result"
    }
   ],
   "source": [
    "clfFn_test.score(data, target)"
   ]
  },
  {
   "cell_type": "code",
   "execution_count": 122,
   "metadata": {},
   "outputs": [
    {
     "data": {
      "text/plain": [
       "array([0, 0, 0, 0, 0, 0, 1, 0, 0, 0, 0, 0, 0, 0, 0, 0, 0, 0, 0, 0])"
      ]
     },
     "execution_count": 122,
     "metadata": {},
     "output_type": "execute_result"
    }
   ],
   "source": [
    "clfFn_test.predict(data)[0:20]"
   ]
  },
  {
   "cell_type": "code",
   "execution_count": 123,
   "metadata": {
    "scrolled": true
   },
   "outputs": [
    {
     "name": "stdout",
     "output_type": "stream",
     "text": [
      "ITERATION: 1\n",
      "Cohort 1 Accuracy: 84.2174629325 %\n",
      "Not Readmitted %: 82.7347611203 %\n",
      "cohort size: 33.565582835655825 %\n",
      " \n",
      "Cohort 2 Accuracy: 83.7908496732 %\n",
      "Not Readmitted %: 82.9411764706 %\n",
      "cohort size: 33.842070338420704 %\n",
      " \n",
      "Cohort 3 Accuracy: 83.7801153716 %\n",
      "Not Readmitted %: 83.7801153716 %\n",
      "cohort size: 32.59234682592347 %\n",
      "num_change 8799\n",
      " \n",
      " \n",
      " \n",
      "ITERATION: 2\n",
      "Cohort 1 Accuracy: 99.9518459069 %\n",
      "Not Readmitted %: 84.3017656501 %\n",
      "cohort size: 68.90068568900686 %\n",
      " \n",
      "Cohort 2 Accuracy: 100.0 %\n",
      "Not Readmitted %: 82.3899371069 %\n",
      "cohort size: 5.2753815527538155 %\n",
      " \n",
      "Cohort 3 Accuracy: 100.0 %\n",
      "Not Readmitted %: 80.2141327623 %\n",
      "cohort size: 25.823932758239327 %\n",
      "num_change 1626\n",
      " \n",
      " \n",
      " \n",
      "ITERATION: 3\n",
      "Cohort 1 Accuracy: 99.9679127226 %\n",
      "Not Readmitted %: 84.2291031606 %\n",
      "cohort size: 68.93386418933865 %\n",
      " \n",
      "Cohort 2 Accuracy: 99.8910081744 %\n",
      "Not Readmitted %: 93.4604904632 %\n",
      "cohort size: 20.294182702941825 %\n",
      " \n",
      "Cohort 3 Accuracy: 100.0 %\n",
      "Not Readmitted %: 56.7761806982 %\n",
      "cohort size: 10.771953107719531 %\n",
      "num_change 446\n",
      " \n",
      " \n",
      " \n",
      "ITERATION: 4\n",
      "Cohort 1 Accuracy: 99.9200767263 %\n",
      "Not Readmitted %: 84.3190537084 %\n",
      "cohort size: 69.18823269188232 %\n",
      " \n",
      "Cohort 2 Accuracy: 100.0 %\n",
      "Not Readmitted %: 93.2697700505 %\n",
      "cohort size: 19.719088697190887 %\n",
      " \n",
      "Cohort 3 Accuracy: 100.0 %\n",
      "Not Readmitted %: 57.8265204387 %\n",
      "cohort size: 11.092678610926786 %\n",
      "num_change 681\n",
      " \n",
      " \n",
      " \n",
      "ITERATION: 5\n",
      "Cohort 1 Accuracy: 99.9519846351 %\n",
      "Not Readmitted %: 84.4590268886 %\n",
      "cohort size: 69.09975669099757 %\n",
      " \n",
      "Cohort 2 Accuracy: 100.0 %\n",
      "Not Readmitted %: 84.1697080292 %\n",
      "cohort size: 24.242424242424242 %\n",
      " \n",
      "Cohort 3 Accuracy: 100.0 %\n",
      "Not Readmitted %: 65.780730897 %\n",
      "cohort size: 6.657819066578191 %\n",
      "num_change 948\n",
      " \n",
      " \n",
      " \n",
      "ITERATION: 6\n",
      "Cohort 1 Accuracy: 99.5956655345 %\n",
      "Not Readmitted %: 85.3792657286 %\n",
      "cohort size: 68.38088918380889 %\n",
      " \n",
      "Cohort 2 Accuracy: 100.0 %\n",
      "Not Readmitted %: 86.6255144033 %\n",
      "cohort size: 21.49966821499668 %\n",
      " \n",
      "Cohort 3 Accuracy: 100.0 %\n",
      "Not Readmitted %: 60.6557377049 %\n",
      "cohort size: 10.119442601194425 %\n",
      "num_change 1875\n",
      " \n",
      " \n",
      " \n",
      "ITERATION: 7\n",
      "Cohort 1 Accuracy: 99.9509322866 %\n",
      "Not Readmitted %: 87.0461236506 %\n",
      "cohort size: 67.61778367617784 %\n",
      " \n",
      "Cohort 2 Accuracy: 100.0 %\n",
      "Not Readmitted %: 87.6385336743 %\n",
      "cohort size: 12.972793629727935 %\n",
      " \n",
      "Cohort 3 Accuracy: 100.0 %\n",
      "Not Readmitted %: 66.5527065527 %\n",
      "cohort size: 19.40942269409423 %\n"
     ]
    },
    {
     "name": "stderr",
     "output_type": "stream",
     "text": [
      "/Users/shagun/anaconda/lib/python3.6/site-packages/sklearn/linear_model/base.py:352: RuntimeWarning: overflow encountered in exp\n",
      "  np.exp(prob, prob)\n"
     ]
    },
    {
     "name": "stdout",
     "output_type": "stream",
     "text": [
      "num_change 1227\n",
      " \n",
      " \n",
      " \n",
      "ITERATION: 8\n",
      "Cohort 1 Accuracy: 99.2766436264 %\n",
      "Not Readmitted %: 87.86368751 %\n",
      "cohort size: 68.8011501880115 %\n",
      " \n",
      "Cohort 2 Accuracy: 100.0 %\n",
      "Not Readmitted %: 85.5151515152 %\n",
      "cohort size: 18.248175182481752 %\n",
      " \n",
      "Cohort 3 Accuracy: 100.0 %\n",
      "Not Readmitted %: 54.7395388557 %\n",
      "cohort size: 12.950674629506748 %\n",
      "num_change 1797\n",
      " \n",
      " \n",
      " \n",
      "ITERATION: 9\n",
      "Cohort 1 Accuracy: 99.7007978723 %\n",
      "Not Readmitted %: 89.2453457447 %\n",
      "cohort size: 66.53395266533953 %\n",
      " \n",
      "Cohort 2 Accuracy: 100.0 %\n",
      "Not Readmitted %: 75.4072924748 %\n",
      "cohort size: 14.255695642556956 %\n",
      " \n",
      "Cohort 3 Accuracy: 100.0 %\n",
      "Not Readmitted %: 67.7605066206 %\n",
      "cohort size: 19.210351692103515 "
     ]
    },
    {
     "name": "stderr",
     "output_type": "stream",
     "text": [
      "/Users/shagun/anaconda/lib/python3.6/site-packages/sklearn/linear_model/base.py:352: RuntimeWarning: overflow encountered in exp\n",
      "  np.exp(prob, prob)\n"
     ]
    },
    {
     "name": "stdout",
     "output_type": "stream",
     "text": [
      "%\n",
      "num_change 1994\n",
      " \n",
      " \n",
      " \n",
      "ITERATION: 10\n",
      "Cohort 1 Accuracy: 97.2648995441 %\n",
      "Not Readmitted %: 91.4232652372 %\n",
      "cohort size: 65.50541915505418 %\n",
      " \n",
      "Cohort 2 Accuracy: 100.0 %\n",
      "Not Readmitted %: 79.1007493755 %\n",
      "cohort size: 13.282459632824597 %\n",
      " \n",
      "Cohort 3 Accuracy: 100.0 %\n",
      "Not Readmitted %: 60.1147028154 %\n",
      "cohort size: 21.21212121212121 %\n",
      "num_change 4909\n",
      " \n",
      " \n",
      " \n",
      "ITERATION: 11\n",
      "Cohort 1 Accuracy: 95.7719714964 %\n",
      "Not Readmitted %: 88.2185273159 %\n",
      "cohort size: 46.56049546560496 %\n",
      " \n",
      "Cohort 2 Accuracy: 100.0 %\n",
      "Not Readmitted %: 76.3661202186 %\n",
      "cohort size: 8.09555408095554 %\n",
      " \n",
      "Cohort 3 Accuracy: 99.9756097561 %\n",
      "Not Readmitted %: 79.1463414634 %\n",
      "cohort size: 45.343950453439504 %\n",
      "num_change 2816\n",
      " \n",
      " \n",
      " \n",
      "ITERATION: 12\n",
      "Cohort 1 Accuracy: 99.3300852619 %\n",
      "Not Readmitted %: 85.0487210719 %\n",
      "cohort size: 36.31939836319398 %\n",
      " \n",
      "Cohort 2 Accuracy: 100.0 %\n",
      "Not Readmitted %: 79.4392523364 %\n",
      "cohort size: 7.100199071001991 %\n",
      " \n",
      "Cohort 3 Accuracy: 100.0 %\n",
      "Not Readmitted %: 82.3885848319 %\n",
      "cohort size: 56.58040256580402 %\n",
      "num_change 1280\n",
      " \n",
      " \n",
      " \n",
      "ITERATION: 13\n",
      "Cohort 1 Accuracy: 98.8611198988 %\n",
      "Not Readmitted %: 84.6251186333 %\n",
      "cohort size: 34.95907984959079 %\n",
      " \n",
      "Cohort 2 Accuracy: 100.0 %\n",
      "Not Readmitted %: 88.6363636364 %\n",
      "cohort size: 10.70559610705596 %\n",
      " \n",
      "Cohort 3 Accuracy: 100.0 %\n",
      "Not Readmitted %: 81.1113372685 %\n",
      "cohort size: 54.33532404335324 %\n",
      "num_change 1463\n",
      " \n",
      " \n",
      " \n",
      "ITERATION: 14\n",
      "Cohort 1 Accuracy: 98.8932291667 %\n",
      "Not Readmitted %: 84.6354166667 %\n",
      "cohort size: 33.97478433974784 %\n",
      " \n",
      "Cohort 2 Accuracy: 100.0 %\n",
      "Not Readmitted %: 81.3925570228 %\n",
      "cohort size: 9.212563592125637 %\n",
      " \n",
      "Cohort 3 Accuracy: 100.0 %\n",
      "Not Readmitted %: 82.5384465641 %\n",
      "cohort size: 56.812652068126525 %\n",
      "num_change 804\n",
      " \n",
      " \n",
      " \n",
      "ITERATION: 15\n",
      "Cohort 1 Accuracy: 97.6236979167 %\n",
      "Not Readmitted %: 84.3424479167 %\n",
      "cohort size: 33.97478433974784 %\n",
      " \n",
      "Cohort 2 Accuracy: 100.0 %\n",
      "Not Readmitted %: 84.1907151819 %\n",
      "cohort size: 8.814421588144215 %\n",
      " \n",
      "Cohort 3 Accuracy: 100.0 %\n",
      "Not Readmitted %: 82.2733423545 %\n",
      "cohort size: 57.21079407210794 %\n",
      "num_change 1603\n",
      " \n",
      " \n",
      " \n",
      "ITERATION: 16\n",
      "Cohort 1 Accuracy: 99.2151733159 %\n",
      "Not Readmitted %: 84.3688685415 %\n",
      "cohort size: 33.81995133819951 %\n",
      " \n",
      "Cohort 2 Accuracy: 100.0 %\n",
      "Not Readmitted %: 73.4439834025 %\n",
      "cohort size: 15.992037159920372 %\n",
      " \n",
      "Cohort 3 Accuracy: 100.0 %\n",
      "Not Readmitted %: 85.4120758043 %\n",
      "cohort size: 50.18801150188011 %\n",
      "num_change 2867\n",
      " \n",
      " \n",
      " \n",
      "ITERATION: 17\n",
      "Cohort 1 Accuracy: 98.7512323365 %\n",
      "Not Readmitted %: 83.8646072954 %\n",
      "cohort size: 33.65405883654059 %\n",
      " \n",
      "Cohort 2 Accuracy: 100.0 %\n",
      "Not Readmitted %: 88.6555847186 %\n",
      "cohort size: 37.92302587923026 %\n",
      " \n",
      "Cohort 3 Accuracy: 100.0 %\n",
      "Not Readmitted %: 74.9416342412 %\n",
      "cohort size: 28.422915284229155 %\n",
      "num_change 2227\n",
      " \n",
      " \n",
      " \n",
      "ITERATION: 18\n",
      "Cohort 1 Accuracy: 98.24 %\n",
      "Not Readmitted %: 82.944 %\n",
      "cohort size: 34.56093784560938 %\n",
      " \n",
      "Cohort 2 Accuracy: 100.0 %\n",
      "Not Readmitted %: 80.5758313058 %\n",
      "cohort size: 27.27272727272727 %\n",
      " \n",
      "Cohort 3 Accuracy: 100.0 %\n",
      "Not Readmitted %: 85.1637206607 %\n",
      "cohort size: 38.16633488166335 %\n",
      "num_change 1918\n",
      " \n",
      " \n",
      " \n",
      "ITERATION: 19\n",
      "Cohort 1 Accuracy: 96.3855421687 %\n",
      "Not Readmitted %: 79.8436991208 %\n",
      "cohort size: 33.96372483963725 %\n",
      " \n",
      "Cohort 2 Accuracy: 100.0 %\n",
      "Not Readmitted %: 68.4568835098 %\n",
      "cohort size: 14.620659146206592 %\n",
      " \n",
      "Cohort 3 Accuracy: 99.9784899978 %\n",
      "Not Readmitted %: 89.5031189503 %\n",
      "cohort size: 51.415616014156164 %\n",
      "num_change 1480\n",
      " \n",
      " \n",
      " \n",
      "ITERATION: 20\n",
      "Cohort 1 Accuracy: 97.0488466757 %\n",
      "Not Readmitted %: 75.3731343284 %\n",
      "cohort size: 32.60340632603406 %\n",
      " \n",
      "Cohort 2 Accuracy: 100.0 %\n",
      "Not Readmitted %: 72.925170068 %\n",
      "cohort size: 16.257465162574654 %\n",
      " \n",
      "Cohort 3 Accuracy: 99.9783737024 %\n",
      "Not Readmitted %: 91.3494809689 %\n",
      "cohort size: 51.139128511391284 %\n",
      "num_change 2863\n",
      " \n",
      " \n",
      " \n",
      "ITERATION: 21\n",
      "Cohort 1 Accuracy: 89.7777777778 %\n",
      "Not Readmitted %: 74.0 %\n",
      "cohort size: 34.83742534837425 %\n",
      " \n",
      "Cohort 2 Accuracy: 100.0 %\n",
      "Not Readmitted %: 86.586493987 %\n",
      "cohort size: 35.86595885865959 %\n",
      " \n",
      "Cohort 3 Accuracy: 100.0 %\n",
      "Not Readmitted %: 89.8074745187 %\n",
      "cohort size: 29.296615792966158 %\n",
      "num_change 2664\n",
      " \n",
      " \n",
      " \n",
      "ITERATION: 22\n",
      "Cohort 1 Accuracy: 93.3786579959 %\n",
      "Not Readmitted %: 71.3567839196 %\n",
      "cohort size: 37.41428887414288 %\n",
      " \n",
      "Cohort 2 Accuracy: 100.0 %\n",
      "Not Readmitted %: 90.5163329821 %\n",
      "cohort size: 31.48639681486397 %\n",
      " \n",
      "Cohort 3 Accuracy: 100.0 %\n",
      "Not Readmitted %: 89.8648648649 %\n",
      "cohort size: 31.099314310993144 %\n"
     ]
    },
    {
     "name": "stderr",
     "output_type": "stream",
     "text": [
      "/Users/shagun/anaconda/lib/python3.6/site-packages/sklearn/linear_model/base.py:352: RuntimeWarning: overflow encountered in exp\n",
      "  np.exp(prob, prob)\n"
     ]
    },
    {
     "name": "stdout",
     "output_type": "stream",
     "text": [
      "num_change 1900\n",
      " \n",
      " \n",
      " \n",
      "ITERATION: 23\n",
      "Cohort 1 Accuracy: 98.0526315789 %\n",
      "Not Readmitted %: 72.6052631579 %\n",
      "cohort size: 42.026100420261 %\n",
      " \n",
      "Cohort 2 Accuracy: 100.0 %\n",
      "Not Readmitted %: 92.7780452576 %\n",
      "cohort size: 22.970581729705817 %\n",
      " \n",
      "Cohort 3 Accuracy: 100.0 %\n",
      "Not Readmitted %: 89.4786729858 %\n",
      "cohort size: 35.00331785003318 %\n",
      "num_change 1389\n",
      " \n",
      " \n",
      " \n",
      "ITERATION: 24\n",
      "Cohort 1 Accuracy: 99.5045045045 %\n",
      "Not Readmitted %: 75.990990991 %\n",
      "cohort size: 49.1041804910418 %\n",
      " \n",
      "Cohort 2 Accuracy: 100.0 %\n",
      "Not Readmitted %: 93.1478968792 %\n",
      "cohort size: 16.30170316301703 %\n",
      " \n",
      "Cohort 3 Accuracy: 100.0 %\n",
      "Not Readmitted %: 88.5869565217 %\n",
      "cohort size: 34.59411634594116 %\n",
      "num_change 1948\n",
      " \n",
      " \n",
      " \n",
      "ITERATION: 25\n",
      "Cohort 1 Accuracy: 99.5538559592 %\n",
      "Not Readmitted %: 77.3741236456 %\n",
      "cohort size: 52.05706702057067 %\n",
      " \n",
      "Cohort 2 Accuracy: 100.0 %\n",
      "Not Readmitted %: 95.6065318818 %\n",
      "cohort size: 28.445034284450344 %\n",
      " \n",
      "Cohort 3 Accuracy: 100.0 %\n",
      "Not Readmitted %: 80.3743618832 %\n",
      "cohort size: 19.49789869497899 %\n",
      "num_change 1171\n",
      " \n",
      " \n",
      " \n",
      "ITERATION: 26\n",
      "Cohort 1 Accuracy: 99.9413489736 %\n",
      "Not Readmitted %: 79.0811339198 %\n",
      "cohort size: 56.56934306569343 %\n",
      " \n",
      "Cohort 2 Accuracy: 100.0 %\n",
      "Not Readmitted %: 95.0992304577 %\n",
      "cohort size: 27.30590577305906 %\n",
      " \n",
      "Cohort 3 Accuracy: 100.0 %\n",
      "Not Readmitted %: 77.1604938272 %\n",
      "cohort size: 16.12475116124751 "
     ]
    },
    {
     "name": "stderr",
     "output_type": "stream",
     "text": [
      "/Users/shagun/anaconda/lib/python3.6/site-packages/sklearn/linear_model/base.py:352: RuntimeWarning: overflow encountered in exp\n",
      "  np.exp(prob, prob)\n"
     ]
    },
    {
     "name": "stdout",
     "output_type": "stream",
     "text": [
      "%\n",
      "num_change 1392\n",
      " \n",
      " \n",
      " \n",
      "ITERATION: 27\n",
      "Cohort 1 Accuracy: 99.7057200662 %\n",
      "Not Readmitted %: 80.4855618907 %\n",
      "cohort size: 60.13050210130502 %\n",
      " \n",
      "Cohort 2 Accuracy: 100.0 %\n",
      "Not Readmitted %: 95.1142355009 %\n",
      "cohort size: 31.464277814642777 %\n",
      " \n",
      "Cohort 3 Accuracy: 100.0 %\n",
      "Not Readmitted %: 57.3684210526 %\n",
      "cohort size: 8.4052200840522 %\n",
      "num_change 1008\n",
      " \n",
      " \n",
      " \n",
      "ITERATION: 28\n",
      "Cohort 1 Accuracy: 99.7747747748 %\n",
      "Not Readmitted %: 81.9473319473 %\n",
      "cohort size: 63.83543463835435 %\n",
      " \n",
      "Cohort 2 Accuracy: 100.0 %\n",
      "Not Readmitted %: 92.298136646 %\n",
      "cohort size: 26.708692767086927 %\n",
      " \n",
      "Cohort 3 Accuracy: 100.0 %\n",
      "Not Readmitted %: 65.3801169591 %\n",
      "cohort size: 9.455872594558725 %\n",
      "num_change 1146\n",
      " \n",
      " \n",
      " \n",
      "ITERATION: 29\n",
      "Cohort 1 Accuracy: 99.601527478 %\n",
      "Not Readmitted %: 83.2807570978 %\n",
      "cohort size: 66.61136916611369 %\n",
      " \n",
      "Cohort 2 Accuracy: 100.0 %\n",
      "Not Readmitted %: 94.1709111488 %\n",
      "cohort size: 19.542136695421366 %\n",
      " \n",
      "Cohort 3 Accuracy: 100.0 %\n",
      "Not Readmitted %: 66.9329073482 %\n",
      "cohort size: 13.84649413846494 %\n",
      "num_change 1325\n",
      " \n",
      " \n",
      " \n",
      "ITERATION: 30\n",
      "Cohort 1 Accuracy: 99.9837319017 %\n",
      "Not Readmitted %: 85.065885798 %\n",
      "cohort size: 67.98274717982747 %\n",
      " \n",
      "Cohort 2 Accuracy: 100.0 %\n",
      "Not Readmitted %: 93.0513595166 %\n",
      "cohort size: 14.642778146427782 %\n",
      " \n",
      "Cohort 3 Accuracy: 100.0 %\n",
      "Not Readmitted %: 67.2819859962 %\n",
      "cohort size: 17.374474673744746"
     ]
    },
    {
     "name": "stderr",
     "output_type": "stream",
     "text": [
      "/Users/shagun/anaconda/lib/python3.6/site-packages/sklearn/linear_model/base.py:352: RuntimeWarning: overflow encountered in exp\n",
      "  np.exp(prob, prob)\n"
     ]
    },
    {
     "name": "stdout",
     "output_type": "stream",
     "text": [
      " %\n",
      "num_change 1106\n",
      " \n",
      " \n",
      " \n",
      "ITERATION: 31\n",
      "Cohort 1 Accuracy: 99.9838657631 %\n",
      "Not Readmitted %: 85.5598580187 %\n",
      "cohort size: 68.54678168546782 %\n",
      " \n",
      "Cohort 2 Accuracy: 100.0 %\n",
      "Not Readmitted %: 92.522889115 %\n",
      "cohort size: 21.74297721742977 %\n",
      " \n",
      "Cohort 3 Accuracy: 100.0 %\n",
      "Not Readmitted %: 45.1025056948 %\n",
      "cohort size: 9.710241097102411 "
     ]
    },
    {
     "name": "stderr",
     "output_type": "stream",
     "text": [
      "/Users/shagun/anaconda/lib/python3.6/site-packages/sklearn/linear_model/base.py:352: RuntimeWarning: overflow encountered in exp\n",
      "  np.exp(prob, prob)\n"
     ]
    },
    {
     "name": "stdout",
     "output_type": "stream",
     "text": [
      "%\n",
      "num_change 564\n",
      " \n",
      " \n",
      " \n",
      "ITERATION: 32\n",
      "Cohort 1 Accuracy: 99.9678766463 %\n",
      "Not Readmitted %: 86.1387728879 %\n",
      "cohort size: 68.85644768856449 %\n",
      " \n",
      "Cohort 2 Accuracy: 100.0 %\n",
      "Not Readmitted %: 84.1584158416 %\n",
      "cohort size: 24.574209245742093 %\n",
      " \n",
      "Cohort 3 Accuracy: 100.0 %\n",
      "Not Readmitted %: 47.9797979798 %\n",
      "cohort size: 6.569343065693431 %\n"
     ]
    },
    {
     "name": "stderr",
     "output_type": "stream",
     "text": [
      "/Users/shagun/anaconda/lib/python3.6/site-packages/sklearn/linear_model/base.py:352: RuntimeWarning: overflow encountered in exp\n",
      "  np.exp(prob, prob)\n"
     ]
    },
    {
     "name": "stdout",
     "output_type": "stream",
     "text": [
      "num_change 737\n",
      " \n",
      " \n",
      " \n",
      "ITERATION: 33\n",
      "Cohort 1 Accuracy: 99.9683394016 %\n",
      "Not Readmitted %: 87.7156878265 %\n",
      "cohort size: 69.86286219862862 %\n",
      " \n",
      "Cohort 2 Accuracy: 100.0 %\n",
      "Not Readmitted %: 85.3750674582 %\n",
      "cohort size: 20.49325370493254 %\n",
      " \n",
      "Cohort 3 Accuracy: 100.0 %\n",
      "Not Readmitted %: 45.2981651376 %\n",
      "cohort size:"
     ]
    },
    {
     "name": "stderr",
     "output_type": "stream",
     "text": [
      "/Users/shagun/anaconda/lib/python3.6/site-packages/sklearn/linear_model/base.py:352: RuntimeWarning: overflow encountered in exp\n",
      "  np.exp(prob, prob)\n"
     ]
    },
    {
     "name": "stdout",
     "output_type": "stream",
     "text": [
      " 9.64388409643884 %\n",
      "num_change 534\n",
      " \n",
      " \n",
      " \n",
      "ITERATION: 34\n",
      "Cohort 1 Accuracy: 100.0 %\n",
      "Not Readmitted %: 88.7222742893 %\n",
      "cohort size: 70.8029197080292 %\n",
      " \n",
      "Cohort 2 Accuracy: 100.0 %\n",
      "Not Readmitted %: 87.8233438486 %\n",
      "cohort size: 17.529307675293076 %\n",
      " \n",
      "Cohort 3 Accuracy: 100.0 %\n",
      "Not Readmitted %: 42.2748815166 %\n",
      "cohort size: 11.667772616677727 "
     ]
    },
    {
     "name": "stderr",
     "output_type": "stream",
     "text": [
      "/Users/shagun/anaconda/lib/python3.6/site-packages/sklearn/linear_model/base.py:352: RuntimeWarning: overflow encountered in exp\n",
      "  np.exp(prob, prob)\n"
     ]
    },
    {
     "name": "stdout",
     "output_type": "stream",
     "text": [
      "%\n",
      "num_change 529\n",
      "break\n"
     ]
    }
   ],
   "source": [
    "index_counter = 1\n",
    "num_change = 0\n",
    "while True:\n",
    "    print('ITERATION:', index_counter)\n",
    "    data_1 = data[np.where(cohort == 0)]\n",
    "    target_1 = target[np.where(cohort == 0)]\n",
    "\n",
    "    data_2 = data[np.where(cohort == 1)]\n",
    "    target_2 = target[np.where(cohort == 1)]\n",
    "    \n",
    "    data_3 = data[np.where(cohort == 2)]\n",
    "    target_3 = target[np.where(cohort == 2)]\n",
    "\n",
    "\n",
    "    cohort1_Model = LR(data_1, target_1)\n",
    "\n",
    "    cohort2_Model = LR(data_2, target_2)\n",
    "\n",
    "    cohort3_Model = LR(data_3, target_3)\n",
    "\n",
    "\n",
    "    cohort1_pred = cohort1_Model.predict(data_1) #reshape(-1,1)\n",
    "    cohort1_current_accuracy = metrics.accuracy_score(target_1, cohort1_pred)\n",
    "    print('Cohort 1 Accuracy:', cohort1_current_accuracy*100, '%')\n",
    "    print(\"Not Readmitted %:\", (1 - (sum(target_1)/len(target_1)))*100,'%')\n",
    "    print('cohort size:', (len(target_1)/len(target))*100,'%')\n",
    "    print(\" \")\n",
    "    cohort2_pred = cohort2_Model.predict(data_2) #reshape(-1,1)\n",
    "    cohort2_current_accuracy = metrics.accuracy_score(target_2, cohort2_pred)\n",
    "    print('Cohort 2 Accuracy:', cohort2_current_accuracy*100, '%')\n",
    "    print(\"Not Readmitted %:\", (1 - (sum(target_2)/len(target_2)))*100,'%')\n",
    "    print('cohort size:', (len(target_2)/len(target))*100,'%')\n",
    "    print(\" \")\n",
    "    cohort3_pred = cohort3_Model.predict(data_3) #reshape(-1,1)\n",
    "    cohort3_current_accuracy = metrics.accuracy_score(target_3, cohort3_pred)\n",
    "    print('Cohort 3 Accuracy:', cohort3_current_accuracy*100, '%')\n",
    "    print(\"Not Readmitted %:\", (1 - (sum(target_3)/len(target_3)))*100,'%')\n",
    "    print('cohort size:', (len(target_3)/len(target))*100,'%')\n",
    "\n",
    "\n",
    "    oldcohort = copy.deepcopy(cohort)\n",
    "    \n",
    "    # reassign based on whichever model gives higher probability\n",
    "    for i in range(len(target)):\n",
    "        curr_data = data[i]\n",
    "        if (target[i] == 0):  \n",
    "            if (cohort1_Model.predict_proba(curr_data)[:,0]) > ((cohort2_Model.predict_proba(curr_data)[:,0]) and (cohort3_Model.predict_proba(curr_data)[:,0])) :\n",
    "                cohort[i] = 0\n",
    "            elif (cohort2_Model.predict_proba(curr_data)[:,0]) > ((cohort1_Model.predict_proba(curr_data)[:,0]) and (cohort3_Model.predict_proba(curr_data)[:,0])) :\n",
    "                cohort[i] = 1\n",
    "            else:\n",
    "                cohort[i] = 2\n",
    "        else:\n",
    "            if (cohort1_Model.predict_proba(curr_data)[:,1]) > ((cohort2_Model.predict_proba(curr_data)[:,1]) and (cohort3_Model.predict_proba(curr_data)[:,1])):\n",
    "                cohort[i] = 0\n",
    "            elif (cohort2_Model.predict_proba(curr_data)[:,1]) > ((cohort1_Model.predict_proba(curr_data)[:,1]) and (cohort3_Model.predict_proba(curr_data)[:,1])):\n",
    "                cohort[i] = 1\n",
    "            else:\n",
    "                cohort[i] = 2\n",
    "                    \n",
    "    if sum(np.absolute(np.subtract(oldcohort, cohort))) == 0 or index_counter == 50 or ((cohort3_current_accuracy+cohort2_current_accuracy+cohort1_current_accuracy) == 3):\n",
    "        num_change = sum(np.absolute(np.subtract(oldcohort, cohort)))\n",
    "        print('num_change', num_change)\n",
    "        print(\"break\")\n",
    "        break\n",
    "    else:\n",
    "        num_change = sum(np.absolute(np.subtract(oldcohort, cohort)))\n",
    "        print('num_change', num_change)\n",
    "    index_counter += 1\n",
    "    print(\" \")\n",
    "    print(\" \")\n",
    "    print(\" \")\n"
   ]
  },
  {
   "cell_type": "code",
   "execution_count": 124,
   "metadata": {},
   "outputs": [
    {
     "data": {
      "text/plain": [
       "722"
      ]
     },
     "execution_count": 124,
     "metadata": {},
     "output_type": "execute_result"
    }
   ],
   "source": [
    "sum(target_1)"
   ]
  },
  {
   "cell_type": "code",
   "execution_count": 125,
   "metadata": {},
   "outputs": [
    {
     "data": {
      "text/plain": [
       "193"
      ]
     },
     "execution_count": 125,
     "metadata": {},
     "output_type": "execute_result"
    }
   ],
   "source": [
    "sum(target_2)"
   ]
  },
  {
   "cell_type": "code",
   "execution_count": 126,
   "metadata": {},
   "outputs": [
    {
     "data": {
      "text/plain": [
       "609"
      ]
     },
     "execution_count": 126,
     "metadata": {},
     "output_type": "execute_result"
    }
   ],
   "source": [
    "sum(target_3)"
   ]
  },
  {
   "cell_type": "code",
   "execution_count": 127,
   "metadata": {
    "collapsed": true
   },
   "outputs": [],
   "source": [
    "cohort=cohort.astype('int')\n",
    "cohort_clf = LR(data, cohort)"
   ]
  },
  {
   "cell_type": "code",
   "execution_count": 128,
   "metadata": {},
   "outputs": [
    {
     "data": {
      "text/plain": [
       "array([1, 0, 0, 1, 0, 0, 1, 0, 0, 0, 0, 0, 0, 0, 0, 0, 1, 0, 0, 0, 0, 0, 0,\n",
       "       0, 0, 1, 0, 0, 0, 0, 1, 0, 0, 0, 0, 1, 0, 0, 0, 0, 0, 0, 0, 0, 1, 0,\n",
       "       1, 0, 1, 1, 0, 0, 0, 0, 0, 0, 0, 0, 0, 1, 0, 0, 0, 0, 0, 0, 0, 0, 0,\n",
       "       0, 0, 1, 0, 0, 0, 0, 1, 0, 0, 0, 0, 1, 1, 1, 1, 1, 0, 1, 1, 0, 0, 0,\n",
       "       0, 0, 0, 0, 0, 0, 0, 0])"
      ]
     },
     "execution_count": 128,
     "metadata": {},
     "output_type": "execute_result"
    }
   ],
   "source": [
    "# predict cohorts for test set \n",
    "test_cohort = cohort_clf.predict(X_test)\n",
    "test_cohort[0:100]"
   ]
  },
  {
   "cell_type": "code",
   "execution_count": 129,
   "metadata": {
    "collapsed": true
   },
   "outputs": [],
   "source": [
    "testdata_1 = test_data[np.where(test_cohort == 0)]\n",
    "testtarget_1 = test_target[np.where(test_cohort == 0)]\n",
    "\n",
    "testdata_2 = test_data[np.where(test_cohort == 1)]\n",
    "testtarget_2 = test_target[np.where(test_cohort == 1)]\n",
    "\n",
    "testdata_3 = test_data[np.where(test_cohort == 2)]\n",
    "testtarget_3 = test_target[np.where(test_cohort == 2)]"
   ]
  },
  {
   "cell_type": "code",
   "execution_count": 130,
   "metadata": {
    "scrolled": true
   },
   "outputs": [
    {
     "name": "stdout",
     "output_type": "stream",
     "text": [
      "Accuracy 82.0842714699 %\n",
      "Cohort fraction: 0.8021155830753354\n",
      "Not Readmitted: 85.1399163718 %\n",
      "Readmitted: 14.8600836282 %\n",
      "Predicted readmitted: 8.78095850756 %\n",
      "\n",
      "Accuracy 70.7349081365 %\n",
      "Cohort fraction: 0.19659442724458204\n",
      "Not Readmitted: 75.3280839895 %\n",
      "Readmitted: 24.6719160105 %\n",
      "Predicted readmitted: 6.16797900262 %\n",
      "\n",
      "Accuracy 60.0 %\n",
      "Cohort fraction: 0.0012899896800825593\n",
      "Not Readmitted: 40.0 %\n",
      "Readmitted: 60.0 %\n",
      "Predicted readmitted: 100.0 %\n",
      "\n",
      "\n",
      "Total Accuracy: 0.798245614035\n"
     ]
    }
   ],
   "source": [
    "# cohort 1\n",
    "test_cohort1_pred = cohort1_Model.predict(testdata_1)\n",
    "test_cohort1_acc = metrics.accuracy_score(testtarget_1, test_cohort1_pred)\n",
    "print('Accuracy', test_cohort1_acc*100,'%')\n",
    "print('Cohort fraction:', (len(testtarget_1)/len(test_target)))\n",
    "print(\"Not Readmitted:\", (1 - (sum(testtarget_1)/len(testtarget_1)))*100,'%')\n",
    "print(\"Readmitted:\", (sum(testtarget_1)/len(testtarget_1))*100,'%')\n",
    "print('Predicted readmitted:', (sum(test_cohort1_pred)/len(test_cohort1_pred))*100,'%')\n",
    "print()\n",
    "\n",
    "# cohort 2\n",
    "test_cohort2_pred = cohort2_Model.predict(testdata_2)\n",
    "test_cohort2_acc = metrics.accuracy_score(testtarget_2, test_cohort2_pred)\n",
    "print('Accuracy', test_cohort2_acc*100,'%')\n",
    "print('Cohort fraction:', (len(testtarget_2)/len(test_target)))\n",
    "print(\"Not Readmitted:\", (1 - (sum(testtarget_2)/len(testtarget_2)))*100,'%')\n",
    "print(\"Readmitted:\", (sum(testtarget_2)/len(testtarget_2))*100,'%')\n",
    "print('Predicted readmitted:', (sum(test_cohort2_pred)/len(test_cohort2_pred))*100,'%')\n",
    "print()\n",
    "\n",
    "# cohort 3\n",
    "test_cohort3_pred = cohort3_Model.predict(testdata_3)\n",
    "test_cohort3_acc = metrics.accuracy_score(testtarget_3, test_cohort3_pred)\n",
    "print('Accuracy', test_cohort3_acc*100,'%')\n",
    "print('Cohort fraction:', (len(testtarget_3)/len(test_target)))\n",
    "print(\"Not Readmitted:\", (1 - (sum(testtarget_3)/len(testtarget_3)))*100,'%')\n",
    "print(\"Readmitted:\", (sum(testtarget_3)/len(testtarget_3))*100,'%')\n",
    "print('Predicted readmitted:', (sum(test_cohort3_pred)/len(test_cohort3_pred))*100,'%')\n",
    "print()\n",
    "print()\n",
    "\n",
    "# total\n",
    "total_accuracy = (test_cohort1_acc*(len(testtarget_1)/len(test_target))) + (test_cohort2_acc*(len(testtarget_2)/len(test_target))) + (test_cohort3_acc*(len(testtarget_3)/len(test_target))) \n",
    "print('Total Accuracy:', total_accuracy)"
   ]
  },
  {
   "cell_type": "code",
   "execution_count": null,
   "metadata": {
    "collapsed": true
   },
   "outputs": [],
   "source": []
  },
  {
   "cell_type": "code",
   "execution_count": null,
   "metadata": {
    "collapsed": true
   },
   "outputs": [],
   "source": []
  },
  {
   "cell_type": "markdown",
   "metadata": {},
   "source": [
    "## Hard EM - Random Initilization (k = 5)"
   ]
  },
  {
   "cell_type": "code",
   "execution_count": 337,
   "metadata": {
    "collapsed": true
   },
   "outputs": [],
   "source": [
    "# split train test \n",
    "X_train, X_test, Y_train, Y_test = train_test_split(df_topk_oneyear, df_final[['ONEYEARREADMIT']], stratify=df_final[['ONEYEARREADMIT']], test_size=0.3)"
   ]
  },
  {
   "cell_type": "code",
   "execution_count": 338,
   "metadata": {},
   "outputs": [
    {
     "data": {
      "text/plain": [
       "(9042, 20)"
      ]
     },
     "execution_count": 338,
     "metadata": {},
     "output_type": "execute_result"
    }
   ],
   "source": [
    "X_train.shape"
   ]
  },
  {
   "cell_type": "code",
   "execution_count": 339,
   "metadata": {},
   "outputs": [
    {
     "data": {
      "text/plain": [
       "(3876, 20)"
      ]
     },
     "execution_count": 339,
     "metadata": {},
     "output_type": "execute_result"
    }
   ],
   "source": [
    "X_test.shape"
   ]
  },
  {
   "cell_type": "code",
   "execution_count": 340,
   "metadata": {
    "collapsed": true
   },
   "outputs": [],
   "source": [
    "X_train = X_train.reset_index(drop=True)\n",
    "X_test = X_test.reset_index(drop=True)\n",
    "Y_train = Y_train.reset_index(drop=True)\n",
    "Y_test = Y_test.reset_index(drop=True)"
   ]
  },
  {
   "cell_type": "code",
   "execution_count": 341,
   "metadata": {},
   "outputs": [
    {
     "data": {
      "text/plain": [
       "array([0, 4, 0, 4, 1, 1, 2, 2, 0, 3])"
      ]
     },
     "execution_count": 341,
     "metadata": {},
     "output_type": "execute_result"
    }
   ],
   "source": [
    "# randomly initialize cohort \n",
    "cohort = np.random.randint(5, size=9042)\n",
    "cohort[0:10]"
   ]
  },
  {
   "cell_type": "code",
   "execution_count": 342,
   "metadata": {},
   "outputs": [
    {
     "name": "stdout",
     "output_type": "stream",
     "text": [
      "(9042, 20)\n",
      "(9042,)\n",
      "(3876, 20)\n",
      "(3876,)\n",
      "(9042,)\n"
     ]
    }
   ],
   "source": [
    "data = X_train.as_matrix()\n",
    "print(data.shape)\n",
    "\n",
    "target = (Y_train.as_matrix()).ravel()\n",
    "print(target.shape)\n",
    "\n",
    "test_data = X_test.as_matrix()\n",
    "print(test_data.shape)\n",
    "\n",
    "test_target = (Y_test.as_matrix()).ravel()\n",
    "print(test_target.shape)\n",
    "\n",
    "print(cohort.shape)"
   ]
  },
  {
   "cell_type": "code",
   "execution_count": 343,
   "metadata": {},
   "outputs": [
    {
     "data": {
      "text/plain": [
       "array([[2.0, True, 1.1, ..., 5.6, 0, 1.5],\n",
       "       [0.0, False, 1.1, ..., 9.07, 0, 1.1],\n",
       "       [2.0, False, 1.0, ..., 6.08, 0, 2.3],\n",
       "       ..., \n",
       "       [5.0, False, 4.0, ..., 8.44, 0, 1.3],\n",
       "       [9.0, True, 1.4, ..., 10.39, 0, 3.8],\n",
       "       [0.0, True, 1.0, ..., 9.87, 1, 1.4]], dtype=object)"
      ]
     },
     "execution_count": 343,
     "metadata": {},
     "output_type": "execute_result"
    }
   ],
   "source": [
    "data"
   ]
  },
  {
   "cell_type": "code",
   "execution_count": 344,
   "metadata": {},
   "outputs": [
    {
     "data": {
      "text/plain": [
       "array([0, 0, 0, 0, 0, 0, 0, 0, 0, 0])"
      ]
     },
     "execution_count": 344,
     "metadata": {},
     "output_type": "execute_result"
    }
   ],
   "source": [
    "target[0:10]"
   ]
  },
  {
   "cell_type": "code",
   "execution_count": 345,
   "metadata": {},
   "outputs": [
    {
     "data": {
      "text/plain": [
       "LogisticRegression(C=10, class_weight=None, dual=False, fit_intercept=True,\n",
       "          intercept_scaling=1, max_iter=100, multi_class='ovr', n_jobs=1,\n",
       "          penalty='l1', random_state=None, solver='liblinear', tol=0.0001,\n",
       "          verbose=0, warm_start=False)"
      ]
     },
     "execution_count": 345,
     "metadata": {},
     "output_type": "execute_result"
    }
   ],
   "source": [
    "clfFn_test = LR(data, target)\n",
    "# clfFn_test.get_params()\n",
    "clfFn_test"
   ]
  },
  {
   "cell_type": "code",
   "execution_count": 346,
   "metadata": {},
   "outputs": [
    {
     "data": {
      "text/plain": [
       "0.83731475337314754"
      ]
     },
     "execution_count": 346,
     "metadata": {},
     "output_type": "execute_result"
    }
   ],
   "source": [
    "clfFn_test.score(data, target)"
   ]
  },
  {
   "cell_type": "code",
   "execution_count": 347,
   "metadata": {},
   "outputs": [
    {
     "data": {
      "text/plain": [
       "array([0, 0, 0, 0, 0, 0, 0, 0, 0, 0, 0, 0, 0, 0, 0, 0, 0, 0, 1, 0])"
      ]
     },
     "execution_count": 347,
     "metadata": {},
     "output_type": "execute_result"
    }
   ],
   "source": [
    "clfFn_test.predict(data)[0:20]"
   ]
  },
  {
   "cell_type": "code",
   "execution_count": 348,
   "metadata": {
    "scrolled": true
   },
   "outputs": [
    {
     "name": "stdout",
     "output_type": "stream",
     "text": [
      "ITERATION: 1\n",
      "Cohort 1 Accuracy: 85.4961832061 %\n",
      "Not Readmitted %: 84.8964013086 %\n",
      "cohort size: 20.283123202831234 %\n",
      " \n",
      "Cohort 2 Accuracy: 82.8680897646 %\n",
      "Not Readmitted %: 82.8680897646 %\n",
      "cohort size: 20.205706702057068 %\n",
      " \n",
      "Cohort 3 Accuracy: 83.826754386 %\n",
      "Not Readmitted %: 82.8399122807 %\n",
      "cohort size: 20.17252820172528 %\n",
      " \n",
      "Cohort 4 Accuracy: 84.5637583893 %\n",
      "Not Readmitted %: 83.0536912752 %\n",
      "cohort size: 19.774386197743862 %\n",
      " \n",
      "Cohort 5 Accuracy: 82.7586206897 %\n",
      "Not Readmitted %: 82.0237422272 %\n",
      "cohort size: 19.564255695642558 %\n",
      "num_change 16074\n",
      " \n",
      " \n",
      " \n",
      "ITERATION: 2\n",
      "Cohort 1 Accuracy: 99.8627080831 %\n",
      "Not Readmitted %: 92.3116526515 %\n",
      "cohort size: 64.44370714443707 %\n",
      " \n",
      "Cohort 2 Accuracy: 100.0 %\n",
      "Not Readmitted %: 50.5202312139 %\n",
      "cohort size: 9.566467595664676 %\n",
      " \n",
      "Cohort 3 Accuracy: 99.8783454988 %\n",
      "Not Readmitted %: 81.8734793187 %\n",
      "cohort size: 9.090909090909092 %\n",
      " \n",
      "Cohort 4 Accuracy: 100.0 %\n",
      "Not Readmitted %: 85.3846153846 %\n",
      "cohort size: 5.7509400575094 %\n",
      " \n",
      "Cohort 5 Accuracy: 100.0 %\n",
      "Not Readmitted %: 58.0357142857 %\n",
      "cohort size: 11.14797611147976 %\n",
      "num_change 3778\n",
      "break\n"
     ]
    }
   ],
   "source": [
    "index_counter = 1\n",
    "num_change = 0\n",
    "while True:\n",
    "    print('ITERATION:', index_counter)\n",
    "    data_1 = data[np.where(cohort == 0)]\n",
    "    target_1 = target[np.where(cohort == 0)]\n",
    "\n",
    "    data_2 = data[np.where(cohort == 1)]\n",
    "    target_2 = target[np.where(cohort == 1)]\n",
    "    \n",
    "    data_3 = data[np.where(cohort == 2)]\n",
    "    target_3 = target[np.where(cohort == 2)]\n",
    "    \n",
    "    data_4 = data[np.where(cohort == 3)]\n",
    "    target_4 = target[np.where(cohort == 3)]\n",
    "    \n",
    "    data_5 = data[np.where(cohort == 4)]\n",
    "    target_5 = target[np.where(cohort == 4)]\n",
    "\n",
    "    if sum(target_1) == 0 or sum(target_2) == 0 or sum(target_3) == 0 or sum(target_4) == 0 or sum(target_5) == 0:\n",
    "        break\n",
    "\n",
    "    cohort1_Model = LR(data_1, target_1)\n",
    "\n",
    "    cohort2_Model = LR(data_2, target_2)\n",
    "\n",
    "    cohort3_Model = LR(data_3, target_3)\n",
    "\n",
    "    cohort4_Model = LR(data_4, target_4)\n",
    "\n",
    "    cohort5_Model = LR(data_5, target_5)\n",
    "\n",
    "\n",
    "    cohort1_pred = cohort1_Model.predict(data_1) #reshape(-1,1)\n",
    "    cohort1_current_accuracy = metrics.accuracy_score(target_1, cohort1_pred)\n",
    "    print('Cohort 1 Accuracy:', cohort1_current_accuracy*100, '%')\n",
    "    print(\"Not Readmitted %:\", (1 - (sum(target_1)/len(target_1)))*100,'%')\n",
    "    print('cohort size:', (len(target_1)/len(target))*100,'%')\n",
    "    print(\" \")\n",
    "    cohort2_pred = cohort2_Model.predict(data_2) #reshape(-1,1)\n",
    "    cohort2_current_accuracy = metrics.accuracy_score(target_2, cohort2_pred)\n",
    "    print('Cohort 2 Accuracy:', cohort2_current_accuracy*100, '%')\n",
    "    print(\"Not Readmitted %:\", (1 - (sum(target_2)/len(target_2)))*100,'%')\n",
    "    print('cohort size:', (len(target_2)/len(target))*100,'%')\n",
    "    print(\" \")\n",
    "    cohort3_pred = cohort3_Model.predict(data_3) #reshape(-1,1)\n",
    "    cohort3_current_accuracy = metrics.accuracy_score(target_3, cohort3_pred)\n",
    "    print('Cohort 3 Accuracy:', cohort3_current_accuracy*100, '%')\n",
    "    print(\"Not Readmitted %:\", (1 - (sum(target_3)/len(target_3)))*100,'%')\n",
    "    print('cohort size:', (len(target_3)/len(target))*100,'%')\n",
    "    print(\" \")\n",
    "    cohort4_pred = cohort4_Model.predict(data_4) #reshape(-1,1)\n",
    "    cohort4_current_accuracy = metrics.accuracy_score(target_4, cohort4_pred)\n",
    "    print('Cohort 4 Accuracy:', cohort4_current_accuracy*100, '%')\n",
    "    print(\"Not Readmitted %:\", (1 - (sum(target_4)/len(target_4)))*100,'%')\n",
    "    print('cohort size:', (len(target_4)/len(target))*100,'%')\n",
    "    print(\" \")\n",
    "    cohort5_pred = cohort5_Model.predict(data_5) #reshape(-1,1)\n",
    "    cohort5_current_accuracy = metrics.accuracy_score(target_5, cohort5_pred)\n",
    "    print('Cohort 5 Accuracy:', cohort5_current_accuracy*100, '%')\n",
    "    print(\"Not Readmitted %:\", (1 - (sum(target_5)/len(target_5)))*100,'%')\n",
    "    print('cohort size:', (len(target_5)/len(target))*100,'%')\n",
    "\n",
    "\n",
    "    oldcohort = copy.deepcopy(cohort)\n",
    "    \n",
    "    # reassign based on whichever model gives higher probability\n",
    "    for i in range(len(target)):\n",
    "        curr_data = data[i]\n",
    "        if (target[i] == 0):  \n",
    "            if (cohort1_Model.predict_proba(curr_data)[:,0]) > ((cohort2_Model.predict_proba(curr_data)[:,0]) and (cohort3_Model.predict_proba(curr_data)[:,0]) and (cohort4_Model.predict_proba(curr_data)[:,0]) and (cohort5_Model.predict_proba(curr_data)[:,0])) :\n",
    "                cohort[i] = 0\n",
    "            elif (cohort2_Model.predict_proba(curr_data)[:,0]) > ((cohort1_Model.predict_proba(curr_data)[:,0]) and (cohort3_Model.predict_proba(curr_data)[:,0]) and (cohort4_Model.predict_proba(curr_data)[:,0]) and (cohort5_Model.predict_proba(curr_data)[:,0])) :\n",
    "                cohort[i] = 1\n",
    "            elif (cohort3_Model.predict_proba(curr_data)[:,0]) > ((cohort2_Model.predict_proba(curr_data)[:,0]) and (cohort1_Model.predict_proba(curr_data)[:,0]) and (cohort4_Model.predict_proba(curr_data)[:,0]) and (cohort5_Model.predict_proba(curr_data)[:,0])) :\n",
    "                cohort[i] = 2\n",
    "            elif (cohort4_Model.predict_proba(curr_data)[:,0]) > ((cohort2_Model.predict_proba(curr_data)[:,0]) and (cohort3_Model.predict_proba(curr_data)[:,0]) and (cohort1_Model.predict_proba(curr_data)[:,0]) and (cohort5_Model.predict_proba(curr_data)[:,0])) :\n",
    "                cohort[i] = 3\n",
    "            else:\n",
    "                cohort[i] = 4\n",
    "\n",
    "\n",
    "        else:\n",
    "            if (cohort1_Model.predict_proba(curr_data)[:,1]) > ((cohort2_Model.predict_proba(curr_data)[:,1]) and (cohort3_Model.predict_proba(curr_data)[:,1]) and (cohort4_Model.predict_proba(curr_data)[:,1]) and (cohort5_Model.predict_proba(curr_data)[:,1])):\n",
    "                cohort[i] = 0\n",
    "            elif (cohort2_Model.predict_proba(curr_data)[:,1]) > ((cohort1_Model.predict_proba(curr_data)[:,1]) and (cohort3_Model.predict_proba(curr_data)[:,1]) and (cohort4_Model.predict_proba(curr_data)[:,1]) and (cohort5_Model.predict_proba(curr_data)[:,1])):\n",
    "                cohort[i] = 1\n",
    "            elif (cohort3_Model.predict_proba(curr_data)[:,1]) > ((cohort1_Model.predict_proba(curr_data)[:,1]) and (cohort2_Model.predict_proba(curr_data)[:,1]) and (cohort4_Model.predict_proba(curr_data)[:,1]) and (cohort5_Model.predict_proba(curr_data)[:,1])):\n",
    "                cohort[i] = 2\n",
    "            elif (cohort4_Model.predict_proba(curr_data)[:,1]) > ((cohort1_Model.predict_proba(curr_data)[:,1]) and (cohort3_Model.predict_proba(curr_data)[:,1]) and (cohort2_Model.predict_proba(curr_data)[:,1]) and (cohort5_Model.predict_proba(curr_data)[:,1])):\n",
    "                cohort[i] = 3\n",
    "            else:\n",
    "                cohort[i] = 4\n",
    "\n",
    "\n",
    "                    \n",
    "    if sum(np.absolute(np.subtract(oldcohort, cohort))) == 0 or index_counter == 50 or ((cohort3_current_accuracy+cohort2_current_accuracy+cohort1_current_accuracy+cohort4_current_accuracy+cohort5_current_accuracy) > 4.99):\n",
    "        num_change = sum(np.absolute(np.subtract(oldcohort, cohort)))\n",
    "        print('num_change', num_change)\n",
    "        print(\"break\")\n",
    "        break\n",
    "    else:\n",
    "        num_change = sum(np.absolute(np.subtract(oldcohort, cohort)))\n",
    "        print('num_change', num_change)\n",
    "    index_counter += 1\n",
    "    print(\" \")\n",
    "    print(\" \")\n",
    "    print(\" \")\n"
   ]
  },
  {
   "cell_type": "code",
   "execution_count": 349,
   "metadata": {},
   "outputs": [
    {
     "data": {
      "text/plain": [
       "448"
      ]
     },
     "execution_count": 349,
     "metadata": {},
     "output_type": "execute_result"
    }
   ],
   "source": [
    "sum(target_1)"
   ]
  },
  {
   "cell_type": "code",
   "execution_count": 350,
   "metadata": {},
   "outputs": [
    {
     "data": {
      "text/plain": [
       "428"
      ]
     },
     "execution_count": 350,
     "metadata": {},
     "output_type": "execute_result"
    }
   ],
   "source": [
    "sum(target_2)"
   ]
  },
  {
   "cell_type": "code",
   "execution_count": 351,
   "metadata": {},
   "outputs": [
    {
     "data": {
      "text/plain": [
       "149"
      ]
     },
     "execution_count": 351,
     "metadata": {},
     "output_type": "execute_result"
    }
   ],
   "source": [
    "sum(target_3)"
   ]
  },
  {
   "cell_type": "code",
   "execution_count": 352,
   "metadata": {},
   "outputs": [
    {
     "data": {
      "text/plain": [
       "76"
      ]
     },
     "execution_count": 352,
     "metadata": {},
     "output_type": "execute_result"
    }
   ],
   "source": [
    "sum(target_4)"
   ]
  },
  {
   "cell_type": "code",
   "execution_count": 353,
   "metadata": {},
   "outputs": [
    {
     "data": {
      "text/plain": [
       "423"
      ]
     },
     "execution_count": 353,
     "metadata": {},
     "output_type": "execute_result"
    }
   ],
   "source": [
    "sum(target_5)"
   ]
  },
  {
   "cell_type": "code",
   "execution_count": 354,
   "metadata": {
    "collapsed": true
   },
   "outputs": [],
   "source": [
    "cohort=cohort.astype('int')\n",
    "cohort_clf = LR(data, cohort)"
   ]
  },
  {
   "cell_type": "code",
   "execution_count": 355,
   "metadata": {},
   "outputs": [
    {
     "data": {
      "text/plain": [
       "array([0, 0, 0, 1, 0, 0, 0, 0, 0, 0, 0, 0, 0, 0, 0, 0, 0, 0, 0, 0, 0, 0, 0,\n",
       "       0, 0, 0, 0, 0, 0, 0, 0, 0, 0, 0, 0, 0, 0, 0, 0, 0, 0, 1, 0, 0, 0, 0,\n",
       "       0, 0, 0, 0, 0, 0, 0, 1, 0, 0, 0, 0, 0, 0, 0, 0, 0, 0, 0, 0, 0, 0, 0,\n",
       "       0, 0, 0, 0, 0, 0, 0, 0, 0, 0, 0, 0, 0, 1, 0, 0, 0, 0, 0, 0, 0, 0, 0,\n",
       "       0, 0, 0, 0, 0, 0, 0, 0])"
      ]
     },
     "execution_count": 355,
     "metadata": {},
     "output_type": "execute_result"
    }
   ],
   "source": [
    "# predict cohorts for test set \n",
    "test_cohort = cohort_clf.predict(X_test)\n",
    "test_cohort[0:100]"
   ]
  },
  {
   "cell_type": "code",
   "execution_count": 358,
   "metadata": {},
   "outputs": [
    {
     "data": {
      "text/plain": [
       "True"
      ]
     },
     "execution_count": 358,
     "metadata": {},
     "output_type": "execute_result"
    }
   ],
   "source": [
    "np.any(test_cohort == 2)"
   ]
  },
  {
   "cell_type": "code",
   "execution_count": 359,
   "metadata": {
    "collapsed": true
   },
   "outputs": [],
   "source": [
    "testdata_1 = test_data[np.where(test_cohort == 0)]\n",
    "testtarget_1 = test_target[np.where(test_cohort == 0)]\n",
    "\n",
    "testdata_2 = test_data[np.where(test_cohort == 1)]\n",
    "testtarget_2 = test_target[np.where(test_cohort == 1)]\n",
    "\n",
    "testdata_3 = test_data[np.where(test_cohort == 2)]\n",
    "testtarget_3 = test_target[np.where(test_cohort == 2)]\n",
    "\n",
    "testdata_4 = test_data[np.where(test_cohort == 3)]\n",
    "testtarget_4 = test_target[np.where(test_cohort == 3)]\n",
    "\n",
    "testdata_5 = test_data[np.where(test_cohort == 4)]\n",
    "testtarget_5 = test_target[np.where(test_cohort == 4)]"
   ]
  },
  {
   "cell_type": "code",
   "execution_count": 360,
   "metadata": {
    "scrolled": true
   },
   "outputs": [
    {
     "name": "stdout",
     "output_type": "stream",
     "text": [
      "Accuracy 68.409466153 %\n",
      "Cohort fraction: 0.9375644994840041\n",
      "Not Readmitted: 84.3423225096 %\n",
      "Readmitted: 15.6576774904 %\n",
      "Predicted readmitted: 22.3720418272 %\n",
      "\n",
      "Accuracy 60.1123595506 %\n",
      "Cohort fraction: 0.04592363261093911\n",
      "Not Readmitted: 73.0337078652 %\n",
      "Readmitted: 26.9662921348 %\n",
      "Predicted readmitted: 20.7865168539 %\n",
      "\n",
      "Accuracy 33.3333333333 %\n",
      "Cohort fraction: 0.0007739938080495357\n",
      "Not Readmitted: 100.0 %\n",
      "Readmitted: 0.0 %\n",
      "Predicted readmitted: 66.6666666667 %\n",
      "\n",
      "\n",
      "Accuracy 50.0 %\n",
      "Cohort fraction: 0.0010319917440660474\n",
      "Not Readmitted: 50.0 %\n",
      "Readmitted: 50.0 %\n",
      "Predicted readmitted: 100.0 %\n",
      "\n",
      "\n",
      "Accuracy 63.1578947368 %\n",
      "Cohort fraction: 0.014705882352941176\n",
      "Not Readmitted: 40.350877193 %\n",
      "Readmitted: 59.649122807 %\n",
      "Predicted readmitted: 89.4736842105 %\n",
      "\n",
      "\n",
      "Total Accuracy: 0.679050567595\n"
     ]
    }
   ],
   "source": [
    "# cohort 1\n",
    "test_cohort1_pred = cohort1_Model.predict(testdata_1)\n",
    "test_cohort1_acc = metrics.accuracy_score(testtarget_1, test_cohort1_pred)\n",
    "print('Accuracy', test_cohort1_acc*100,'%')\n",
    "print('Cohort fraction:', (len(testtarget_1)/len(test_target)))\n",
    "print(\"Not Readmitted:\", (1 - (sum(testtarget_1)/len(testtarget_1)))*100,'%')\n",
    "print(\"Readmitted:\", (sum(testtarget_1)/len(testtarget_1))*100,'%')\n",
    "print('Predicted readmitted:', (sum(test_cohort1_pred)/len(test_cohort1_pred))*100,'%')\n",
    "print()\n",
    "\n",
    "# cohort 2\n",
    "test_cohort2_pred = cohort2_Model.predict(testdata_2)\n",
    "test_cohort2_acc = metrics.accuracy_score(testtarget_2, test_cohort2_pred)\n",
    "print('Accuracy', test_cohort2_acc*100,'%')\n",
    "print('Cohort fraction:', (len(testtarget_2)/len(test_target)))\n",
    "print(\"Not Readmitted:\", (1 - (sum(testtarget_2)/len(testtarget_2)))*100,'%')\n",
    "print(\"Readmitted:\", (sum(testtarget_2)/len(testtarget_2))*100,'%')\n",
    "print('Predicted readmitted:', (sum(test_cohort2_pred)/len(test_cohort2_pred))*100,'%')\n",
    "print()\n",
    "\n",
    "# cohort 3\n",
    "test_cohort3_pred = cohort3_Model.predict(testdata_3)\n",
    "test_cohort3_acc = metrics.accuracy_score(testtarget_3, test_cohort3_pred)\n",
    "print('Accuracy', test_cohort3_acc*100,'%')\n",
    "print('Cohort fraction:', (len(testtarget_3)/len(test_target)))\n",
    "print(\"Not Readmitted:\", (1 - (sum(testtarget_3)/len(testtarget_3)))*100,'%')\n",
    "print(\"Readmitted:\", (sum(testtarget_3)/len(testtarget_3))*100,'%')\n",
    "print('Predicted readmitted:', (sum(test_cohort3_pred)/len(test_cohort3_pred))*100,'%')\n",
    "print()\n",
    "print()\n",
    "\n",
    "# cohort 4\n",
    "test_cohort4_pred = cohort4_Model.predict(testdata_4)\n",
    "test_cohort4_acc = metrics.accuracy_score(testtarget_4, test_cohort4_pred)\n",
    "print('Accuracy', test_cohort4_acc*100,'%')\n",
    "print('Cohort fraction:', (len(testtarget_4)/len(test_target)))\n",
    "print(\"Not Readmitted:\", (1 - (sum(testtarget_4)/len(testtarget_4)))*100,'%')\n",
    "print(\"Readmitted:\", (sum(testtarget_4)/len(testtarget_4))*100,'%')\n",
    "print('Predicted readmitted:', (sum(test_cohort4_pred)/len(test_cohort4_pred))*100,'%')\n",
    "print()\n",
    "print()\n",
    "\n",
    "\n",
    "# cohort 5\n",
    "test_cohort5_pred = cohort5_Model.predict(testdata_5)\n",
    "test_cohort5_acc = metrics.accuracy_score(testtarget_5, test_cohort5_pred)\n",
    "print('Accuracy', test_cohort5_acc*100,'%')\n",
    "print('Cohort fraction:', (len(testtarget_5)/len(test_target)))\n",
    "print(\"Not Readmitted:\", (1 - (sum(testtarget_5)/len(testtarget_5)))*100,'%')\n",
    "print(\"Readmitted:\", (sum(testtarget_5)/len(testtarget_5))*100,'%')\n",
    "print('Predicted readmitted:', (sum(test_cohort5_pred)/len(test_cohort5_pred))*100,'%')\n",
    "print()\n",
    "print()\n",
    "\n",
    "\n",
    "# total\n",
    "\n",
    "total_accuracy = (test_cohort1_acc*(len(testtarget_1)/len(test_target))) + (test_cohort2_acc*(len(testtarget_2)/len(test_target))) + (test_cohort3_acc*(len(testtarget_3)/len(test_target)))  + (test_cohort5_acc*(len(testtarget_5)/len(test_target))) + (test_cohort4_acc*(len(testtarget_4)/len(test_target))) \n",
    "print('Total Accuracy:', total_accuracy)"
   ]
  },
  {
   "cell_type": "code",
   "execution_count": null,
   "metadata": {
    "collapsed": true
   },
   "outputs": [],
   "source": []
  },
  {
   "cell_type": "code",
   "execution_count": null,
   "metadata": {
    "collapsed": true
   },
   "outputs": [],
   "source": []
  },
  {
   "cell_type": "markdown",
   "metadata": {},
   "source": [
    "## Hard EM - Random Initilization (k = 4)"
   ]
  },
  {
   "cell_type": "code",
   "execution_count": 315,
   "metadata": {
    "collapsed": true
   },
   "outputs": [],
   "source": [
    "# split train test \n",
    "X_train, X_test, Y_train, Y_test = train_test_split(df_topk_oneyear, df_final[['ONEYEARREADMIT']], stratify=df_final[['ONEYEARREADMIT']], test_size=0.3)"
   ]
  },
  {
   "cell_type": "code",
   "execution_count": 316,
   "metadata": {},
   "outputs": [
    {
     "data": {
      "text/plain": [
       "(9042, 20)"
      ]
     },
     "execution_count": 316,
     "metadata": {},
     "output_type": "execute_result"
    }
   ],
   "source": [
    "X_train.shape"
   ]
  },
  {
   "cell_type": "code",
   "execution_count": 317,
   "metadata": {},
   "outputs": [
    {
     "data": {
      "text/plain": [
       "(3876, 20)"
      ]
     },
     "execution_count": 317,
     "metadata": {},
     "output_type": "execute_result"
    }
   ],
   "source": [
    "X_test.shape"
   ]
  },
  {
   "cell_type": "code",
   "execution_count": 318,
   "metadata": {
    "collapsed": true
   },
   "outputs": [],
   "source": [
    "X_train = X_train.reset_index(drop=True)\n",
    "X_test = X_test.reset_index(drop=True)\n",
    "Y_train = Y_train.reset_index(drop=True)\n",
    "Y_test = Y_test.reset_index(drop=True)"
   ]
  },
  {
   "cell_type": "code",
   "execution_count": 319,
   "metadata": {},
   "outputs": [
    {
     "data": {
      "text/plain": [
       "array([2, 1, 3, 2, 0, 0, 2, 3, 2, 2])"
      ]
     },
     "execution_count": 319,
     "metadata": {},
     "output_type": "execute_result"
    }
   ],
   "source": [
    "# randomly initialize cohort \n",
    "cohort = np.random.randint(4, size=9042)\n",
    "cohort[0:10]"
   ]
  },
  {
   "cell_type": "code",
   "execution_count": 320,
   "metadata": {},
   "outputs": [
    {
     "name": "stdout",
     "output_type": "stream",
     "text": [
      "(9042, 20)\n",
      "(9042,)\n",
      "(3876, 20)\n",
      "(3876,)\n",
      "(9042,)\n"
     ]
    }
   ],
   "source": [
    "data = X_train.as_matrix()\n",
    "print(data.shape)\n",
    "\n",
    "target = (Y_train.as_matrix()).ravel()\n",
    "print(target.shape)\n",
    "\n",
    "test_data = X_test.as_matrix()\n",
    "print(test_data.shape)\n",
    "\n",
    "test_target = (Y_test.as_matrix()).ravel()\n",
    "print(test_target.shape)\n",
    "\n",
    "print(cohort.shape)"
   ]
  },
  {
   "cell_type": "code",
   "execution_count": 321,
   "metadata": {},
   "outputs": [
    {
     "data": {
      "text/plain": [
       "array([[2.0, False, 1.1, ..., 3.3, 0, 1.3],\n",
       "       [5.0, False, 2.4, ..., 8.73, 1, 2.2],\n",
       "       [5.0, False, 2.8, ..., 10.09, 0, 1.0],\n",
       "       ..., \n",
       "       [0.0, False, 1.1, ..., 1.83, 0, 1.1],\n",
       "       [4.0, False, 11.2, ..., 15.39, 1, 1.9],\n",
       "       [0.0, False, 1.1, ..., 3.15, 1, 1.3]], dtype=object)"
      ]
     },
     "execution_count": 321,
     "metadata": {},
     "output_type": "execute_result"
    }
   ],
   "source": [
    "data"
   ]
  },
  {
   "cell_type": "code",
   "execution_count": 322,
   "metadata": {},
   "outputs": [
    {
     "data": {
      "text/plain": [
       "array([1, 0, 0, 0, 0, 1, 0, 0, 0, 0])"
      ]
     },
     "execution_count": 322,
     "metadata": {},
     "output_type": "execute_result"
    }
   ],
   "source": [
    "target[0:10]"
   ]
  },
  {
   "cell_type": "code",
   "execution_count": 323,
   "metadata": {},
   "outputs": [
    {
     "data": {
      "text/plain": [
       "LogisticRegression(C=1, class_weight=None, dual=False, fit_intercept=True,\n",
       "          intercept_scaling=1, max_iter=100, multi_class='ovr', n_jobs=1,\n",
       "          penalty='l1', random_state=None, solver='liblinear', tol=0.0001,\n",
       "          verbose=0, warm_start=False)"
      ]
     },
     "execution_count": 323,
     "metadata": {},
     "output_type": "execute_result"
    }
   ],
   "source": [
    "clfFn_test = LR(data, target)\n",
    "# clfFn_test.get_params()\n",
    "clfFn_test"
   ]
  },
  {
   "cell_type": "code",
   "execution_count": 324,
   "metadata": {},
   "outputs": [
    {
     "data": {
      "text/plain": [
       "0.83709356337093566"
      ]
     },
     "execution_count": 324,
     "metadata": {},
     "output_type": "execute_result"
    }
   ],
   "source": [
    "clfFn_test.score(data, target)"
   ]
  },
  {
   "cell_type": "code",
   "execution_count": 325,
   "metadata": {},
   "outputs": [
    {
     "data": {
      "text/plain": [
       "array([0, 0, 0, 0, 0, 0, 0, 1, 0, 0, 0, 0, 0, 0, 0, 0, 0, 0, 0, 0])"
      ]
     },
     "execution_count": 325,
     "metadata": {},
     "output_type": "execute_result"
    }
   ],
   "source": [
    "clfFn_test.predict(data)[0:20]"
   ]
  },
  {
   "cell_type": "code",
   "execution_count": 326,
   "metadata": {
    "scrolled": true
   },
   "outputs": [
    {
     "name": "stdout",
     "output_type": "stream",
     "text": [
      "ITERATION: 1\n",
      "Cohort 1 Accuracy: 84.4048653345 %\n",
      "Not Readmitted %: 83.2319721981 %\n",
      "cohort size: 25.458969254589693 %\n",
      " \n",
      "Cohort 2 Accuracy: 83.592321755 %\n",
      "Not Readmitted %: 82.9524680073 %\n",
      "cohort size: 24.198186241981862 %\n",
      " \n",
      "Cohort 3 Accuracy: 83.8808585195 %\n",
      "Not Readmitted %: 83.3990363557 %\n",
      "cohort size: 25.24883875248839 %\n",
      " \n",
      "Cohort 4 Accuracy: 83.5610401058 %\n",
      "Not Readmitted %: 82.9881004848 %\n",
      "cohort size: 25.094005750940056 %\n",
      " \n",
      "num_change 12431\n",
      " \n",
      " \n",
      " \n",
      "ITERATION: 2\n",
      "Cohort 1 Accuracy: 99.8266597331 %\n",
      "Not Readmitted %: 86.9301438724 %\n",
      "cohort size: 63.802256138022564 %\n",
      " \n",
      "Cohort 2 Accuracy: 100.0 %\n",
      "Not Readmitted %: 73.4732824427 %\n",
      "cohort size: 17.38553417385534 %\n",
      " \n",
      "Cohort 3 Accuracy: 100.0 %\n",
      "Not Readmitted %: 84.1849148418 %\n",
      "cohort size: 4.545454545454546 %\n",
      " \n",
      "Cohort 4 Accuracy: 100.0 %\n",
      "Not Readmitted %: 77.6744186047 %\n",
      "cohort size: 14.26675514266755 %\n",
      " \n",
      "num_change 2554\n",
      " \n",
      " \n",
      " \n",
      "ITERATION: 3\n",
      "Cohort 1 Accuracy: 99.6481970097 %\n",
      "Not Readmitted %: 86.4204045734 %\n",
      "cohort size: 62.87325812873258 %\n",
      " \n",
      "Cohort 2 Accuracy: 100.0 %\n",
      "Not Readmitted %: 75.6036636137 %\n",
      "cohort size: 26.564919265649195 %\n",
      " \n",
      "Cohort 3 Accuracy: 100.0 %\n",
      "Not Readmitted %: 71.1246200608 %\n",
      "cohort size: 3.6385755363857553 %\n",
      " \n",
      "Cohort 4 Accuracy: 100.0 %\n",
      "Not Readmitted %: 88.6581469649 %\n",
      "cohort size: 6.92324706923247 %\n",
      " \n",
      "num_change 2172\n",
      " \n",
      " \n",
      " \n",
      "ITERATION: 4\n",
      "Cohort 1 Accuracy: 99.8342541436 %\n",
      "Not Readmitted %: 85.3775322284 %\n",
      "cohort size: 60.053085600530856 %\n",
      " \n",
      "Cohort 2 Accuracy: 100.0 %\n",
      "Not Readmitted %: 74.4732576985 %\n",
      "cohort size: 27.294846272948465 %\n",
      " \n",
      "Cohort 3 Accuracy: 100.0 %\n",
      "Not Readmitted %: 89.5833333333 %\n",
      "cohort size: 1.06171201061712 %\n",
      " \n",
      "Cohort 4 Accuracy: 99.9045801527 %\n",
      "Not Readmitted %: 91.4122137405 %\n",
      "cohort size: 11.59035611590356 %\n",
      " \n",
      "num_change 1566\n",
      " \n",
      " \n",
      " \n",
      "ITERATION: 5\n",
      "Cohort 1 Accuracy: 99.8489996225 %\n",
      "Not Readmitted %: 84.9943374858 %\n",
      "cohort size: 58.593231585932315 %\n",
      " \n",
      "Cohort 2 Accuracy: 100.0 %\n",
      "Not Readmitted %: 75.953189883 %\n",
      "cohort size: 29.296615792966158 %\n",
      " \n",
      "Cohort 3 Accuracy: 100.0 %\n",
      "Not Readmitted %: 98.0158730159 %\n",
      "cohort size: 5.57398805573988 %\n",
      " \n",
      "Cohort 4 Accuracy: 100.0 %\n",
      "Not Readmitted %: 86.1252115059 %\n",
      "cohort size: 6.536164565361647 %\n",
      " \n",
      "num_change 1569\n",
      " \n",
      " \n",
      " \n",
      "ITERATION: 6\n",
      "Cohort 1 Accuracy: 99.9408050513 %\n",
      "Not Readmitted %: 84.6093133386 %\n",
      "cohort size: 56.049546560495465 %\n",
      " \n",
      "Cohort 2 Accuracy: 100.0 %\n",
      "Not Readmitted %: 77.0577281192 %\n",
      "cohort size: 29.69475779694758 %\n",
      " \n",
      "Cohort 3 Accuracy: 100.0 %\n",
      "Not Readmitted %: 98.266897747 %\n",
      "cohort size: 6.3813315638133155 %\n",
      " \n",
      "Cohort 4 Accuracy: 100.0 %\n",
      "Not Readmitted %: 83.4269662921 %\n",
      "cohort size: 7.874364078743641 %\n",
      " \n",
      "num_change 1405\n",
      " \n",
      " \n",
      " \n",
      "ITERATION: 7\n"
     ]
    }
   ],
   "source": [
    "index_counter = 1\n",
    "num_change = 0\n",
    "while True:\n",
    "    print('ITERATION:', index_counter)\n",
    "    data_1 = data[np.where(cohort == 0)]\n",
    "    target_1 = target[np.where(cohort == 0)]\n",
    "\n",
    "    data_2 = data[np.where(cohort == 1)]\n",
    "    target_2 = target[np.where(cohort == 1)]\n",
    "    \n",
    "    data_3 = data[np.where(cohort == 2)]\n",
    "    target_3 = target[np.where(cohort == 2)]\n",
    "    \n",
    "    data_4 = data[np.where(cohort == 3)]\n",
    "    target_4 = target[np.where(cohort == 3)]\n",
    "    \n",
    "    \n",
    "    if sum(target_1) == 0 or sum(target_2) == 0 or sum(target_3) == 0 or sum(target_4) == 0:\n",
    "        break\n",
    "    \n",
    "    cohort1_Model = LR(data_1, target_1)\n",
    "\n",
    "    cohort2_Model = LR(data_2, target_2)\n",
    "\n",
    "    cohort3_Model = LR(data_3, target_3)\n",
    "\n",
    "    cohort4_Model = LR(data_4, target_4)\n",
    "\n",
    "\n",
    "\n",
    "    cohort1_pred = cohort1_Model.predict(data_1) #reshape(-1,1)\n",
    "    cohort1_current_accuracy = metrics.accuracy_score(target_1, cohort1_pred)\n",
    "    print('Cohort 1 Accuracy:', cohort1_current_accuracy*100, '%')\n",
    "    print(\"Not Readmitted %:\", (1 - (sum(target_1)/len(target_1)))*100,'%')\n",
    "    print('cohort size:', (len(target_1)/len(target))*100,'%')\n",
    "    print(\" \")\n",
    "    cohort2_pred = cohort2_Model.predict(data_2) #reshape(-1,1)\n",
    "    cohort2_current_accuracy = metrics.accuracy_score(target_2, cohort2_pred)\n",
    "    print('Cohort 2 Accuracy:', cohort2_current_accuracy*100, '%')\n",
    "    print(\"Not Readmitted %:\", (1 - (sum(target_2)/len(target_2)))*100,'%')\n",
    "    print('cohort size:', (len(target_2)/len(target))*100,'%')\n",
    "    print(\" \")\n",
    "    cohort3_pred = cohort3_Model.predict(data_3) #reshape(-1,1)\n",
    "    cohort3_current_accuracy = metrics.accuracy_score(target_3, cohort3_pred)\n",
    "    print('Cohort 3 Accuracy:', cohort3_current_accuracy*100, '%')\n",
    "    print(\"Not Readmitted %:\", (1 - (sum(target_3)/len(target_3)))*100,'%')\n",
    "    print('cohort size:', (len(target_3)/len(target))*100,'%')\n",
    "    print(\" \")\n",
    "    cohort4_pred = cohort4_Model.predict(data_4) #reshape(-1,1)\n",
    "    cohort4_current_accuracy = metrics.accuracy_score(target_4, cohort4_pred)\n",
    "    print('Cohort 4 Accuracy:', cohort4_current_accuracy*100, '%')\n",
    "    print(\"Not Readmitted %:\", (1 - (sum(target_4)/len(target_4)))*100,'%')\n",
    "    print('cohort size:', (len(target_4)/len(target))*100,'%')\n",
    "    print(\" \")\n",
    "\n",
    "\n",
    "\n",
    "    oldcohort = copy.deepcopy(cohort)\n",
    "    \n",
    "    # reassign based on whichever model gives higher probability\n",
    "    for i in range(len(target)):\n",
    "        curr_data = data[i]\n",
    "        if (target[i] == 0):  \n",
    "            if (cohort1_Model.predict_proba(curr_data)[:,0]) > ((cohort2_Model.predict_proba(curr_data)[:,0]) and (cohort3_Model.predict_proba(curr_data)[:,0]) and (cohort4_Model.predict_proba(curr_data)[:,0])) :\n",
    "                cohort[i] = 0\n",
    "            elif (cohort2_Model.predict_proba(curr_data)[:,0]) > ((cohort1_Model.predict_proba(curr_data)[:,0]) and (cohort3_Model.predict_proba(curr_data)[:,0]) and (cohort4_Model.predict_proba(curr_data)[:,0])) :\n",
    "                cohort[i] = 1\n",
    "            elif (cohort3_Model.predict_proba(curr_data)[:,0]) > ((cohort2_Model.predict_proba(curr_data)[:,0]) and (cohort1_Model.predict_proba(curr_data)[:,0]) and (cohort4_Model.predict_proba(curr_data)[:,0])) :\n",
    "                cohort[i] = 2\n",
    "            else:\n",
    "                cohort[i] = 3\n",
    "        else:\n",
    "            if (cohort1_Model.predict_proba(curr_data)[:,1]) > ((cohort2_Model.predict_proba(curr_data)[:,1]) and (cohort3_Model.predict_proba(curr_data)[:,1]) and (cohort4_Model.predict_proba(curr_data)[:,1])):\n",
    "                cohort[i] = 0\n",
    "            elif (cohort2_Model.predict_proba(curr_data)[:,1]) > ((cohort1_Model.predict_proba(curr_data)[:,1]) and (cohort3_Model.predict_proba(curr_data)[:,1]) and (cohort4_Model.predict_proba(curr_data)[:,1])):\n",
    "                cohort[i] = 1\n",
    "            elif (cohort3_Model.predict_proba(curr_data)[:,1]) > ((cohort1_Model.predict_proba(curr_data)[:,1]) and (cohort2_Model.predict_proba(curr_data)[:,1]) and (cohort4_Model.predict_proba(curr_data)[:,1])):\n",
    "                cohort[i] = 2\n",
    "            else:\n",
    "                cohort[i] = 3\n",
    "\n",
    "\n",
    "                    \n",
    "    if sum(np.absolute(np.subtract(oldcohort, cohort))) == 0 or index_counter == 50:  # or ((cohort3_current_accuracy+cohort2_current_accuracy+cohort1_current_accuracy+cohort4_current_accuracy) > 3.999):\n",
    "        num_change = sum(np.absolute(np.subtract(oldcohort, cohort)))\n",
    "        print('num_change', num_change)\n",
    "        print(\"break\")\n",
    "        break\n",
    "    else:\n",
    "        num_change = sum(np.absolute(np.subtract(oldcohort, cohort)))\n",
    "        print('num_change', num_change)\n",
    "    index_counter += 1\n",
    "    print(\" \")\n",
    "    print(\" \")\n",
    "    print(\" \")\n"
   ]
  },
  {
   "cell_type": "code",
   "execution_count": 327,
   "metadata": {},
   "outputs": [
    {
     "data": {
      "text/plain": [
       "767"
      ]
     },
     "execution_count": 327,
     "metadata": {},
     "output_type": "execute_result"
    }
   ],
   "source": [
    "sum(target_1)"
   ]
  },
  {
   "cell_type": "code",
   "execution_count": 328,
   "metadata": {},
   "outputs": [
    {
     "data": {
      "text/plain": [
       "621"
      ]
     },
     "execution_count": 328,
     "metadata": {},
     "output_type": "execute_result"
    }
   ],
   "source": [
    "sum(target_2)"
   ]
  },
  {
   "cell_type": "code",
   "execution_count": 329,
   "metadata": {},
   "outputs": [
    {
     "data": {
      "text/plain": [
       "0"
      ]
     },
     "execution_count": 329,
     "metadata": {},
     "output_type": "execute_result"
    }
   ],
   "source": [
    "sum(target_3)"
   ]
  },
  {
   "cell_type": "code",
   "execution_count": 330,
   "metadata": {},
   "outputs": [
    {
     "data": {
      "text/plain": [
       "136"
      ]
     },
     "execution_count": 330,
     "metadata": {},
     "output_type": "execute_result"
    }
   ],
   "source": [
    "sum(target_4)"
   ]
  },
  {
   "cell_type": "code",
   "execution_count": 331,
   "metadata": {
    "collapsed": true
   },
   "outputs": [],
   "source": [
    "cohort=cohort.astype('int')\n",
    "cohort_clf = LR(data, cohort)"
   ]
  },
  {
   "cell_type": "code",
   "execution_count": 332,
   "metadata": {},
   "outputs": [
    {
     "data": {
      "text/plain": [
       "array([0, 1, 0, 1, 0, 0, 1, 1, 0, 1, 0, 0, 0, 1, 0, 1, 1, 0, 1, 0, 0, 0, 0,\n",
       "       1, 2, 1, 0, 3, 1, 0, 2, 1, 1, 0, 2, 0, 1, 1, 0, 1, 1, 1, 0, 0, 0, 1,\n",
       "       0, 1, 0, 1, 1, 1, 0, 0, 0, 0, 1, 0, 1, 1, 0, 0, 1, 0, 3, 0, 0, 0, 3,\n",
       "       0, 0, 1, 1, 0, 1, 0, 2, 1, 1, 0, 0, 0, 1, 0, 0, 0, 1, 1, 0, 1, 2, 0,\n",
       "       0, 1, 0, 0, 1, 0, 1, 1, 3, 0, 0, 1, 0, 0, 1, 1, 3, 1, 3, 3, 2, 0, 0,\n",
       "       0, 0, 0, 0, 0, 0, 3, 1, 0, 0, 1, 1, 3, 1, 1, 0, 0, 2, 0, 0, 1, 0, 1,\n",
       "       1, 0, 0, 1, 1, 0, 2, 0, 0, 1, 1, 0, 0, 1, 0, 0, 1, 1, 0, 0, 2, 1, 0,\n",
       "       1, 1, 3, 0, 0, 1, 0, 0, 1, 1, 0, 3, 1, 1, 0, 1, 0, 0, 3, 3, 0, 0, 1,\n",
       "       0, 0, 0, 1, 0, 0, 0, 0, 1, 1, 0, 3, 2, 0, 0, 3, 0, 0, 1, 0, 1, 3, 0,\n",
       "       0, 0, 0, 0, 0, 3, 1, 1, 0, 1, 0, 0, 0, 1, 0, 3, 1, 1, 0, 0, 0, 2, 0,\n",
       "       1, 0, 0, 0, 0, 0, 0, 3, 0, 3, 0, 0, 0, 3, 0, 0, 0, 3, 1, 1, 0, 0, 1,\n",
       "       0, 1, 1, 3, 0, 0, 0, 0, 1, 1, 0, 1, 0, 1, 0, 1, 1, 2, 1, 1, 0, 0, 2,\n",
       "       3, 1, 1, 0, 1, 3, 2, 1, 0, 1, 1, 1, 0, 0, 1, 1, 0, 0, 0, 2, 0, 0, 0,\n",
       "       1, 1, 0, 0, 1, 3, 3, 0, 0, 1, 2, 0, 0, 1, 1, 0, 1, 0, 2, 1, 3, 0, 1,\n",
       "       0, 2, 1, 2, 1, 2, 1, 0, 1, 1, 1, 1, 0, 1, 0, 1, 0, 0, 1, 2, 1, 3, 0,\n",
       "       1, 0, 0, 0, 1, 3, 0, 1, 3, 0, 0, 0, 0, 0, 1, 0, 1, 3, 0, 0, 1, 1, 0,\n",
       "       0, 0, 1, 0, 0, 0, 0, 0, 0, 0, 0, 0, 0, 0, 3, 0, 0, 0, 2, 0, 1, 0, 0,\n",
       "       0, 0, 3, 1, 2, 0, 2, 0, 0, 1, 3, 1, 0, 2, 2, 0, 0, 2, 2, 1, 2, 1, 1,\n",
       "       1, 1, 3, 1, 0, 1, 0, 0, 0, 1, 2, 2, 0, 0, 1, 0, 1, 1, 3, 0, 2, 1, 1,\n",
       "       1, 0, 0, 0, 3, 0, 1, 1, 0, 0, 0, 1, 1, 0, 1, 0, 1, 0, 0, 0, 3, 0, 0,\n",
       "       0, 0, 0, 3, 1, 0, 1, 0, 0, 0, 0, 0, 0, 0, 0, 1, 0, 1, 1, 2, 0, 1, 0,\n",
       "       3, 0, 1, 0, 0, 2, 1, 1, 0, 1, 0, 1, 1, 1, 0, 3, 0, 0, 3, 1, 0, 1, 0,\n",
       "       0, 0, 0, 1, 0, 3, 1, 3, 0, 1, 1, 1, 0, 2, 0, 0, 0, 0, 0, 3, 0, 0, 1,\n",
       "       0, 1, 1, 0, 3, 1, 0, 1, 0, 1, 3, 0, 0, 1, 0, 1, 2, 1, 1, 0, 2, 1, 0,\n",
       "       0, 3, 1, 1, 1, 2, 0, 0, 0, 0, 1, 3, 3, 0, 1, 0, 1, 0, 0, 0, 0, 0, 0,\n",
       "       2, 1, 2, 1, 1, 1, 1, 0, 0, 0, 0, 3, 1, 0, 0, 0, 0, 1, 0, 0, 0, 0, 1,\n",
       "       0, 0, 0, 1, 0, 0, 0, 0, 3, 0, 0, 1, 2, 0, 1, 0, 0, 0, 0, 0, 0, 1, 1,\n",
       "       0, 1, 1, 1, 0, 0, 1, 0, 0, 1, 1, 1, 1, 0, 0, 1, 0, 0, 2, 0, 1, 0, 2,\n",
       "       3, 1, 2, 0, 2, 1, 1, 0, 0, 1, 1, 2, 0, 1, 0, 0, 0, 0, 0, 1, 1, 0, 1,\n",
       "       1, 0, 2, 0, 1, 0, 0, 0, 0, 1, 3, 0, 0, 1, 1, 0, 0, 1, 3, 3, 0, 1, 2,\n",
       "       0, 1, 0, 0, 3, 0, 2, 0, 0, 1, 0, 0, 0, 1, 3, 0, 0, 0, 0, 0, 1, 0, 1,\n",
       "       1, 1, 0, 0, 0, 0, 0, 1, 0, 1, 3, 0, 0, 1, 1, 0, 3, 1, 1, 1, 0, 0, 3,\n",
       "       0, 3, 0, 0, 0, 0, 0, 0, 0, 0, 3, 0, 3, 1, 0, 0, 0, 3, 0, 0, 3, 0, 1,\n",
       "       2, 3, 0, 0, 1, 0, 1, 1, 3, 0, 1, 0, 2, 1, 0, 1, 0, 0, 0, 0, 1, 1, 1,\n",
       "       2, 0, 2, 1, 1, 1, 0, 1, 3, 3, 0, 1, 0, 0, 2, 0, 0, 0, 1, 2, 0, 3, 1,\n",
       "       0, 0, 0, 2, 0, 0, 0, 0, 0, 0, 0, 0, 0, 1, 0, 0, 1, 0, 0, 0, 0, 1, 0,\n",
       "       3, 0, 0, 0, 1, 3, 0, 0, 0, 1, 0, 3, 0, 3, 0, 0, 0, 0, 0, 0, 1, 0, 1,\n",
       "       1, 3, 1, 1, 0, 0, 1, 0, 0, 0, 0, 0, 0, 1, 2, 0, 0, 1, 1, 1, 1, 0, 1,\n",
       "       0, 0, 1, 3, 0, 0, 0, 3, 2, 2, 0, 0, 0, 0, 1, 0, 0, 0, 0, 1, 3, 1, 0,\n",
       "       2, 1, 1, 1, 0, 1, 2, 0, 1, 0, 0, 0, 1, 1, 1, 0, 0, 0, 0, 0, 2, 0, 3,\n",
       "       1, 1, 0, 1, 2, 3, 0, 1, 1, 1, 2, 0, 1, 0, 2, 1, 0, 1, 0, 0, 0, 1, 0,\n",
       "       1, 0, 1, 0, 0, 0, 1, 0, 0, 1, 0, 1, 0, 0, 1, 2, 1, 0, 1, 0, 0, 0, 0,\n",
       "       1, 0, 1, 1, 1, 0, 3, 2, 0, 0, 1, 0, 1, 1, 0, 3, 1, 0, 1, 1, 0, 1, 0,\n",
       "       0, 1, 1, 0, 0, 1, 0, 1, 1, 2])"
      ]
     },
     "execution_count": 332,
     "metadata": {},
     "output_type": "execute_result"
    }
   ],
   "source": [
    "cohort[1:1000]"
   ]
  },
  {
   "cell_type": "code",
   "execution_count": 333,
   "metadata": {},
   "outputs": [
    {
     "data": {
      "text/plain": [
       "array([1, 0, 0, 3, 1, 0, 0, 1, 0, 1, 3, 1, 0, 0, 0, 0, 0, 1, 1, 1, 0, 1, 3,\n",
       "       1, 1, 1, 1, 1, 0, 1, 1, 0, 0, 0, 1, 0, 1, 0, 1, 1, 0, 1, 1, 1, 0, 0,\n",
       "       0, 1, 1, 1, 0, 1, 0, 1, 0, 0, 1, 0, 0, 0, 1, 1, 0, 1, 3, 0, 1, 1, 1,\n",
       "       0, 0, 0, 0, 0, 0, 0, 0, 0, 1, 0, 1, 1, 1, 1, 1, 0, 0, 0, 0, 0, 1, 1,\n",
       "       1, 0, 0, 0, 0, 0, 0, 1])"
      ]
     },
     "execution_count": 333,
     "metadata": {},
     "output_type": "execute_result"
    }
   ],
   "source": [
    "# predict cohorts for test set \n",
    "test_cohort = cohort_clf.predict(X_test)\n",
    "test_cohort[0:100]"
   ]
  },
  {
   "cell_type": "code",
   "execution_count": 334,
   "metadata": {},
   "outputs": [
    {
     "data": {
      "text/plain": [
       "True"
      ]
     },
     "execution_count": 334,
     "metadata": {},
     "output_type": "execute_result"
    }
   ],
   "source": [
    "np.any(test_cohort == 2)"
   ]
  },
  {
   "cell_type": "code",
   "execution_count": 335,
   "metadata": {
    "collapsed": true
   },
   "outputs": [],
   "source": [
    "testdata_1 = test_data[np.where(test_cohort == 0)]\n",
    "testtarget_1 = test_target[np.where(test_cohort == 0)]\n",
    "\n",
    "testdata_2 = test_data[np.where(test_cohort == 1)]\n",
    "testtarget_2 = test_target[np.where(test_cohort == 1)]\n",
    "\n",
    "testdata_3 = test_data[np.where(test_cohort == 2)]\n",
    "testtarget_3 = test_target[np.where(test_cohort == 2)]\n",
    "\n",
    "testdata_4 = test_data[np.where(test_cohort == 3)]\n",
    "testtarget_4 = test_target[np.where(test_cohort == 3)]"
   ]
  },
  {
   "cell_type": "code",
   "execution_count": 336,
   "metadata": {
    "scrolled": true
   },
   "outputs": [
    {
     "name": "stdout",
     "output_type": "stream",
     "text": [
      "Accuracy 80.8510638298 %\n",
      "Cohort fraction: 0.5699174406604747\n",
      "Not Readmitted: 84.5178813943 %\n",
      "Readmitted: 15.4821186057 %\n",
      "Predicted readmitted: 7.46944318696 %\n",
      "\n",
      "Accuracy 71.8348002708 %\n",
      "Cohort fraction: 0.381062951496388\n",
      "Not Readmitted: 79.6885578876 %\n",
      "Readmitted: 20.3114421124 %\n",
      "Predicted readmitted: 10.6973595125 %\n",
      "\n",
      "Accuracy 94.1176470588 %\n",
      "Cohort fraction: 0.0043859649122807015\n",
      "Not Readmitted: 94.1176470588 %\n",
      "Readmitted: 5.88235294118 %\n",
      "Predicted readmitted: 0.0 %\n",
      "\n",
      "\n",
      "Accuracy 93.7192118227 %\n",
      "Cohort fraction: 0.20949432404540763\n",
      "Not Readmitted: 93.7192118227 %\n",
      "Readmitted: 6.28078817734 %\n",
      "Predicted readmitted: 0.0 %\n",
      "\n",
      "\n",
      "Accuracy 93.6416184971 %\n",
      "Cohort fraction: 0.04463364293085655\n",
      "Not Readmitted: 94.2196531792 %\n",
      "Readmitted: 5.78034682081 %\n",
      "Predicted readmitted: 0.578034682081 %\n",
      "\n",
      "\n",
      "Total Accuracy: 0.78044375645\n"
     ]
    }
   ],
   "source": [
    "# cohort 1\n",
    "test_cohort1_pred = cohort1_Model.predict(testdata_1)\n",
    "test_cohort1_acc = metrics.accuracy_score(testtarget_1, test_cohort1_pred)\n",
    "print('Accuracy', test_cohort1_acc*100,'%')\n",
    "print('Cohort fraction:', (len(testtarget_1)/len(test_target)))\n",
    "print(\"Not Readmitted:\", (1 - (sum(testtarget_1)/len(testtarget_1)))*100,'%')\n",
    "print(\"Readmitted:\", (sum(testtarget_1)/len(testtarget_1))*100,'%')\n",
    "print('Predicted readmitted:', (sum(test_cohort1_pred)/len(test_cohort1_pred))*100,'%')\n",
    "print()\n",
    "\n",
    "# cohort 2\n",
    "test_cohort2_pred = cohort2_Model.predict(testdata_2)\n",
    "test_cohort2_acc = metrics.accuracy_score(testtarget_2, test_cohort2_pred)\n",
    "print('Accuracy', test_cohort2_acc*100,'%')\n",
    "print('Cohort fraction:', (len(testtarget_2)/len(test_target)))\n",
    "print(\"Not Readmitted:\", (1 - (sum(testtarget_2)/len(testtarget_2)))*100,'%')\n",
    "print(\"Readmitted:\", (sum(testtarget_2)/len(testtarget_2))*100,'%')\n",
    "print('Predicted readmitted:', (sum(test_cohort2_pred)/len(test_cohort2_pred))*100,'%')\n",
    "print()\n",
    "\n",
    "# cohort 3\n",
    "test_cohort3_pred = cohort3_Model.predict(testdata_3)\n",
    "test_cohort3_acc = metrics.accuracy_score(testtarget_3, test_cohort3_pred)\n",
    "print('Accuracy', test_cohort3_acc*100,'%')\n",
    "print('Cohort fraction:', (len(testtarget_3)/len(test_target)))\n",
    "print(\"Not Readmitted:\", (1 - (sum(testtarget_3)/len(testtarget_3)))*100,'%')\n",
    "print(\"Readmitted:\", (sum(testtarget_3)/len(testtarget_3))*100,'%')\n",
    "print('Predicted readmitted:', (sum(test_cohort3_pred)/len(test_cohort3_pred))*100,'%')\n",
    "print()\n",
    "print()\n",
    "\n",
    "# cohort 5\n",
    "test_cohort5_pred = cohort5_Model.predict(testdata_5)\n",
    "test_cohort5_acc = metrics.accuracy_score(testtarget_5, test_cohort5_pred)\n",
    "print('Accuracy', test_cohort5_acc*100,'%')\n",
    "print('Cohort fraction:', (len(testtarget_5)/len(test_target)))\n",
    "print(\"Not Readmitted:\", (1 - (sum(testtarget_5)/len(testtarget_5)))*100,'%')\n",
    "print(\"Readmitted:\", (sum(testtarget_5)/len(testtarget_5))*100,'%')\n",
    "print('Predicted readmitted:', (sum(test_cohort5_pred)/len(test_cohort5_pred))*100,'%')\n",
    "print()\n",
    "print()\n",
    "\n",
    "# cohort 4\n",
    "test_cohort4_pred = cohort4_Model.predict(testdata_4)\n",
    "test_cohort4_acc = metrics.accuracy_score(testtarget_4, test_cohort4_pred)\n",
    "print('Accuracy', test_cohort4_acc*100,'%')\n",
    "print('Cohort fraction:', (len(testtarget_4)/len(test_target)))\n",
    "print(\"Not Readmitted:\", (1 - (sum(testtarget_4)/len(testtarget_4)))*100,'%')\n",
    "print(\"Readmitted:\", (sum(testtarget_4)/len(testtarget_4))*100,'%')\n",
    "print('Predicted readmitted:', (sum(test_cohort4_pred)/len(test_cohort4_pred))*100,'%')\n",
    "print()\n",
    "print()\n",
    "\n",
    "\n",
    "\n",
    "# total\n",
    "total_accuracy = (test_cohort1_acc*(len(testtarget_1)/len(test_target))) + (test_cohort2_acc*(len(testtarget_2)/len(test_target))) + (test_cohort3_acc*(len(testtarget_3)/len(test_target)))  + (test_cohort4_acc*(len(testtarget_4)/len(test_target))) \n",
    "print('Total Accuracy:', total_accuracy)"
   ]
  },
  {
   "cell_type": "code",
   "execution_count": null,
   "metadata": {
    "collapsed": true
   },
   "outputs": [],
   "source": []
  }
 ],
 "metadata": {
  "kernelspec": {
   "display_name": "Python [default]",
   "language": "python",
   "name": "python3"
  },
  "language_info": {
   "codemirror_mode": {
    "name": "ipython",
    "version": 3
   },
   "file_extension": ".py",
   "mimetype": "text/x-python",
   "name": "python",
   "nbconvert_exporter": "python",
   "pygments_lexer": "ipython3",
   "version": "3.6.1"
  }
 },
 "nbformat": 4,
 "nbformat_minor": 2
}
