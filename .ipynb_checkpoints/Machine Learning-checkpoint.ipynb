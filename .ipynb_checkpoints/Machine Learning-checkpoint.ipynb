{
 "cells": [
  {
   "cell_type": "markdown",
   "metadata": {},
   "source": [
    "# Intro to Machine Learning "
   ]
  },
  {
   "cell_type": "code",
   "execution_count": 10,
   "metadata": {
    "collapsed": true
   },
   "outputs": [],
   "source": [
    "# show the matplotlib plotted graph within notebook lines.\n",
    "import matplotlib.pyplot as plt\n",
    "%matplotlib inline\n",
    "import seaborn as sns"
   ]
  },
  {
   "cell_type": "code",
   "execution_count": 11,
   "metadata": {
    "collapsed": true
   },
   "outputs": [],
   "source": [
    "# import required libraries\n",
    "# pandas:Data framework library for Python\n",
    "# sklearn: Library to perform machine learning tasks\n",
    "import os\n",
    "import time\n",
    "from tqdm import tqdm\n",
    "import pandas as pd\n",
    "import numpy as np\n",
    "import scipy\n",
    "import scipy.stats as st\n",
    "import re\n",
    "import codecs\n",
    "from collections import Counter\n",
    "import nltk\n",
    "from nltk.stem import *\n",
    "from nltk.corpus import stopwords\n",
    "import sklearn \n",
    "import sklearn.datasets\n",
    "import sklearn.metrics as metrics \n",
    "from sklearn.metrics import accuracy_score\n",
    "from sklearn.naive_bayes import GaussianNB\n",
    "from sklearn.linear_model import LogisticRegression\n",
    "from sklearn.cross_validation import StratifiedKFold\n",
    "from sklearn.svm import SVC\n",
    "from sklearn.grid_search import GridSearchCV\n",
    "from sklearn.metrics import classification_report\n",
    "from sklearn.cross_validation import train_test_split\n",
    "from sklearn.preprocessing import label_binarize\n",
    "from scipy import stats"
   ]
  },
  {
   "cell_type": "code",
   "execution_count": 12,
   "metadata": {
    "collapsed": true
   },
   "outputs": [],
   "source": [
    "# extract data\n",
    "#!tar -xf 20news-19997.tar.gz -C .\n",
    "!tar -xf 20news-19997.tar\n",
    "\n",
    "#!gzip -d -k 20news-19997.tar.gz\n",
    "\n",
    "#!tar -xf 20news-19997.tar"
   ]
  },
  {
   "cell_type": "code",
   "execution_count": 13,
   "metadata": {},
   "outputs": [
    {
     "name": "stdout",
     "output_type": "stream",
     "text": [
      "\u001b[34malt.atheism\u001b[m\u001b[m              \u001b[34mrec.autos\u001b[m\u001b[m                \u001b[34msci.space\u001b[m\u001b[m\r\n",
      "\u001b[34mcomp.graphics\u001b[m\u001b[m            \u001b[34mrec.motorcycles\u001b[m\u001b[m          \u001b[34msoc.religion.christian\u001b[m\u001b[m\r\n",
      "\u001b[34mcomp.os.ms-windows.misc\u001b[m\u001b[m  \u001b[34mrec.sport.baseball\u001b[m\u001b[m       \u001b[34mtalk.politics.guns\u001b[m\u001b[m\r\n",
      "\u001b[34mcomp.sys.ibm.pc.hardware\u001b[m\u001b[m \u001b[34mrec.sport.hockey\u001b[m\u001b[m         \u001b[34mtalk.politics.mideast\u001b[m\u001b[m\r\n",
      "\u001b[34mcomp.sys.mac.hardware\u001b[m\u001b[m    \u001b[34msci.crypt\u001b[m\u001b[m                \u001b[34mtalk.politics.misc\u001b[m\u001b[m\r\n",
      "\u001b[34mcomp.windows.x\u001b[m\u001b[m           \u001b[34msci.electronics\u001b[m\u001b[m          \u001b[34mtalk.religion.misc\u001b[m\u001b[m\r\n",
      "\u001b[34mmisc.forsale\u001b[m\u001b[m             \u001b[34msci.med\u001b[m\u001b[m\r\n"
     ]
    }
   ],
   "source": [
    "# display newsgroups directories\n",
    "!ls 20_newsgroups"
   ]
  },
  {
   "cell_type": "markdown",
   "metadata": {},
   "source": [
    "## Q1: Data Preprocessing and Initial Results"
   ]
  },
  {
   "cell_type": "markdown",
   "metadata": {},
   "source": [
    "#### (a) How did you choose to construct your features? I.e., please specify the following: (i) the feature encoding method (hint: unigram, bigram, stem?, lowercase?), (ii) the method for ranking features, and (iii) your choice of how many features to select. Explain your rationale for each choice."
   ]
  },
  {
   "cell_type": "markdown",
   "metadata": {
    "collapsed": true
   },
   "source": [
    "Feature construction:\n",
    " * feature encoding: unigram, lemmatize, remove stop wrods, term frequency\n",
    " * features were ranked by mutual information\n",
    " * top 1000 most frequent features selected for MI (reasonable number given computational limits), then 250 features selected. Initially 500, but minimal accuracy tradeoff."
   ]
  },
  {
   "cell_type": "markdown",
   "metadata": {},
   "source": [
    "#### (b) Write function dataPreprocessor:  data preprocessing settings (number of features, feature selection method, encoding method, and size of data) as input, and it should output a pandas Dataframe that contains preprocessed data where columns are features (except the last one, which is the target)."
   ]
  },
  {
   "cell_type": "code",
   "execution_count": 217,
   "metadata": {
    "collapsed": true
   },
   "outputs": [],
   "source": [
    "def dataPreprocessor(k, fs, encode, directorydf, size=None):\n",
    "    \"\"\"\n",
    "    INPUT\n",
    "        k: int. number of features to use\n",
    "        fs: string. From ['tf', 'mi']\n",
    "        encode: string. From ['tf', 'boolean']\n",
    "        drectorydf: Dataframe. It is given, see above support functions\n",
    "        size: int. Sample size. Default should be the data size.\n",
    "    OUTPUT\n",
    "        data: Dataframe. preprocessed data\n",
    "    \n",
    "    ps: 'tf' means term frequency, 'mi' means mutual information\n",
    "    \"\"\"\n",
    "    \n",
    "    ########### your code goes here ###########\n",
    "    data = None\n",
    "    \n",
    "    #if fs == 'mi' and encode == 'tf':\n",
    "    if fs == 'mi':\n",
    "\n",
    "\n",
    "        \n",
    "        #handle size\n",
    "        wnLemm = WordNetLemmatizer()\n",
    "        unfiltered_counter = Counter()\n",
    "        for rownum, row in enumerate(directorydf.itertuples()):\n",
    "            with codecs.open(row.Directories,\"r\" ,encoding='utf-8', errors='ignore') as myfile: \n",
    "                unfiltered_counter.update([wnLemm.lemmatize(word.lower(), 'v') for word in re.findall(r'\\w+', myfile.read())]) \n",
    "                #for word in re.findall(r'\\w+', myfile.read()):\n",
    "                #    if nltk.corpus.wordnet.synsets(word) and len(word) > 2:\n",
    "                #        unfiltered_counter.update([wnLemm.lemmatize(word.lower())])\n",
    "        \n",
    "        print(len(unfiltered_counter))\n",
    "        \n",
    "        #my_k = k + 200\n",
    "        my_k = 1000\n",
    "        \n",
    "        if len(unfiltered_counter) < my_k:\n",
    "            my_k = len(unfiltered_counter)\n",
    "            \n",
    "        filtered_set = {}\n",
    "        for word, count in dict(unfiltered_counter.most_common(my_k)).items():\n",
    "            #print(word)\n",
    "            if word.isalpha() and word not in stopwords.words('english') and len(word) > 2:\n",
    "                filtered_set[word] = count\n",
    "                #print(word)\n",
    "        \n",
    "        #print(len(filtered_set))\n",
    "        \n",
    "        counter = Counter(dict(filtered_set))\n",
    "        topk = counter.most_common()\n",
    "        \n",
    "        \n",
    "        \n",
    "        np = []\n",
    "        # now that we have top k words, count the term frequecy of these words in individual file\n",
    "        for rownum, row in enumerate(directorydf.itertuples()):\n",
    "            with codecs.open(row.Directories,\"r\" ,encoding='utf-8', errors='ignore') as myfile:\n",
    "                tempCounter = Counter([word for word in re.findall(r'\\w+', myfile.read())])\n",
    "                # if the word appears in the doc, then 1, else \n",
    "                if encode == 'tf':\n",
    "                    topkinDoc = [tempCounter[word] for (word,wordCount) in topk]\n",
    "                    # create a list for top k words with encoded target and its label\n",
    "                    np.append(topkinDoc+[label_target(row.Directories)]+[row.Directories])\n",
    "                else:\n",
    "                    topkinDoc = [1 if tempCounter[word] > 0 else 0 for (word,wordCount) in topk]\n",
    "                    np.append(topkinDoc+[label_target(row.Directories)]+[row.Directories])\n",
    "\n",
    "\n",
    "\n",
    "                \n",
    "        newsgroupdf = pd.DataFrame(np)\n",
    "        dfName = []\n",
    "        for c in topk:\n",
    "            dfName.append(c[0])\n",
    "            \n",
    "        newsgroupdf.columns = dfName+['target','label']\n",
    "        \n",
    "        features_df = newsgroupdf[dfName]\n",
    "        features = features_df.as_matrix()\n",
    "        \n",
    "        target_df = newsgroupdf[['target']]\n",
    "        target = target_df.as_matrix()\n",
    "        \n",
    "        \n",
    "        #following code adapted from: https://stackoverflow.com/questions/39839112/the-easiest-way-for-getting-feature-names-after-running-selectkbest-in-scikit-le\n",
    "        selector = sklearn.feature_selection.SelectKBest(sklearn.feature_selection.mutual_info_classif, k)\n",
    "        selector.fit(features, target)\n",
    "        # Get idxs of columns to keep\n",
    "        idxs_selected = selector.get_support(indices=True)\n",
    "        # Create new dataframe with only desired columns, or overwrite existing\n",
    "        features_dataframe_new = features[idxs_selected]\n",
    "    \n",
    "    \n",
    "        final_set = {}\n",
    "        for index in idxs_selected:\n",
    "            final_set[dfName[index]] = newsgroupdf[dfName[index]]\n",
    "        final_set['target'] = newsgroupdf['target']\n",
    "        final_set['label'] = newsgroupdf['label']\n",
    "        \n",
    "\n",
    "\n",
    "        if size != None:\n",
    "            data_total = pd.DataFrame(final_set)\n",
    "            data_size = size/len(data_total)\n",
    "            data = data_total.sample(axis=0, frac=data_size, replace=False)\n",
    "        else:\n",
    "            data = pd.DataFrame(final_set)\n",
    "\n",
    "\n",
    "    \n",
    "\n",
    "    ###########         end         ###########\n",
    "    return data"
   ]
  },
  {
   "cell_type": "code",
   "execution_count": 221,
   "metadata": {},
   "outputs": [
    {
     "name": "stdout",
     "output_type": "stream",
     "text": [
      "199898\n"
     ]
    },
    {
     "name": "stderr",
     "output_type": "stream",
     "text": [
      "/Users/shagun/anaconda/lib/python3.6/site-packages/sklearn/utils/validation.py:526: DataConversionWarning: A column-vector y was passed when a 1d array was expected. Please change the shape of y to (n_samples, ), for example using ravel().\n",
      "  y = column_or_1d(y, warn=True)\n"
     ]
    }
   ],
   "source": [
    "data = dataPreprocessor(k=200, fs='mi', encode='tf', directorydf=directorydf, size=None)\n",
    "\n",
    "#data = dataPreprocessor(k=50, fs='mi', encode='tf', directorydf=directorydf, size=None)"
   ]
  },
  {
   "cell_type": "code",
   "execution_count": 222,
   "metadata": {},
   "outputs": [
    {
     "data": {
      "text/html": [
       "<div>\n",
       "<style>\n",
       "    .dataframe thead tr:only-child th {\n",
       "        text-align: right;\n",
       "    }\n",
       "\n",
       "    .dataframe thead th {\n",
       "        text-align: left;\n",
       "    }\n",
       "\n",
       "    .dataframe tbody tr th {\n",
       "        vertical-align: top;\n",
       "    }\n",
       "</style>\n",
       "<table border=\"1\" class=\"dataframe\">\n",
       "  <thead>\n",
       "    <tr style=\"text-align: right;\">\n",
       "      <th></th>\n",
       "      <th>abortion</th>\n",
       "      <th>access</th>\n",
       "      <th>advance</th>\n",
       "      <th>agree</th>\n",
       "      <th>alt</th>\n",
       "      <th>among</th>\n",
       "      <th>anything</th>\n",
       "      <th>apple</th>\n",
       "      <th>aramis</th>\n",
       "      <th>argument</th>\n",
       "      <th>...</th>\n",
       "      <th>version</th>\n",
       "      <th>video</th>\n",
       "      <th>war</th>\n",
       "      <th>way</th>\n",
       "      <th>win</th>\n",
       "      <th>window</th>\n",
       "      <th>windows</th>\n",
       "      <th>would</th>\n",
       "      <th>year</th>\n",
       "      <th>years</th>\n",
       "    </tr>\n",
       "  </thead>\n",
       "  <tbody>\n",
       "    <tr>\n",
       "      <th>0</th>\n",
       "      <td>0</td>\n",
       "      <td>0</td>\n",
       "      <td>0</td>\n",
       "      <td>0</td>\n",
       "      <td>8</td>\n",
       "      <td>0</td>\n",
       "      <td>1</td>\n",
       "      <td>0</td>\n",
       "      <td>0</td>\n",
       "      <td>0</td>\n",
       "      <td>...</td>\n",
       "      <td>2</td>\n",
       "      <td>0</td>\n",
       "      <td>0</td>\n",
       "      <td>2</td>\n",
       "      <td>0</td>\n",
       "      <td>0</td>\n",
       "      <td>0</td>\n",
       "      <td>0</td>\n",
       "      <td>0</td>\n",
       "      <td>0</td>\n",
       "    </tr>\n",
       "    <tr>\n",
       "      <th>1</th>\n",
       "      <td>0</td>\n",
       "      <td>0</td>\n",
       "      <td>0</td>\n",
       "      <td>1</td>\n",
       "      <td>10</td>\n",
       "      <td>0</td>\n",
       "      <td>1</td>\n",
       "      <td>0</td>\n",
       "      <td>0</td>\n",
       "      <td>0</td>\n",
       "      <td>...</td>\n",
       "      <td>0</td>\n",
       "      <td>0</td>\n",
       "      <td>0</td>\n",
       "      <td>13</td>\n",
       "      <td>0</td>\n",
       "      <td>0</td>\n",
       "      <td>0</td>\n",
       "      <td>7</td>\n",
       "      <td>0</td>\n",
       "      <td>2</td>\n",
       "    </tr>\n",
       "    <tr>\n",
       "      <th>2</th>\n",
       "      <td>0</td>\n",
       "      <td>0</td>\n",
       "      <td>0</td>\n",
       "      <td>0</td>\n",
       "      <td>1</td>\n",
       "      <td>0</td>\n",
       "      <td>0</td>\n",
       "      <td>0</td>\n",
       "      <td>0</td>\n",
       "      <td>3</td>\n",
       "      <td>...</td>\n",
       "      <td>0</td>\n",
       "      <td>0</td>\n",
       "      <td>0</td>\n",
       "      <td>1</td>\n",
       "      <td>0</td>\n",
       "      <td>0</td>\n",
       "      <td>0</td>\n",
       "      <td>4</td>\n",
       "      <td>0</td>\n",
       "      <td>0</td>\n",
       "    </tr>\n",
       "    <tr>\n",
       "      <th>3</th>\n",
       "      <td>0</td>\n",
       "      <td>0</td>\n",
       "      <td>0</td>\n",
       "      <td>0</td>\n",
       "      <td>4</td>\n",
       "      <td>0</td>\n",
       "      <td>0</td>\n",
       "      <td>0</td>\n",
       "      <td>0</td>\n",
       "      <td>0</td>\n",
       "      <td>...</td>\n",
       "      <td>0</td>\n",
       "      <td>0</td>\n",
       "      <td>0</td>\n",
       "      <td>0</td>\n",
       "      <td>0</td>\n",
       "      <td>0</td>\n",
       "      <td>0</td>\n",
       "      <td>0</td>\n",
       "      <td>0</td>\n",
       "      <td>0</td>\n",
       "    </tr>\n",
       "    <tr>\n",
       "      <th>4</th>\n",
       "      <td>0</td>\n",
       "      <td>0</td>\n",
       "      <td>0</td>\n",
       "      <td>0</td>\n",
       "      <td>2</td>\n",
       "      <td>0</td>\n",
       "      <td>0</td>\n",
       "      <td>0</td>\n",
       "      <td>0</td>\n",
       "      <td>0</td>\n",
       "      <td>...</td>\n",
       "      <td>0</td>\n",
       "      <td>0</td>\n",
       "      <td>0</td>\n",
       "      <td>0</td>\n",
       "      <td>0</td>\n",
       "      <td>0</td>\n",
       "      <td>0</td>\n",
       "      <td>0</td>\n",
       "      <td>0</td>\n",
       "      <td>0</td>\n",
       "    </tr>\n",
       "  </tbody>\n",
       "</table>\n",
       "<p>5 rows × 202 columns</p>\n",
       "</div>"
      ],
      "text/plain": [
       "   abortion  access  advance  agree  alt  among  anything  apple  aramis  \\\n",
       "0         0       0        0      0    8      0         1      0       0   \n",
       "1         0       0        0      1   10      0         1      0       0   \n",
       "2         0       0        0      0    1      0         0      0       0   \n",
       "3         0       0        0      0    4      0         0      0       0   \n",
       "4         0       0        0      0    2      0         0      0       0   \n",
       "\n",
       "   argument  ...    version  video  war  way  win  window  windows  would  \\\n",
       "0         0  ...          2      0    0    2    0       0        0      0   \n",
       "1         0  ...          0      0    0   13    0       0        0      7   \n",
       "2         3  ...          0      0    0    1    0       0        0      4   \n",
       "3         0  ...          0      0    0    0    0       0        0      0   \n",
       "4         0  ...          0      0    0    0    0       0        0      0   \n",
       "\n",
       "   year  years  \n",
       "0     0      0  \n",
       "1     0      2  \n",
       "2     0      0  \n",
       "3     0      0  \n",
       "4     0      0  \n",
       "\n",
       "[5 rows x 202 columns]"
      ]
     },
     "execution_count": 222,
     "metadata": {},
     "output_type": "execute_result"
    }
   ],
   "source": [
    "data.head()"
   ]
  },
  {
   "cell_type": "code",
   "execution_count": 95,
   "metadata": {
    "collapsed": true
   },
   "outputs": [],
   "source": [
    "\n",
    "data.to_csv('top500-wordnetmod.csv')\n",
    "\n"
   ]
  },
  {
   "cell_type": "code",
   "execution_count": 99,
   "metadata": {},
   "outputs": [
    {
     "name": "stdout",
     "output_type": "stream",
     "text": [
      "hello\n",
      "name\n",
      "x\n",
      "austin\n"
     ]
    }
   ],
   "source": [
    "test = ['hello', 'my', 'name', 'x', 'austin']\n",
    "for word in test:\n",
    "    if nltk.corpus.wordnet.synsets(word):\n",
    "        print (word)"
   ]
  },
  {
   "cell_type": "markdown",
   "metadata": {},
   "source": [
    "#### (c) For ten trials of randomized train/test splits, report the training accuracy and test accuracy of each trial as well as the average and 95% confidence intervals. What do you observe about their comparison and why?"
   ]
  },
  {
   "cell_type": "code",
   "execution_count": 155,
   "metadata": {
    "collapsed": true
   },
   "outputs": [],
   "source": [
    "def randomSplitCI(data, clf, num_run, **params):\n",
    "    \"\"\"\n",
    "    INPUT\n",
    "        data: 2D numpy array. Pre-processed data\n",
    "        clf: string. Name of the classifier from ['LR', 'SVM', 'NB']\n",
    "        num_run: int. How many times you want to run for random evaluation?\n",
    "        params: string->real. Hyper-parameter of classifier. PS: c=1.0, r=0.01\n",
    "    \n",
    "    OUTPUT\n",
    "        train_scores: list. Results of trials\n",
    "        test_scores: list. Results of trials\n",
    "        train_mean: scalar. Average accuracy\n",
    "        test_mean: scalar. Average accuracy\n",
    "        train_ci: scalar. Confidence Interval\n",
    "        test_ci: scalar. Confidence Interval\n",
    "    \"\"\"\n",
    "    \n",
    "    ########### your code goes here ###########\n",
    "\n",
    "    features = data.drop(['label', 'target'], axis=1).as_matrix()\n",
    "\n",
    "    target = data[['target']].as_matrix()\n",
    "    \n",
    "    train_scores = []\n",
    "    test_scores = []\n",
    "    train_mean = 0\n",
    "    test_mean = 0\n",
    "    \n",
    "    train_ci = 0\n",
    "    test_ci = 0\n",
    "    \n",
    "    if (clf == 'LR'):\n",
    "        clfFn = LogisticRegression(C=params[\"c\"])\n",
    "    elif (clf == 'NB'):\n",
    "        clfFn = GaussianNB()\n",
    "    else:\n",
    "        return\n",
    "    \n",
    "    for i in range(num_run):\n",
    "        # x_train,      x_test,        y_train,      y_test\n",
    "        features_train, features_test, target_train, target_test = train_test_split(features, target, stratify=target, test_size=0.3)\n",
    "        # train_features, test_features, target_train, target_test = train_test_split(features, target, test_size=0.3)\n",
    "    \n",
    "        # train the features and target datasets and fit to a model\n",
    "        clfModel = clfFn.fit(features_train, target_train)\n",
    "\n",
    "        # predict target with feature test set using trained model\n",
    "        target_pred = clfModel.predict(features_test)\n",
    "        \n",
    "        # predict target with feature train test set using trained model\n",
    "        feature_pred = clfModel.predict(features_train)\n",
    "        \n",
    "        train_scores.append(metrics.accuracy_score(target_train, feature_pred))\n",
    "        test_scores.append(metrics.accuracy_score(target_test, target_pred))\n",
    "        \n",
    "    train_mean = np.mean(train_scores)\n",
    "    test_mean = np.mean(test_scores)\n",
    "    \n",
    "    train_ci_full = st.t.interval(0.95, len(train_scores)-1, loc=train_mean, scale = st.sem(train_scores))\n",
    "    test_ci_full = st.t.interval(0.95, len(test_scores)-1, loc=test_mean, scale = st.sem(test_scores))\n",
    "\n",
    "    train_ci = train_mean - train_ci_full[0]\n",
    "    test_ci = test_mean - test_ci_full[0]\n",
    "\n",
    "    \n",
    "    ###########         end         ###########\n",
    "    return train_scores,test_scores,train_mean,test_mean,train_ci,test_ci "
   ]
  },
  {
   "cell_type": "code",
   "execution_count": 223,
   "metadata": {
    "scrolled": true
   },
   "outputs": [
    {
     "name": "stderr",
     "output_type": "stream",
     "text": [
      "/Users/shagun/anaconda/lib/python3.6/site-packages/sklearn/utils/validation.py:526: DataConversionWarning: A column-vector y was passed when a 1d array was expected. Please change the shape of y to (n_samples, ), for example using ravel().\n",
      "  y = column_or_1d(y, warn=True)\n"
     ]
    },
    {
     "name": "stdout",
     "output_type": "stream",
     "text": [
      "Train    \n",
      "Result of trails:[0.96384939629920696, 0.96527827391583909, 0.96406372794170181, 0.96434950346502823, 0.96506394227334424, 0.96327784525255411, 0.96242051868257483, 0.96377795241837538, 0.96334928913338569, 0.96349217689504896]     \n",
      "Average Accuracy: 0.9638922626277058     \n",
      "Confidence Interval: 0.0006100680927253466\n",
      "\n",
      "Test    \n",
      "Result of trails:[0.94999999999999996, 0.94350000000000001, 0.94599999999999995, 0.94933333333333336, 0.94466666666666665, 0.94933333333333336, 0.95266666666666666, 0.94899999999999995, 0.95116666666666672, 0.94783333333333331]     \n",
      "Average Accuracy: 0.9483500000000001     \n",
      "Confidence Interval: 0.0020585077754199377\n"
     ]
    }
   ],
   "source": [
    "train_scores,test_scores,train_mean,test_mean,train_ci,test_ci = randomSplitCI(data, 'LR', 10, c=1.0)\n",
    "print(\"Train\\\n",
    "    \\nResult of trails:{0} \\\n",
    "    \\nAverage Accuracy: {1} \\\n",
    "    \\nConfidence Interval: {2}\\n\".format(train_scores, train_mean, train_ci)\n",
    "     )\n",
    "print(\"Test\\\n",
    "    \\nResult of trails:{0} \\\n",
    "    \\nAverage Accuracy: {1} \\\n",
    "    \\nConfidence Interval: {2}\".format(test_scores, test_mean, test_ci)\n",
    "     )"
   ]
  },
  {
   "cell_type": "markdown",
   "metadata": {},
   "source": [
    "For LR\n",
    "Train    \n",
    "Result of trails:[0.96527827391583909, 0.96434950346502823, 0.96520683003500751, 0.96384939629920696, 0.96484961063084951, 0.96277773808673284, 0.96420661570336497, 0.96320640137172253, 0.96320640137172253, 0.96313495749089095]     \n",
    "Average Accuracy: 0.9640065728370365     \n",
    "Confidence Interval: 0.0006530796155977958\n",
    "\n",
    "Test    \n",
    "Result of trails:[0.94733333333333336, 0.94933333333333336, 0.94416666666666671, 0.94316666666666671, 0.94699999999999995, 0.94850000000000001, 0.94833333333333336, 0.94516666666666671, 0.94550000000000001, 0.94899999999999995]     \n",
    "Average Accuracy: 0.94675     \n",
    "Confidence Interval: 0.001532260922333717\n",
    "\n",
    "For NB\n",
    "Train    \n",
    "Result of trails:[0.59191255268986209, 0.60398656855040367, 0.57748088876187753, 0.56726441380295778, 0.56554976066299922, 0.58712581267414443, 0.58598271058083873, 0.58784025148246055, 0.5671929699221262, 0.55740515824819603]     \n",
    "Average Accuracy: 0.5791741087375866     \n",
    "Confidence Interval: 0.010422248985307192\n",
    "\n",
    "Test    \n",
    "Result of trails:[0.5665, 0.5718333333333333, 0.55000000000000004, 0.54149999999999998, 0.54216666666666669, 0.5658333333333333, 0.55233333333333334, 0.55649999999999999, 0.53766666666666663, 0.52449999999999997]     \n",
    "Average Accuracy: 0.5508833333333334     \n",
    "Confidence Interval: 0.010598400861842161\n",
    "\n",
    "Training accuracy and confidence interval is better than the test accuracy and confidence interval. This is expected given that the model is fit to the training data."
   ]
  },
  {
   "cell_type": "markdown",
   "metadata": {},
   "source": [
    "#### (d) What do the average and 95% confidence intervals tell you? Are they more informative than a single trial? Yes or no, and why?"
   ]
  },
  {
   "cell_type": "markdown",
   "metadata": {
    "collapsed": true
   },
   "source": [
    "A 95% confidence interval is a range of values that you can be 95% certain contains the true mean of the sample (level of certainty of the true mean). They are more informative than a single trial because a 95% confidence interval implies that if same data were to be sampled on numerous occasions and interval estimates are made on each occasion, the resulting intervals would bracket the true mean in approximately 95 % of the cases. "
   ]
  },
  {
   "cell_type": "markdown",
   "metadata": {},
   "source": [
    "#### (e) For multiclass only: compute the confusion matrix by filling up Function randomSplitCM."
   ]
  },
  {
   "cell_type": "code",
   "execution_count": 163,
   "metadata": {
    "collapsed": true
   },
   "outputs": [],
   "source": [
    "def randomSplitCM(data, clf, num_run, **params):\n",
    "    \"\"\"\n",
    "    INPUT\n",
    "        data: Dataframe. Pre-processed data\n",
    "        clf: string. Name of the classifier from ['LR', 'SVM', 'NB']\n",
    "        params: string->real. Hyper-parameter of classifier. PS: c=1.0, r=0.01\n",
    "    \n",
    "    OUTPUT\n",
    "        cm: pandas.DataFrame. Confusion Matrix\n",
    "    \"\"\"\n",
    "    \n",
    "    ########### your code goes here ###########\n",
    "    \n",
    "    \n",
    "    features = data.drop(['label', 'target'], axis=1).as_matrix()\n",
    "\n",
    "    target = data[['target']].as_matrix()\n",
    "\n",
    "    cms = {}\n",
    "        \n",
    "    labels = data['target'].unique()\n",
    "\n",
    "\n",
    "    if (clf == 'LR'):\n",
    "        clfFn = LogisticRegression(C=params[\"c\"])\n",
    "    elif (clf == 'NB'):\n",
    "        clfFn = GaussianNB()\n",
    "    else:\n",
    "        return\n",
    "\n",
    "    for i in range(num_run):\n",
    "        # x_train,      x_test,        y_train,      y_test\n",
    "        features_train, features_test, target_train, target_test = train_test_split(features, target, stratify=target, test_size=0.3)\n",
    "\n",
    "\n",
    "        # train the features and target datasets and fit to a model\n",
    "        clfModel = clfFn.fit(features_train, target_train)\n",
    "\n",
    "        # predict target with feature test set using trained model\n",
    "        target_pred = clfModel.predict(features_test)\n",
    "\n",
    "        # predict target with feature train test set using trained model\n",
    "        feature_pred = clfModel.predict(features_train)\n",
    "            \n",
    "        cms[i] = pd.DataFrame(metrics.confusion_matrix(target_test, target_pred), columns=labels, index=labels)\n",
    "\n",
    "\n",
    "\n",
    "    # Panel of all test set confusion matrices\n",
    "    pl = pd.Panel(cms)\n",
    "    cm = pl.sum(axis=0) #Sum the confusion matrices to get one view of how well the classifiers perform\n",
    "    \n",
    "    ###########         end         ###########\n",
    "    return cm"
   ]
  },
  {
   "cell_type": "code",
   "execution_count": 193,
   "metadata": {},
   "outputs": [
    {
     "name": "stderr",
     "output_type": "stream",
     "text": [
      "/Users/shagun/anaconda/lib/python3.6/site-packages/sklearn/utils/validation.py:526: DataConversionWarning: A column-vector y was passed when a 1d array was expected. Please change the shape of y to (n_samples, ), for example using ravel().\n",
      "  y = column_or_1d(y, warn=True)\n",
      "/Users/shagun/anaconda/lib/python3.6/site-packages/ipykernel_launcher.py:1: DeprecationWarning: \n",
      "Panel is deprecated and will be removed in a future version.\n",
      "The recommended way to represent these types of 3-dimensional data are with a MultiIndex on a DataFrame, via the Panel.to_frame() method\n",
      "Alternatively, you can use the xarray package http://xarray.pydata.org/en/stable/.\n",
      "Pandas provides a `.to_xarray()` method to help automate this conversion.\n",
      "\n",
      "  \"\"\"Entry point for launching an IPython kernel.\n"
     ]
    }
   ],
   "source": [
    "cm = randomSplitCM(data, 'LR', 10, c=1.0)"
   ]
  },
  {
   "cell_type": "markdown",
   "metadata": {},
   "source": [
    "#### (f) For multiclass only: show the confusion matrix (or a subset if too large to view at once). Are some classes more easily confused with others? Which ones and why?"
   ]
  },
  {
   "cell_type": "code",
   "execution_count": 165,
   "metadata": {},
   "outputs": [
    {
     "data": {
      "text/html": [
       "<div>\n",
       "<style>\n",
       "    .dataframe thead tr:only-child th {\n",
       "        text-align: right;\n",
       "    }\n",
       "\n",
       "    .dataframe thead th {\n",
       "        text-align: left;\n",
       "    }\n",
       "\n",
       "    .dataframe tbody tr th {\n",
       "        vertical-align: top;\n",
       "    }\n",
       "</style>\n",
       "<table border=\"1\" class=\"dataframe\">\n",
       "  <thead>\n",
       "    <tr style=\"text-align: right;\">\n",
       "      <th></th>\n",
       "      <th>0</th>\n",
       "      <th>1</th>\n",
       "      <th>2</th>\n",
       "      <th>3</th>\n",
       "      <th>4</th>\n",
       "      <th>5</th>\n",
       "      <th>6</th>\n",
       "      <th>7</th>\n",
       "      <th>8</th>\n",
       "      <th>9</th>\n",
       "      <th>10</th>\n",
       "      <th>11</th>\n",
       "      <th>12</th>\n",
       "      <th>13</th>\n",
       "      <th>14</th>\n",
       "      <th>15</th>\n",
       "      <th>16</th>\n",
       "      <th>17</th>\n",
       "      <th>18</th>\n",
       "      <th>19</th>\n",
       "    </tr>\n",
       "  </thead>\n",
       "  <tbody>\n",
       "    <tr>\n",
       "      <th>0</th>\n",
       "      <td>2445</td>\n",
       "      <td>0</td>\n",
       "      <td>0</td>\n",
       "      <td>0</td>\n",
       "      <td>8</td>\n",
       "      <td>0</td>\n",
       "      <td>0</td>\n",
       "      <td>0</td>\n",
       "      <td>4</td>\n",
       "      <td>0</td>\n",
       "      <td>0</td>\n",
       "      <td>4</td>\n",
       "      <td>0</td>\n",
       "      <td>0</td>\n",
       "      <td>0</td>\n",
       "      <td>0</td>\n",
       "      <td>2</td>\n",
       "      <td>2</td>\n",
       "      <td>0</td>\n",
       "      <td>535</td>\n",
       "    </tr>\n",
       "    <tr>\n",
       "      <th>1</th>\n",
       "      <td>0</td>\n",
       "      <td>2859</td>\n",
       "      <td>24</td>\n",
       "      <td>23</td>\n",
       "      <td>4</td>\n",
       "      <td>47</td>\n",
       "      <td>3</td>\n",
       "      <td>0</td>\n",
       "      <td>1</td>\n",
       "      <td>0</td>\n",
       "      <td>0</td>\n",
       "      <td>0</td>\n",
       "      <td>4</td>\n",
       "      <td>29</td>\n",
       "      <td>5</td>\n",
       "      <td>0</td>\n",
       "      <td>0</td>\n",
       "      <td>0</td>\n",
       "      <td>1</td>\n",
       "      <td>0</td>\n",
       "    </tr>\n",
       "    <tr>\n",
       "      <th>2</th>\n",
       "      <td>0</td>\n",
       "      <td>27</td>\n",
       "      <td>2912</td>\n",
       "      <td>26</td>\n",
       "      <td>0</td>\n",
       "      <td>23</td>\n",
       "      <td>2</td>\n",
       "      <td>0</td>\n",
       "      <td>0</td>\n",
       "      <td>0</td>\n",
       "      <td>0</td>\n",
       "      <td>0</td>\n",
       "      <td>0</td>\n",
       "      <td>6</td>\n",
       "      <td>4</td>\n",
       "      <td>0</td>\n",
       "      <td>0</td>\n",
       "      <td>0</td>\n",
       "      <td>0</td>\n",
       "      <td>0</td>\n",
       "    </tr>\n",
       "    <tr>\n",
       "      <th>3</th>\n",
       "      <td>0</td>\n",
       "      <td>16</td>\n",
       "      <td>21</td>\n",
       "      <td>2900</td>\n",
       "      <td>27</td>\n",
       "      <td>20</td>\n",
       "      <td>6</td>\n",
       "      <td>0</td>\n",
       "      <td>0</td>\n",
       "      <td>0</td>\n",
       "      <td>0</td>\n",
       "      <td>0</td>\n",
       "      <td>6</td>\n",
       "      <td>0</td>\n",
       "      <td>4</td>\n",
       "      <td>0</td>\n",
       "      <td>0</td>\n",
       "      <td>0</td>\n",
       "      <td>0</td>\n",
       "      <td>0</td>\n",
       "    </tr>\n",
       "    <tr>\n",
       "      <th>4</th>\n",
       "      <td>0</td>\n",
       "      <td>10</td>\n",
       "      <td>0</td>\n",
       "      <td>49</td>\n",
       "      <td>2926</td>\n",
       "      <td>0</td>\n",
       "      <td>8</td>\n",
       "      <td>1</td>\n",
       "      <td>0</td>\n",
       "      <td>0</td>\n",
       "      <td>0</td>\n",
       "      <td>0</td>\n",
       "      <td>5</td>\n",
       "      <td>1</td>\n",
       "      <td>0</td>\n",
       "      <td>0</td>\n",
       "      <td>0</td>\n",
       "      <td>0</td>\n",
       "      <td>0</td>\n",
       "      <td>0</td>\n",
       "    </tr>\n",
       "    <tr>\n",
       "      <th>5</th>\n",
       "      <td>0</td>\n",
       "      <td>70</td>\n",
       "      <td>108</td>\n",
       "      <td>38</td>\n",
       "      <td>0</td>\n",
       "      <td>2759</td>\n",
       "      <td>3</td>\n",
       "      <td>0</td>\n",
       "      <td>1</td>\n",
       "      <td>0</td>\n",
       "      <td>0</td>\n",
       "      <td>1</td>\n",
       "      <td>5</td>\n",
       "      <td>9</td>\n",
       "      <td>6</td>\n",
       "      <td>0</td>\n",
       "      <td>0</td>\n",
       "      <td>0</td>\n",
       "      <td>0</td>\n",
       "      <td>0</td>\n",
       "    </tr>\n",
       "    <tr>\n",
       "      <th>6</th>\n",
       "      <td>0</td>\n",
       "      <td>9</td>\n",
       "      <td>2</td>\n",
       "      <td>17</td>\n",
       "      <td>11</td>\n",
       "      <td>0</td>\n",
       "      <td>2934</td>\n",
       "      <td>9</td>\n",
       "      <td>10</td>\n",
       "      <td>1</td>\n",
       "      <td>0</td>\n",
       "      <td>0</td>\n",
       "      <td>7</td>\n",
       "      <td>0</td>\n",
       "      <td>0</td>\n",
       "      <td>0</td>\n",
       "      <td>0</td>\n",
       "      <td>0</td>\n",
       "      <td>0</td>\n",
       "      <td>0</td>\n",
       "    </tr>\n",
       "    <tr>\n",
       "      <th>7</th>\n",
       "      <td>0</td>\n",
       "      <td>0</td>\n",
       "      <td>2</td>\n",
       "      <td>0</td>\n",
       "      <td>0</td>\n",
       "      <td>0</td>\n",
       "      <td>10</td>\n",
       "      <td>2966</td>\n",
       "      <td>4</td>\n",
       "      <td>2</td>\n",
       "      <td>0</td>\n",
       "      <td>0</td>\n",
       "      <td>16</td>\n",
       "      <td>0</td>\n",
       "      <td>0</td>\n",
       "      <td>0</td>\n",
       "      <td>0</td>\n",
       "      <td>0</td>\n",
       "      <td>0</td>\n",
       "      <td>0</td>\n",
       "    </tr>\n",
       "    <tr>\n",
       "      <th>8</th>\n",
       "      <td>0</td>\n",
       "      <td>0</td>\n",
       "      <td>0</td>\n",
       "      <td>0</td>\n",
       "      <td>8</td>\n",
       "      <td>0</td>\n",
       "      <td>14</td>\n",
       "      <td>8</td>\n",
       "      <td>2950</td>\n",
       "      <td>8</td>\n",
       "      <td>0</td>\n",
       "      <td>0</td>\n",
       "      <td>0</td>\n",
       "      <td>4</td>\n",
       "      <td>3</td>\n",
       "      <td>0</td>\n",
       "      <td>5</td>\n",
       "      <td>0</td>\n",
       "      <td>0</td>\n",
       "      <td>0</td>\n",
       "    </tr>\n",
       "    <tr>\n",
       "      <th>9</th>\n",
       "      <td>0</td>\n",
       "      <td>0</td>\n",
       "      <td>0</td>\n",
       "      <td>0</td>\n",
       "      <td>0</td>\n",
       "      <td>0</td>\n",
       "      <td>0</td>\n",
       "      <td>0</td>\n",
       "      <td>0</td>\n",
       "      <td>2984</td>\n",
       "      <td>16</td>\n",
       "      <td>0</td>\n",
       "      <td>0</td>\n",
       "      <td>0</td>\n",
       "      <td>0</td>\n",
       "      <td>0</td>\n",
       "      <td>0</td>\n",
       "      <td>0</td>\n",
       "      <td>0</td>\n",
       "      <td>0</td>\n",
       "    </tr>\n",
       "    <tr>\n",
       "      <th>10</th>\n",
       "      <td>0</td>\n",
       "      <td>0</td>\n",
       "      <td>0</td>\n",
       "      <td>0</td>\n",
       "      <td>0</td>\n",
       "      <td>0</td>\n",
       "      <td>0</td>\n",
       "      <td>0</td>\n",
       "      <td>0</td>\n",
       "      <td>19</td>\n",
       "      <td>2981</td>\n",
       "      <td>0</td>\n",
       "      <td>0</td>\n",
       "      <td>0</td>\n",
       "      <td>0</td>\n",
       "      <td>0</td>\n",
       "      <td>0</td>\n",
       "      <td>0</td>\n",
       "      <td>0</td>\n",
       "      <td>0</td>\n",
       "    </tr>\n",
       "    <tr>\n",
       "      <th>11</th>\n",
       "      <td>0</td>\n",
       "      <td>4</td>\n",
       "      <td>0</td>\n",
       "      <td>3</td>\n",
       "      <td>6</td>\n",
       "      <td>0</td>\n",
       "      <td>0</td>\n",
       "      <td>0</td>\n",
       "      <td>0</td>\n",
       "      <td>0</td>\n",
       "      <td>0</td>\n",
       "      <td>2966</td>\n",
       "      <td>3</td>\n",
       "      <td>10</td>\n",
       "      <td>2</td>\n",
       "      <td>0</td>\n",
       "      <td>1</td>\n",
       "      <td>0</td>\n",
       "      <td>4</td>\n",
       "      <td>1</td>\n",
       "    </tr>\n",
       "    <tr>\n",
       "      <th>12</th>\n",
       "      <td>0</td>\n",
       "      <td>1</td>\n",
       "      <td>0</td>\n",
       "      <td>4</td>\n",
       "      <td>5</td>\n",
       "      <td>0</td>\n",
       "      <td>11</td>\n",
       "      <td>13</td>\n",
       "      <td>0</td>\n",
       "      <td>0</td>\n",
       "      <td>0</td>\n",
       "      <td>0</td>\n",
       "      <td>2955</td>\n",
       "      <td>9</td>\n",
       "      <td>2</td>\n",
       "      <td>0</td>\n",
       "      <td>0</td>\n",
       "      <td>0</td>\n",
       "      <td>0</td>\n",
       "      <td>0</td>\n",
       "    </tr>\n",
       "    <tr>\n",
       "      <th>13</th>\n",
       "      <td>1</td>\n",
       "      <td>10</td>\n",
       "      <td>3</td>\n",
       "      <td>0</td>\n",
       "      <td>1</td>\n",
       "      <td>1</td>\n",
       "      <td>0</td>\n",
       "      <td>0</td>\n",
       "      <td>1</td>\n",
       "      <td>0</td>\n",
       "      <td>0</td>\n",
       "      <td>2</td>\n",
       "      <td>4</td>\n",
       "      <td>2968</td>\n",
       "      <td>3</td>\n",
       "      <td>0</td>\n",
       "      <td>3</td>\n",
       "      <td>0</td>\n",
       "      <td>2</td>\n",
       "      <td>1</td>\n",
       "    </tr>\n",
       "    <tr>\n",
       "      <th>14</th>\n",
       "      <td>0</td>\n",
       "      <td>4</td>\n",
       "      <td>0</td>\n",
       "      <td>0</td>\n",
       "      <td>0</td>\n",
       "      <td>0</td>\n",
       "      <td>0</td>\n",
       "      <td>0</td>\n",
       "      <td>0</td>\n",
       "      <td>0</td>\n",
       "      <td>0</td>\n",
       "      <td>0</td>\n",
       "      <td>3</td>\n",
       "      <td>9</td>\n",
       "      <td>2976</td>\n",
       "      <td>0</td>\n",
       "      <td>1</td>\n",
       "      <td>0</td>\n",
       "      <td>5</td>\n",
       "      <td>2</td>\n",
       "    </tr>\n",
       "    <tr>\n",
       "      <th>15</th>\n",
       "      <td>8</td>\n",
       "      <td>0</td>\n",
       "      <td>0</td>\n",
       "      <td>0</td>\n",
       "      <td>0</td>\n",
       "      <td>1</td>\n",
       "      <td>0</td>\n",
       "      <td>0</td>\n",
       "      <td>1</td>\n",
       "      <td>0</td>\n",
       "      <td>0</td>\n",
       "      <td>0</td>\n",
       "      <td>0</td>\n",
       "      <td>0</td>\n",
       "      <td>0</td>\n",
       "      <td>2990</td>\n",
       "      <td>0</td>\n",
       "      <td>0</td>\n",
       "      <td>0</td>\n",
       "      <td>0</td>\n",
       "    </tr>\n",
       "    <tr>\n",
       "      <th>16</th>\n",
       "      <td>0</td>\n",
       "      <td>5</td>\n",
       "      <td>0</td>\n",
       "      <td>3</td>\n",
       "      <td>3</td>\n",
       "      <td>0</td>\n",
       "      <td>0</td>\n",
       "      <td>12</td>\n",
       "      <td>13</td>\n",
       "      <td>1</td>\n",
       "      <td>0</td>\n",
       "      <td>6</td>\n",
       "      <td>6</td>\n",
       "      <td>0</td>\n",
       "      <td>0</td>\n",
       "      <td>0</td>\n",
       "      <td>2710</td>\n",
       "      <td>2</td>\n",
       "      <td>176</td>\n",
       "      <td>63</td>\n",
       "    </tr>\n",
       "    <tr>\n",
       "      <th>17</th>\n",
       "      <td>0</td>\n",
       "      <td>0</td>\n",
       "      <td>0</td>\n",
       "      <td>0</td>\n",
       "      <td>0</td>\n",
       "      <td>0</td>\n",
       "      <td>0</td>\n",
       "      <td>0</td>\n",
       "      <td>0</td>\n",
       "      <td>0</td>\n",
       "      <td>0</td>\n",
       "      <td>0</td>\n",
       "      <td>0</td>\n",
       "      <td>0</td>\n",
       "      <td>0</td>\n",
       "      <td>0</td>\n",
       "      <td>11</td>\n",
       "      <td>2902</td>\n",
       "      <td>82</td>\n",
       "      <td>5</td>\n",
       "    </tr>\n",
       "    <tr>\n",
       "      <th>18</th>\n",
       "      <td>0</td>\n",
       "      <td>0</td>\n",
       "      <td>3</td>\n",
       "      <td>0</td>\n",
       "      <td>1</td>\n",
       "      <td>0</td>\n",
       "      <td>0</td>\n",
       "      <td>0</td>\n",
       "      <td>0</td>\n",
       "      <td>1</td>\n",
       "      <td>0</td>\n",
       "      <td>0</td>\n",
       "      <td>0</td>\n",
       "      <td>1</td>\n",
       "      <td>1</td>\n",
       "      <td>0</td>\n",
       "      <td>184</td>\n",
       "      <td>128</td>\n",
       "      <td>2377</td>\n",
       "      <td>304</td>\n",
       "    </tr>\n",
       "    <tr>\n",
       "      <th>19</th>\n",
       "      <td>350</td>\n",
       "      <td>0</td>\n",
       "      <td>0</td>\n",
       "      <td>0</td>\n",
       "      <td>1</td>\n",
       "      <td>0</td>\n",
       "      <td>0</td>\n",
       "      <td>0</td>\n",
       "      <td>0</td>\n",
       "      <td>0</td>\n",
       "      <td>0</td>\n",
       "      <td>0</td>\n",
       "      <td>0</td>\n",
       "      <td>4</td>\n",
       "      <td>1</td>\n",
       "      <td>0</td>\n",
       "      <td>86</td>\n",
       "      <td>2</td>\n",
       "      <td>189</td>\n",
       "      <td>2367</td>\n",
       "    </tr>\n",
       "  </tbody>\n",
       "</table>\n",
       "</div>"
      ],
      "text/plain": [
       "      0     1     2     3     4     5     6     7     8     9     10    11  \\\n",
       "0   2445     0     0     0     8     0     0     0     4     0     0     4   \n",
       "1      0  2859    24    23     4    47     3     0     1     0     0     0   \n",
       "2      0    27  2912    26     0    23     2     0     0     0     0     0   \n",
       "3      0    16    21  2900    27    20     6     0     0     0     0     0   \n",
       "4      0    10     0    49  2926     0     8     1     0     0     0     0   \n",
       "5      0    70   108    38     0  2759     3     0     1     0     0     1   \n",
       "6      0     9     2    17    11     0  2934     9    10     1     0     0   \n",
       "7      0     0     2     0     0     0    10  2966     4     2     0     0   \n",
       "8      0     0     0     0     8     0    14     8  2950     8     0     0   \n",
       "9      0     0     0     0     0     0     0     0     0  2984    16     0   \n",
       "10     0     0     0     0     0     0     0     0     0    19  2981     0   \n",
       "11     0     4     0     3     6     0     0     0     0     0     0  2966   \n",
       "12     0     1     0     4     5     0    11    13     0     0     0     0   \n",
       "13     1    10     3     0     1     1     0     0     1     0     0     2   \n",
       "14     0     4     0     0     0     0     0     0     0     0     0     0   \n",
       "15     8     0     0     0     0     1     0     0     1     0     0     0   \n",
       "16     0     5     0     3     3     0     0    12    13     1     0     6   \n",
       "17     0     0     0     0     0     0     0     0     0     0     0     0   \n",
       "18     0     0     3     0     1     0     0     0     0     1     0     0   \n",
       "19   350     0     0     0     1     0     0     0     0     0     0     0   \n",
       "\n",
       "      12    13    14    15    16    17    18    19  \n",
       "0      0     0     0     0     2     2     0   535  \n",
       "1      4    29     5     0     0     0     1     0  \n",
       "2      0     6     4     0     0     0     0     0  \n",
       "3      6     0     4     0     0     0     0     0  \n",
       "4      5     1     0     0     0     0     0     0  \n",
       "5      5     9     6     0     0     0     0     0  \n",
       "6      7     0     0     0     0     0     0     0  \n",
       "7     16     0     0     0     0     0     0     0  \n",
       "8      0     4     3     0     5     0     0     0  \n",
       "9      0     0     0     0     0     0     0     0  \n",
       "10     0     0     0     0     0     0     0     0  \n",
       "11     3    10     2     0     1     0     4     1  \n",
       "12  2955     9     2     0     0     0     0     0  \n",
       "13     4  2968     3     0     3     0     2     1  \n",
       "14     3     9  2976     0     1     0     5     2  \n",
       "15     0     0     0  2990     0     0     0     0  \n",
       "16     6     0     0     0  2710     2   176    63  \n",
       "17     0     0     0     0    11  2902    82     5  \n",
       "18     0     1     1     0   184   128  2377   304  \n",
       "19     0     4     1     0    86     2   189  2367  "
      ]
     },
     "execution_count": 165,
     "metadata": {},
     "output_type": "execute_result"
    }
   ],
   "source": [
    "cm"
   ]
  },
  {
   "cell_type": "markdown",
   "metadata": {},
   "source": [
    "Class 0 and Class 19 are easily confused with one another because they are similar topics - \"athesim\" vs \"religion\" - therefore the terms in those classes are likely to be similar.\n",
    "Classes with more unique classes such as class 11 (crypt) are less likely to be confused with others"
   ]
  },
  {
   "cell_type": "markdown",
   "metadata": {},
   "source": [
    "## Q2: Performance vs. # Features Selected"
   ]
  },
  {
   "cell_type": "markdown",
   "metadata": {},
   "source": [
    "#### (a) Write a function featureSizeAC which takes preprocessed data and classifier name as input, and outputs train and test accuracy for each of the feature size settings (k ∈ {10%, 20%, ..., 90%, 100%})."
   ]
  },
  {
   "cell_type": "code",
   "execution_count": 166,
   "metadata": {
    "collapsed": true
   },
   "outputs": [],
   "source": [
    "def featureSizeAC(data, clf, num_run, **params):\n",
    "    \"\"\"\n",
    "    INPUT\n",
    "        data: Dataframe. Pre-processed data\n",
    "        clf: string. Name of the classifier from ['LR', 'SVM', 'NB']\n",
    "        params: string->real. Hyper-parameter of classifier. PS: c=1.0, r=0.01\n",
    "    \n",
    "    OUTPUT\n",
    "        train_mean_fs: list.\n",
    "        train_ci_fs: list.\n",
    "        test_mean_fs: list.\n",
    "        test_ci_fs: list.\n",
    "        \n",
    "    \"\"\"\n",
    "    feature_precentage = np.linspace(0.1, 1, 10, endpoint=True)\n",
    "    ########### your code goes here ###########\n",
    "    \n",
    "\n",
    "    #create features dataframe from data by dropping label and target coloums\n",
    "    features_set = data.drop(['label', 'target'], axis=1)\n",
    "    \n",
    "    #confirm shape of features_set dataframe\n",
    "    #print (features_set.shape)    \n",
    "    \n",
    "    target = data[['target']].as_matrix()\n",
    "\n",
    "    train_scores_fs = []\n",
    "    test_scores_fs = []\n",
    "    temp_train_mean = 0\n",
    "    temp_test_mean = 0\n",
    "    train_mean_fs = []\n",
    "    test_mean_fs = []\n",
    "    temp_train_ci = 0\n",
    "    temp_test_ci = 0\n",
    "    train_ci_fs = []\n",
    "    test_ci_fs = []\n",
    "        \n",
    "\n",
    "    if (clf == 'LR'):\n",
    "        clfFn = LogisticRegression(C=params[\"c\"])\n",
    "    elif (clf == 'NB'):\n",
    "        clfFn = GaussianNB()\n",
    "    else:\n",
    "        return\n",
    "    \n",
    "    #iterate through feature size 10%, 20%, 30%... \n",
    "    for percentage in feature_precentage:\n",
    "        \n",
    "        #select a random sample of x% of features from features data frame, where x = percentage \n",
    "        #reference: https://pandas.pydata.org/pandas-docs/stable/generated/pandas.DataFrame.sample.html\n",
    "        features = features_set.sample(axis=1, frac=percentage, replace=False).as_matrix() \n",
    "        \n",
    "        train_scores_fs = []\n",
    "        test_scores_fs =[]\n",
    "        \n",
    "        #run num_run trials for the selected feature size\n",
    "        for i in range(num_run):\n",
    "            # x_train,      x_test,        y_train,      y_test\n",
    "            features_train, features_test, target_train, target_test = train_test_split(features, target, stratify=target, test_size=0.3)\n",
    "            # train the features and target datasets and fit to a model\n",
    "            clfModel = clfFn.fit(features_train, target_train)\n",
    "\n",
    "            # predict target with feature test set using trained model\n",
    "            target_pred = clfModel.predict(features_test)\n",
    "\n",
    "            # predict target with feature train test set using trained model\n",
    "            feature_pred = clfModel.predict(features_train)\n",
    "        \n",
    "            #build an array conatining test and training scores for each run of the selected sample size\n",
    "            train_scores_fs.append(metrics.accuracy_score(target_train, feature_pred))\n",
    "            test_scores_fs.append(metrics.accuracy_score(target_test, target_pred))\n",
    "        \n",
    "        \n",
    "        temp_train_mean = np.mean(train_scores_fs)\n",
    "        temp_test_mean = np.mean(test_scores_fs)\n",
    "        \n",
    "        train_mean_fs.append(temp_train_mean)\n",
    "        test_mean_fs.append(temp_test_mean)\n",
    "        \n",
    "        temp_train_ci = st.t.interval(0.95, len(train_scores_fs)-1, loc=temp_train_mean, scale = st.sem(train_scores_fs))\n",
    "        temp_test_ci = st.t.interval(0.95, len(test_scores_fs)-1, loc=temp_test_mean, scale = st.sem(test_scores_fs))\n",
    "        \n",
    "        train_ci_fs.append(temp_train_mean - temp_train_ci[0])\n",
    "        test_ci_fs.append(temp_test_mean - temp_test_ci[0])    \n",
    "    \n",
    "    \n",
    "    ###########         end         ###########\n",
    "    return train_mean_fs, train_ci_fs, test_mean_fs, test_ci_fs"
   ]
  },
  {
   "cell_type": "code",
   "execution_count": 167,
   "metadata": {},
   "outputs": [
    {
     "name": "stderr",
     "output_type": "stream",
     "text": [
      "/Users/shagun/anaconda/lib/python3.6/site-packages/sklearn/utils/validation.py:526: DataConversionWarning: A column-vector y was passed when a 1d array was expected. Please change the shape of y to (n_samples, ), for example using ravel().\n",
      "  y = column_or_1d(y, warn=True)\n"
     ]
    }
   ],
   "source": [
    "train_mean_fs, train_ci_fs, test_mean_fs, test_ci_fs = featureSizeAC(data, 'LR', 10, c=1.0, r=0.7)"
   ]
  },
  {
   "cell_type": "markdown",
   "metadata": {},
   "source": [
    "#### (b) use your code to produce a plot with the train accuracy (blue) and test accuracy (red) as a function of the number of features selected (10%, 20%, ..., 90%, 100%). Explain any trends you see (average over multiple trials if trends are not clear)."
   ]
  },
  {
   "cell_type": "code",
   "execution_count": 168,
   "metadata": {
    "collapsed": true
   },
   "outputs": [],
   "source": [
    "def featureSizePlot(feature_size, train_mean_fs, train_ci_fs, test_mean_fs, test_ci_fs):\n",
    "    # First illustrate basic pyplot interface, using defaults where possible.\n",
    "    plt.figure()\n",
    "    test_curve=plt.errorbar(feature_size, test_mean_fs, color=sns.xkcd_rgb[\"pale red\"], yerr=test_ci_fs)\n",
    "    train_curve=plt.errorbar(feature_size, train_mean_fs,color=sns.xkcd_rgb[\"denim blue\"], yerr=train_ci_fs)\n",
    "    plt.legend([test_curve, train_curve], ['Test', 'Train'])\n",
    "    plt.xlabel('Feature Percentage')\n",
    "    plt.ylabel('Accuracy')\n",
    "    plt.title(\"Accuracy vs Feature Size\")\n",
    "    plt.show()"
   ]
  },
  {
   "cell_type": "code",
   "execution_count": 196,
   "metadata": {},
   "outputs": [
    {
     "data": {
      "image/png": "[encoded data removed]",
      "text/plain": [
       "<matplotlib.figure.Figure at 0x129821080>"
      ]
     },
     "metadata": {},
     "output_type": "display_data"
    }
   ],
   "source": [
    "featureSizePlot(np.linspace(0.1, 1, 10, endpoint=True),train_mean_fs, train_ci_fs, test_mean_fs, test_ci_fs )"
   ]
  },
  {
   "cell_type": "markdown",
   "metadata": {},
   "source": [
    "Accuracy increaes are more features are used. This makes sense given that initial k features were picked for maximum accuracy - fewer features = lesser distrciminating power."
   ]
  },
  {
   "cell_type": "markdown",
   "metadata": {},
   "source": [
    "### Q3: Hyperparameter Tuning"
   ]
  },
  {
   "cell_type": "markdown",
   "metadata": {},
   "source": [
    "#### a) Write a function hyperparameterAC which takes preprocessed data and a classifier name as input, and outputs train and test accuracy for each of the hyperparameter settings (C ∈ {10−4, 10−3, ..., 100,... 103, 104})."
   ]
  },
  {
   "cell_type": "code",
   "execution_count": 199,
   "metadata": {
    "collapsed": true
   },
   "outputs": [],
   "source": [
    "def hyperParameterAC(data, clf, num_run):\n",
    "    \"\"\"\n",
    "    INPUT\n",
    "        data: Dataframe. Pre-processed data\n",
    "        clf: string. Name of the classifier from ['LR', 'SVM', 'NB']\n",
    "    \n",
    "    OUTPUT\n",
    "        test_mean_hp: list.  mean accuracy list of test\n",
    "        test_ci_hp: list. confidence interval list of test\n",
    "        train_mean_hp: list. mean accuracy list of train\n",
    "        train_ci_hp: list. confidence interval list of train\n",
    "        \n",
    "    NOTE \n",
    "        randomSplitCI could be the sub-route of this function\n",
    "    \"\"\"\n",
    "    params = np.logspace(-4, 4, num=9)\n",
    "    \n",
    "    ########### your code goes here ###########\n",
    "\n",
    "    #create features array from data, also drop label and target coloums\n",
    "    features = data.drop(['label', 'target'], axis=1).as_matrix()\n",
    "\n",
    "    target = data[['target']].as_matrix()\n",
    "\n",
    "    train_scores_hp = []\n",
    "    test_scores_hp = []\n",
    "    temp_train_mean = 0\n",
    "    temp_test_mean = 0\n",
    "    train_mean_hp = []\n",
    "    test_mean_hp = []\n",
    "    temp_train_ci = 0\n",
    "    temp_test_ci = 0\n",
    "    train_ci_hp = []\n",
    "    test_ci_hp = []\n",
    "        \n",
    "\n",
    "    if (clf != 'LR'):\n",
    "        return\n",
    "    \n",
    "    #iterate through each hyperparameter setting \n",
    "    for c in params:\n",
    "        clfFn = LogisticRegression(C=c)\n",
    "        \n",
    "        train_scores_hp = []\n",
    "        test_scores_hp =[]\n",
    "                \n",
    "        for i in range(num_run):\n",
    "            # x_train,      x_test,        y_train,      y_test\n",
    "            features_train, features_test, target_train, target_test = train_test_split(features, target, stratify=target, test_size=0.3)\n",
    "            # train the features and target datasets and fit to a model\n",
    "            clfModel = clfFn.fit(features_train, target_train)\n",
    "\n",
    "            # predict target with feature test set using trained model\n",
    "            target_pred = clfModel.predict(features_test)\n",
    "\n",
    "            # predict target with feature train test set using trained model\n",
    "            feature_pred = clfModel.predict(features_train)\n",
    "        \n",
    "            train_scores_hp.append(metrics.accuracy_score(target_train, feature_pred))\n",
    "            test_scores_hp.append(metrics.accuracy_score(target_test, target_pred))\n",
    "        \n",
    "        temp_train_mean = np.mean(train_scores_hp)\n",
    "        temp_test_mean = np.mean(test_scores_hp)\n",
    "        \n",
    "        train_mean_hp.append(temp_train_mean)\n",
    "        test_mean_hp.append(temp_test_mean)\n",
    "                \n",
    "        temp_train_ci = st.t.interval(0.95, len(train_scores_hp)-1, loc=temp_train_mean, scale = st.sem(train_scores_hp))\n",
    "        temp_test_ci = st.t.interval(0.95, len(test_scores_hp)-1, loc=temp_test_mean, scale = st.sem(test_scores_hp))\n",
    "        \n",
    "        train_ci_hp.append(temp_train_mean - temp_train_ci[0])\n",
    "        test_ci_hp.append(temp_test_mean - temp_test_ci[0])\n",
    "    \n",
    "    \n",
    "    \n",
    "    \n",
    "    ###########         end         ###########\n",
    "    return train_mean_hp, train_ci_hp, test_mean_hp, test_ci_hp"
   ]
  },
  {
   "cell_type": "code",
   "execution_count": 200,
   "metadata": {},
   "outputs": [
    {
     "name": "stderr",
     "output_type": "stream",
     "text": [
      "/Users/shagun/anaconda/lib/python3.6/site-packages/sklearn/utils/validation.py:526: DataConversionWarning: A column-vector y was passed when a 1d array was expected. Please change the shape of y to (n_samples, ), for example using ravel().\n",
      "  y = column_or_1d(y, warn=True)\n"
     ]
    }
   ],
   "source": [
    "train_mean_hp, train_ci_hp, test_mean_hp, test_ci_hp = hyperParameterAC(data, 'LR', 5)"
   ]
  },
  {
   "cell_type": "markdown",
   "metadata": {},
   "source": [
    "#### b) Now that you’ve implemented hyperparameterAC, use the code following it to plot train accuracy (blue) and test accuracy (red) as a function of the hyperparameter setting (10−4, 10−3, ..., 100,... 103, 104). Use a logarithmic x-axis. Explain any trends you see (average over multiple trials if trends are not clear). "
   ]
  },
  {
   "cell_type": "code",
   "execution_count": 201,
   "metadata": {
    "collapsed": true
   },
   "outputs": [],
   "source": [
    "def hyperParameterPlot(params, train_mean_hp, train_ci_hp, test_mean_hp, test_ci_hp):\n",
    "    # First illustrate basic pyplot interface, using defaults where possible.\n",
    "    plt.figure()\n",
    "    test_curve=plt.errorbar(params, test_mean_hp, color=sns.xkcd_rgb[\"pale red\"], yerr=test_ci_hp)\n",
    "    train_curve=plt.errorbar(params, train_mean_hp,color=sns.xkcd_rgb[\"denim blue\"], yerr=train_ci_hp)\n",
    "    plt.legend([test_curve, train_curve], ['Test', 'Train'])\n",
    "    plt.xlabel('Parameter')\n",
    "    plt.xscale(\"log\")\n",
    "    plt.ylabel('Accuracy')\n",
    "    plt.title(\"Accuracy vs Parameters\")\n",
    "    plt.show()"
   ]
  },
  {
   "cell_type": "code",
   "execution_count": 202,
   "metadata": {},
   "outputs": [
    {
     "data": {
      "image/png": "[encoded data removed]",
      "text/plain": [
       "<matplotlib.figure.Figure at 0x1296ef128>"
      ]
     },
     "metadata": {},
     "output_type": "display_data"
    }
   ],
   "source": [
    "hyperParameterPlot(np.logspace(-4, 4, num=9),train_mean_hp, train_ci_hp, test_mean_hp, test_ci_hp )"
   ]
  },
  {
   "cell_type": "markdown",
   "metadata": {},
   "source": [
    "C is inverse regularization strength - smaller values specify stronger regularization.\n",
    "If regularlization is too strong (small hyperparameter value) accuracy decreases because model is not able to fit data. If regularization is too weak, the model will overfit the data - as a result, training data will perform well but test data will not."
   ]
  },
  {
   "cell_type": "markdown",
   "metadata": {},
   "source": [
    "## Q4"
   ]
  },
  {
   "cell_type": "markdown",
   "metadata": {},
   "source": [
    "#### (a) Write a function dataSizeAC which takes preprocessed data and classifier name as input, and outputs train and test accuracy for each of the training data size settings (size ∈ {10%, 20%, ..., 90%, 100%})."
   ]
  },
  {
   "cell_type": "code",
   "execution_count": 203,
   "metadata": {
    "collapsed": true
   },
   "outputs": [],
   "source": [
    "def dataSizeAC(data, clf, num_run):\n",
    "    \"\"\"\n",
    "    INPUT\n",
    "        data: Dataframe. Pre-processed data\n",
    "        clf: string. Name of the classifier from ['LR', 'SVM', 'NB']\n",
    "        params: string->real. Hyper-parameter of classifier. PS: c=1.0, r=0.01\n",
    "    \n",
    "    OUTPUT\n",
    "        test_mean_ds: list.  mean accuracy list of test\n",
    "        test_ci_ds: list. confidence interval list of test\n",
    "        train_mean_ds: list. mean accuracy list of train\n",
    "        train_ci_ds: list. confidence interval list of train\n",
    "        \n",
    "        \n",
    "        \n",
    "    NOTE \n",
    "        randomSplitCI could be the sub-route of this function\n",
    "    \"\"\"\n",
    "    data_precentage = np.linspace(0.1, 1, 10, endpoint=True)\n",
    "    \n",
    "    ########### your code goes here ###########\n",
    "\n",
    "    #create features array from data, also drop label and target coloums\n",
    "    features = data.drop(['label', 'target'], axis=1).as_matrix()\n",
    "\n",
    "    target = data[['target']].as_matrix()\n",
    "    \n",
    "    if (clf == 'LR'):\n",
    "        clfFn = LogisticRegression()\n",
    "    elif (clf == 'NB'):\n",
    "        clfFn = GaussianNB()\n",
    "    else:\n",
    "        return\n",
    "    \n",
    "    temp_train_scores = []\n",
    "    temp_test_scores = []\n",
    "    train_scores_ds = np.empty((0, 10))\n",
    "    test_scores_ds = np.empty((0, 10))\n",
    "    temp_train_mean = []\n",
    "    temp_test_mean = []\n",
    "    train_mean_ds = []\n",
    "    test_mean_ds = []\n",
    "    temp_train_ci = 0\n",
    "    temp_test_ci = 0\n",
    "    train_ci_ds = []\n",
    "    test_ci_ds = []\n",
    "    \n",
    "    for i in range(num_run):\n",
    "        \n",
    "        # x_train,            x_test,        y_train,            y_test\n",
    "        features_train_trial, features_test, target_train_trial, target_test = train_test_split(features, target, stratify=target, test_size=0.3)\n",
    "        \n",
    "        #print ('trial', i)\n",
    "        #print ('shape of initial split - training', features_train_trial.shape)\n",
    "        \n",
    "        temp_train_scores = []\n",
    "        temp_test_scores = []\n",
    "        \n",
    "        \n",
    "        for percentage in data_precentage:\n",
    "            if percentage < 1.0:\n",
    "                training_percent =  percentage #.7 *\n",
    "                # x_train,      x_test, y_train,      y_test\n",
    "                features_train, _,      target_train, _ = train_test_split(features_train_trial, target_train_trial, test_size=0.0, train_size = training_percent)\n",
    "            else:\n",
    "                # x_train,      x_test, y_train,      y_test\n",
    "                features_train, _,      target_train, _ = train_test_split(features_train_trial, target_train_trial, test_size=0.0)\n",
    "           \n",
    "            # train the features and target datasets and fit to a model\n",
    "            clfModel = clfFn.fit(features_train, target_train)\n",
    "\n",
    "            # predict target with feature test set using trained model\n",
    "            target_pred = clfModel.predict(features_test)\n",
    "\n",
    "            # predict target with feature train test set using trained model\n",
    "            feature_pred = clfModel.predict(features_train)\n",
    "            \n",
    "            temp_train_scores.append(metrics.accuracy_score(target_train, feature_pred))\n",
    "            temp_test_scores.append(metrics.accuracy_score(target_test, target_pred))\n",
    "        \n",
    "        train_scores_ds = np.append(train_scores_ds, [temp_train_scores], axis=0)\n",
    "        test_scores_ds = np.append(test_scores_ds, [temp_test_scores], axis=0)\n",
    "        #print('train_scores_ds           :, train_scores_ds)\n",
    "    \n",
    "    train_mean_ds = np.mean(train_scores_ds, axis=0).tolist()\n",
    "    test_mean_ds = np.mean(test_scores_ds, axis=0).tolist()\n",
    "    #print ('all mean scores', train_mean_ds)\n",
    "\n",
    "    #ci_train_score = np.transpose(train_scores_ds)\n",
    "    #print (ci_train_score)\n",
    "    #print ('this is row 1', ci_train_score[0,:])\n",
    "    \n",
    "    #ci_train_score = []\n",
    "    #ci_test_score = []\n",
    "    \n",
    "    \n",
    "    \n",
    "\n",
    "    for score in range(10):\n",
    "        ci_train_score = np.transpose(train_scores_ds[:,score])\n",
    "        temp_train_mean = train_mean_ds[score]\n",
    "        temp_train_ci = st.t.interval(0.95, len(ci_train_score)-1, loc=temp_train_mean, scale = st.sem(ci_train_score))\n",
    "        train_ci_ds.append(temp_train_mean - temp_train_ci[0])\n",
    "        \n",
    "    for score in range(10):\n",
    "        ci_test_score = np.transpose(test_scores_ds[:,score])\n",
    "        temp_test_mean = test_mean_ds[score]\n",
    "        temp_test_ci = st.t.interval(0.95, len(ci_test_score)-1, loc=temp_test_mean, scale = st.sem(ci_test_score))\n",
    "        test_ci_ds.append(temp_test_mean - temp_test_ci[0])\n",
    "        \n",
    "\n",
    "    ###########         end         ###########\n",
    "    return train_mean_ds, train_ci_ds, test_mean_ds, test_ci_ds"
   ]
  },
  {
   "cell_type": "code",
   "execution_count": 204,
   "metadata": {},
   "outputs": [
    {
     "name": "stderr",
     "output_type": "stream",
     "text": [
      "/Users/shagun/anaconda/lib/python3.6/site-packages/sklearn/utils/validation.py:526: DataConversionWarning: A column-vector y was passed when a 1d array was expected. Please change the shape of y to (n_samples, ), for example using ravel().\n",
      "  y = column_or_1d(y, warn=True)\n"
     ]
    }
   ],
   "source": [
    "train_mean_ds, train_ci_ds, test_mean_ds, test_ci_ds = dataSizeAC(data, 'LR', 5)"
   ]
  },
  {
   "cell_type": "markdown",
   "metadata": {},
   "source": [
    "#### (b) Now that you’ve implemented dataSizeAC, use the code following it to plot train accuracy (blue) and test accuracy (red) as a function of the amount of train data (10%, 20%, ..., 90%, 100%) while holding the amount of test data fixed. Explain any trends you see."
   ]
  },
  {
   "cell_type": "code",
   "execution_count": 205,
   "metadata": {
    "collapsed": true
   },
   "outputs": [],
   "source": [
    "def dataSizePlot(datasize, train_mean_ds, train_ci_ds, test_mean_ds, test_ci_ds):\n",
    "    # First illustrate basic pyplot interface, using defaults where possible.\n",
    "    plt.figure()\n",
    "    test_curve=plt.errorbar(datasize, test_mean_ds, color=sns.xkcd_rgb[\"pale red\"], yerr=test_ci_ds)\n",
    "    train_curve=plt.errorbar(datasize, train_mean_ds,color=sns.xkcd_rgb[\"denim blue\"], yerr=train_ci_ds)\n",
    "    plt.legend([test_curve, train_curve], ['Test', 'Train'])\n",
    "    plt.xlabel('Data Percentage')\n",
    "    plt.ylabel('Accuracy')\n",
    "    plt.title(\"Accuracy vs Data Percentage\")\n",
    "    plt.show()"
   ]
  },
  {
   "cell_type": "code",
   "execution_count": 206,
   "metadata": {},
   "outputs": [
    {
     "data": {
      "image/png": "[encoded data removed]",
      "text/plain": [
       "<matplotlib.figure.Figure at 0x132720dd8>"
      ]
     },
     "metadata": {},
     "output_type": "display_data"
    }
   ],
   "source": [
    "dataSizePlot(np.linspace(0.1, 1, 10, endpoint=True),train_mean_ds, train_ci_ds, test_mean_ds, test_ci_ds)"
   ]
  },
  {
   "cell_type": "markdown",
   "metadata": {},
   "source": [
    "Data size doesnt affect training data as much since the model is able to fit the data well. However, small data size does not allow the model to generalize well to the test set."
   ]
  },
  {
   "cell_type": "markdown",
   "metadata": {},
   "source": [
    "## Q5: Performance vs. Feature Encoding"
   ]
  },
  {
   "cell_type": "markdown",
   "metadata": {},
   "source": [
    "#### (a) Show the vectors representing the binary and TF encodings of one of the data files."
   ]
  },
  {
   "cell_type": "code",
   "execution_count": 207,
   "metadata": {},
   "outputs": [
    {
     "name": "stdout",
     "output_type": "stream",
     "text": [
      "File: 20_newsgroups/alt.atheism/51060\n"
     ]
    },
    {
     "data": {
      "text/plain": [
       "array([ 0,  1,  0,  0,  1,  6, 10,  0,  0,  0,  0,  6, 49,  0,  0,  0,  0,\n",
       "        0, 25,  0,  0,  0,  2,  0,  0,  2,  0,  0,  4,  0,  1,  0,  4,  2,\n",
       "        0,  1,  0,  0,  0,  2,  1,  0,  0,  0,  1,  0,  0,  0,  0,  0,  0,\n",
       "        5,  0,  0,  0, 18,  3,  6,  4,  5,  0,  1,  0,  0,  0,  0,  2,  0,\n",
       "        0,  1,  1,  0,  0,  0,  0,  0,  0,  1,  0,  7,  0,  3,  0,  0,  0,\n",
       "        5,  0,  0,  1,  0, 11,  0,  0,  1,  0,  0, 26,  5, 19,  0,  0,  0,\n",
       "        0,  0,  6,  0,  1,  0,  8,  7,  0, 14,  1,  0,  3,  0,  0, 17,  0,\n",
       "        0,  0, 21,  8,  0,  0,  1,  0,  2,  0,  2,  1,  0,  0,  2,  0,  1,\n",
       "        0, 23, 42,  0,  1,  0,  0,  0,  0, 11,  0,  4,  0,  0,  6,  0,  0,\n",
       "        1,  0,  2,  5,  0,  0,  0,  0,  0,  0,  0,  3,  9,  0,  0,  0,  0,\n",
       "        1,  0,  2,  4,  2,  0, 10,  5,  0,  0,  0,  1,  0,  6,  0,  0,  0,\n",
       "        0,  5,  2,  0,  0,  0,  0,  3,  5,  7,  0,  0,  2])"
      ]
     },
     "execution_count": 207,
     "metadata": {},
     "output_type": "execute_result"
    }
   ],
   "source": [
    "#data.loc[1]\n",
    "#print('ss')\n",
    "\n",
    "print('File:', data.loc[1]['label'])\n",
    "data.drop(['label', 'target'], axis=1).loc[1].as_matrix()\n"
   ]
  },
  {
   "cell_type": "code",
   "execution_count": 208,
   "metadata": {},
   "outputs": [
    {
     "name": "stdout",
     "output_type": "stream",
     "text": [
      "File: 20_newsgroups/alt.atheism/51060\n",
      "[0 1 0 0 1 1 1 0 0 0 0 1 1 0 0 0 0 0 1 0 0 0 1 0 0 1 0 0 1 0 1 0 1 1 0 1 0\n",
      " 0 0 1 1 0 0 0 1 0 0 0 0 0 0 1 0 0 0 1 1 1 1 1 0 1 0 0 0 0 1 0 0 1 1 0 0 0\n",
      " 0 0 0 1 0 1 0 1 0 0 0 1 0 0 1 0 1 0 0 1 0 0 1 1 1 0 0 0 0 0 1 0 1 0 1 1 0\n",
      " 1 1 0 1 0 0 1 0 0 0 1 1 0 0 1 0 1 0 1 1 0 0 1 0 1 0 1 1 0 1 0 0 0 0 1 0 1\n",
      " 0 0 1 0 0 1 0 1 1 0 0 0 0 0 0 0 1 1 0 0 0 0 1 0 1 1 1 0 1 1 0 0 0 1 0 1 0\n",
      " 0 0 0 1 1 0 0 0 0 1 1 1 0 0 1]\n"
     ]
    }
   ],
   "source": [
    "\n",
    "print('File:', data.loc[1]['label'])\n",
    "features_mod = data.drop(['label', 'target'], axis=1).loc[1].as_matrix()\n",
    "\n",
    "for i in range(len(features_mod)):\n",
    "    features_mod[i] = 1 if features_mod[i] > 0 else 0\n",
    "        \n",
    "print(features_mod)\n",
    "\n",
    "       "
   ]
  },
  {
   "cell_type": "markdown",
   "metadata": {},
   "source": [
    "#### (b) Run enough trials to obtain non-overlapping 95% CIs on the average accuracy of each feature encoding method (binary and TF). Which feature encoding method performs better on this dataset? Why do you think this occurs? "
   ]
  },
  {
   "cell_type": "markdown",
   "metadata": {},
   "source": [
    "You should be able to get this answer easily by running dataPreprocessor fuction and randomSplitCI function"
   ]
  },
  {
   "cell_type": "markdown",
   "metadata": {
    "collapsed": true
   },
   "source": [
    "TF does a lot better than Boolean encoding. This makes sense as it weights more frequent terms (likely to have more discriminating power) more highly.\n",
    "\n",
    "\n",
    "For TF\n",
    "Train    \n",
    "Result of trails:[0.96892191183825105, 0.97006501393155675, 0.96970779452739875, 0.97056512109737803, 0.9691362434807459, 0.97020790169322002, 0.96992212616989359, 0.96970779452739875, 0.97085089662070445, 0.96935057512324074]     \n",
    "Average Accuracy: 0.9698435379009787     \n",
    "Confidence Interval: 0.0004366326298835821\n",
    "\n",
    "Test    \n",
    "Result of trails:[0.95350000000000001, 0.94783333333333331, 0.95083333333333331, 0.94950000000000001, 0.95399999999999996, 0.94933333333333336, 0.95299999999999996, 0.95233333333333337, 0.94799999999999995, 0.95133333333333336]     \n",
    "Average Accuracy: 0.9509666666666667     \n",
    "Confidence Interval: 0.0016033343964252378\n",
    "\n",
    "BLN\n",
    "Train    \n",
    "Result of trails:[0.96527827391583909, 0.96434950346502823, 0.96520683003500751, 0.96384939629920696, 0.96484961063084951, 0.96277773808673284, 0.96420661570336497, 0.96320640137172253, 0.96320640137172253, 0.96313495749089095]     \n",
    "Average Accuracy: 0.9640065728370365     \n",
    "Confidence Interval: 0.0006530796155977958\n",
    "\n",
    "Test    \n",
    "Result of trails:[0.94733333333333336, 0.94933333333333336, 0.94416666666666671, 0.94316666666666671, 0.94699999999999995, 0.94850000000000001, 0.94833333333333336, 0.94516666666666671, 0.94550000000000001, 0.94899999999999995]     \n",
    "Average Accuracy: 0.94675     \n",
    "Confidence Interval: 0.001532260922333717"
   ]
  },
  {
   "cell_type": "markdown",
   "metadata": {},
   "source": [
    "## Q6: Comparison vs. Naive Bayes"
   ]
  },
  {
   "cell_type": "markdown",
   "metadata": {},
   "source": [
    "#### (a) Run enough trials to obtain non-overlapping 95% CIs on the average accuracy of logistic regression vs. Naive Bayes classifiers.  Which classification algorithm performs better on this dataset? Why do you think this occurs?"
   ]
  },
  {
   "cell_type": "markdown",
   "metadata": {
    "collapsed": true
   },
   "source": [
    "LR does better than NB. Logistic Regression directly estimates the parameters of P(Y|X) (discriminative classifier) whereas Naive Bayes directly estimates parameters for P(Y) and P(X|Y) (generative).\n",
    "\n",
    "Logistic Regression is a linear classifier over X. The linear classifiers produced by Logistic Regression and Gaussian Naive Bayes are identical provided the Naive Bayes assumptions hold. However, if these assumptions do not hold, the Naive Bayes bias will cause it to perform less accurately than LR, in the limit. Put another way, Naive Bayes is a learning algorithm with greater bias, but lower variance, than Logistic Regression. If this bias is appropriate given the actual data, Naive Bayes will be preferred. Otherwise, Logistic Regression will be preferred.\n",
    "\n",
    "### LR\n",
    "**Train**    \n",
    "- Result of trails:[0.96527827391583909, 0.96434950346502823, 0.96520683003500751, 0.96384939629920696, 0.96484961063084951, 0.96277773808673284, 0.96420661570336497, 0.96320640137172253, 0.96320640137172253, 0.96313495749089095]     \n",
    "- Average Accuracy: 0.9640065728370365     \n",
    "- Confidence Interval: 0.0006530796155977958\n",
    "\n",
    "**Test**    \n",
    "- Result of trails:[0.94733333333333336, 0.94933333333333336, 0.94416666666666671, 0.94316666666666671, 0.94699999999999995, 0.94850000000000001, 0.94833333333333336, 0.94516666666666671, 0.94550000000000001, 0.94899999999999995]     \n",
    "- Average Accuracy: 0.94675     \n",
    "- Confidence Interval: 0.001532260922333717\n",
    "\n",
    "\n",
    "### NB\n",
    "**Train**    \n",
    "- Result of trails:[0.59191255268986209, 0.60398656855040367, 0.57748088876187753, 0.56726441380295778, 0.56554976066299922, 0.58712581267414443, 0.58598271058083873, 0.58784025148246055, 0.5671929699221262, 0.55740515824819603]     \n",
    "- Average Accuracy: 0.5791741087375866     \n",
    "- Confidence Interval: 0.010422248985307192\n",
    "\n",
    "**Test**    \n",
    "- Result of trails:[0.5665, 0.5718333333333333, 0.55000000000000004, 0.54149999999999998, 0.54216666666666669, 0.5658333333333333, 0.55233333333333334, 0.55649999999999999, 0.53766666666666663, 0.52449999999999997]     \n",
    "- Average Accuracy: 0.5508833333333334     \n",
    "- Confidence Interval: 0.010598400861842161\n",
    "\n",
    "\n"
   ]
  },
  {
   "cell_type": "markdown",
   "metadata": {},
   "source": [
    "## Support functions"
   ]
  },
  {
   "cell_type": "code",
   "execution_count": 14,
   "metadata": {
    "collapsed": true
   },
   "outputs": [],
   "source": [
    "def getFilesDirectory(datapath='20_newsgroups'):\n",
    "    # create file directory for all files\n",
    "    files = []\n",
    "    for (path, dirnames, filenames) in os.walk(datapath):\n",
    "        files.extend(os.path.join(path, name) for name in filenames)\n",
    "    # putting file directories into pandas dataframe\n",
    "    directorydf= pd.DataFrame(files)\n",
    "    directorydf.columns = ['Directories']\n",
    "    return directorydf"
   ]
  },
  {
   "cell_type": "code",
   "execution_count": 15,
   "metadata": {
    "collapsed": true
   },
   "outputs": [],
   "source": [
    "directorydf = getFilesDirectory()"
   ]
  },
  {
   "cell_type": "code",
   "execution_count": 16,
   "metadata": {
    "collapsed": true
   },
   "outputs": [],
   "source": [
    "# create function to help encoding the targets\n",
    "def label_target (d):\n",
    "    if d.find(\"alt.atheism\") > 0 :\n",
    "      return 0\n",
    "    if d.find(\"comp.graphics\") > 0:\n",
    "      return 1\n",
    "    if d.find(\"comp.os.ms-windows.misc\") > 0:\n",
    "      return 2\n",
    "    if d.find(\"comp.sys.ibm.pc.hardware\") > 0:\n",
    "      return 3\n",
    "    if d.find(\"comp.sys.mac.hardware\") > 0:\n",
    "      return 4\n",
    "    if d.find(\"comp.windows.x\") > 0:\n",
    "      return 5\n",
    "    if d.find(\"misc.forsale\") > 0:\n",
    "      return 6\n",
    "    if d.find(\"rec.autos\") > 0:\n",
    "      return 7\n",
    "    if d.find(\"rec.motorcycles\") > 0:\n",
    "      return 8\n",
    "    if d.find(\"rec.sport.baseball\") > 0:\n",
    "      return 9\n",
    "    if d.find(\"rec.sport.hockey\") > 0:\n",
    "      return 10\n",
    "    if d.find(\"sci.crypt\") > 0:\n",
    "      return 11\n",
    "    if d.find(\"sci.electronics\") > 0:\n",
    "      return 12\n",
    "    if d.find(\"sci.med\") > 0:\n",
    "      return 13\n",
    "    if d.find(\"sci.space\") > 0:\n",
    "      return 14\n",
    "    if d.find(\"soc.religion.christian\") > 0:\n",
    "      return 15\n",
    "    if d.find(\"talk.politics.guns\") > 0:\n",
    "      return 16\n",
    "    if d.find(\"talk.politics.mideast\") > 0:\n",
    "      return 17\n",
    "    if d.find(\"talk.politics.misc\") > 0:\n",
    "      return 18\n",
    "    if d.find(\"talk.religion.misc\") > 0:\n",
    "      return 19\n",
    "    return 'Other'"
   ]
  },
  {
   "cell_type": "markdown",
   "metadata": {},
   "source": [
    "### Code Validation"
   ]
  },
  {
   "cell_type": "code",
   "execution_count": null,
   "metadata": {
    "collapsed": true
   },
   "outputs": [],
   "source": [
    "# dataPreprocessor\n",
    "assert(isinstance(data, pd.DataFrame)), \"data should be pandas dataframe type\""
   ]
  },
  {
   "cell_type": "code",
   "execution_count": null,
   "metadata": {
    "collapsed": true
   },
   "outputs": [],
   "source": [
    "#randomSplitCI\n",
    "assert(isinstance(train_scores, list)), \"train_scores should be list type\"\n",
    "assert(isinstance(test_scores, list)), \"test_scores should be list type\"\n",
    "assert(isinstance(train_mean, float)), \"train_mean should be float type\"\n",
    "assert(isinstance(test_mean, float)), \"test_mean should be float type\"\n",
    "assert(isinstance(train_ci, float)), \"train_ci should be float type\"\n",
    "assert(isinstance(test_ci, float)), \"test_ci should be float type\""
   ]
  },
  {
   "cell_type": "code",
   "execution_count": null,
   "metadata": {
    "collapsed": true
   },
   "outputs": [],
   "source": [
    "#randomSplitCM\n",
    "assert(isinstance(cm, pd.DataFrame)), \"Confusion matrix should be pandas dataframe type\""
   ]
  },
  {
   "cell_type": "code",
   "execution_count": null,
   "metadata": {
    "collapsed": true
   },
   "outputs": [],
   "source": [
    "#featureSizeAC\n",
    "assert(isinstance(train_mean_fs, list)), \"train_mean_fs should be list type\"\n",
    "assert(isinstance(test_mean_fs, list)), \"test_mean_fs should be list type\"\n",
    "assert(isinstance(train_ci_fs, list)), \"train_ci_fs should be list type\"\n",
    "assert(isinstance(test_ci_fs, list)), \"test_ci_fs should be list type\"\n",
    "assert(len(train_mean_fs)==len(train_ci_fs)), \\\n",
    "\"list length of mean and confidence interval are not equal(train)\"\n",
    "assert(len(test_mean_fs)==len(test_ci_fs)), \\\n",
    "\"list length of mean and confidence interval are not equal(test)\""
   ]
  },
  {
   "cell_type": "code",
   "execution_count": null,
   "metadata": {
    "collapsed": true
   },
   "outputs": [],
   "source": [
    "#hyperParameterAC\n",
    "assert(isinstance(train_mean_hp, list)), \"train_mean_hp should be list type\"\n",
    "assert(isinstance(test_mean_hp, list)), \"test_mean_hp should be list type\"\n",
    "assert(isinstance(train_ci_hp, list)), \"train_ci_hp should be list type\"\n",
    "assert(isinstance(test_ci_hp, list)), \"test_ci_hp should be list type\"\n",
    "assert(len(train_mean_hp)==len(train_ci_hp)), \\\n",
    "\"list length of mean and confidence interval are not equal(train)\"\n",
    "assert(len(test_mean_hp)==len(test_ci_hp)), \\\n",
    "\"list length of mean and confidence interval are not equal(test)\""
   ]
  },
  {
   "cell_type": "code",
   "execution_count": null,
   "metadata": {
    "collapsed": true
   },
   "outputs": [],
   "source": [
    "#dataSizeAC\n",
    "train_mean_ds, train_ci_ds, test_mean_ds, test_ci_ds\n",
    "assert(isinstance(train_mean_ds, list)), \"train_mean_ds should be list type\"\n",
    "assert(isinstance(test_mean_ds, list)), \"test_mean_ds should be list type\"\n",
    "assert(isinstance(train_ci_ds, list)), \"train_ci_ds should be list type\"\n",
    "assert(isinstance(test_ci_ds, list)), \"test_ci_ds should be list type\"\n",
    "assert(len(train_mean_ds)==len(train_ci_ds)), \\\n",
    "\"list length of mean and confidence interval are not equal(train)\"\n",
    "assert(len(test_mean_ds)==len(test_ci_ds)), \\\n",
    "\"list length of mean and confidence interval are not equal(test)\""
   ]
  },
  {
   "cell_type": "code",
   "execution_count": null,
   "metadata": {
    "collapsed": true
   },
   "outputs": [],
   "source": []
  }
 ],
 "metadata": {
  "kernelspec": {
   "display_name": "Python [default]",
   "language": "python",
   "name": "python3"
  },
  "language_info": {
   "codemirror_mode": {
    "name": "ipython",
    "version": 3
   },
   "file_extension": ".py",
   "mimetype": "text/x-python",
   "name": "python",
   "nbconvert_exporter": "python",
   "pygments_lexer": "ipython3",
   "version": "3.5.4"
  }
 },
 "nbformat": 4,
 "nbformat_minor": 2
}
